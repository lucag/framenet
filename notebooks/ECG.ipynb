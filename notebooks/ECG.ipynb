{
 "cells": [
  {
   "cell_type": "code",
   "execution_count": 1,
   "metadata": {
    "collapsed": false
   },
   "outputs": [],
   "source": [
    "from framenet import builder, ecg\n",
    "from itertools import chain \n",
    "\n",
    "fn, fnb = builder.build()"
   ]
  },
  {
   "cell_type": "code",
   "execution_count": 2,
   "metadata": {
    "collapsed": false
   },
   "outputs": [],
   "source": [
    "fs = fn.typesystem.toposort()"
   ]
  },
  {
   "cell_type": "code",
   "execution_count": 3,
   "metadata": {
    "collapsed": false
   },
   "outputs": [
    {
     "data": {
      "text/plain": [
       "[Frame(name=Event, ID=187, relations=[Is Inherited by: ['Change_of_consistency', 'Rotting', 'Process_resume', 'Process_start', 'Process_stop', 'Experience_bodily_harm', 'Becoming', 'Misdeed', 'Process_end', 'Intentionally_act', 'Coming_to_believe', 'Getting', 'Eventive_affecting', 'Process_pause', 'Waking_up', 'Ceasing_to_be', 'Go_into_shape', 'Objective_influence', 'Motion', 'Come_together', 'Birth_scenario', 'Coming_to_be', 'Change_position_on_a_scale', 'Coincidence', 'Traversing', 'Emergency', 'Losing_someone'], Is Used by: ['Participation', 'Preventing', 'Hindering', 'Frequency', 'Temporal_pattern', 'Locale_by_event', 'Manner'], Subframe of: ['Change_of_state_scenario'], Precedes: ['Change_of_state_endstate'], Is Preceded by: ['Change_of_state_initial_state']], elements=[FrameElement(frame_name=Event, name=Event, ID=1443, coreType=Core-Unexpressed, semtype=State_of_affairs), FrameElement(frame_name=Event, name=Place, ID=1444, coreType=Core, semtype=Locative_relation), FrameElement(frame_name=Event, name=Explanation, ID=1445, coreType=Extra-Thematic, semtype=State_of_affairs), FrameElement(frame_name=Event, name=Time, ID=1446, coreType=Core, semtype=Time), FrameElement(frame_name=Event, name=Duration, ID=4960, coreType=Extra-Thematic, semtype=Duration), FrameElement(frame_name=Event, name=Manner, ID=4961, coreType=Peripheral, semtype=Manner), FrameElement(frame_name=Event, name=Frequency, ID=4962, coreType=Extra-Thematic, semtype=None), FrameElement(frame_name=Event, name=Timespan, ID=16172, coreType=Extra-Thematic, semtype=None)]),\n",
       " Frame(name=Intentionally_act, ID=198, relations=[Inherits from: ['Event'], Is Inherited by: ['Name_conferral', 'Intentionally_affect', 'Avoiding', 'Intentionally_create', 'Ingest_substance', 'Choosing', 'Self_motion', 'Perception_active', 'Activity_finish', 'Practice', 'Heralding', 'Get_a_job', 'Quitting', 'Clemency', 'Exchange', 'Change_tool', 'Resolve_problem', 'Intercepting', 'Forming_relationships', 'Collaboration', 'Change_posture', 'Bail_decision', 'Assistance', 'Atonement', 'Daring', 'Execute_plan', 'Becoming_a_member', 'Giving', 'Front_for', 'Examination', 'Piracy', 'Passing_off', 'Hostile_encounter', 'Visiting', 'Confronting_problem', 'Legal_rulings', 'Working_a_post', 'Military_operation', 'Assemble', 'Attempting_scenario', 'Attending', 'Exercising', 'Contacting'], Is Used by: ['Competition', 'Bungling', 'Rite', 'Conduct', 'Accomplishment', 'Reason', 'Assistance', 'Deciding', 'Remembering_to_do', 'Waiting', 'Subjective_influence', 'Experience_bodily_harm', 'Responsibility']], elements=[FrameElement(frame_name=Intentionally_act, name=Act, ID=1609, coreType=Core-Unexpressed, semtype=State_of_affairs), FrameElement(frame_name=Intentionally_act, name=Agent, ID=1610, coreType=Core, semtype=Sentient), FrameElement(frame_name=Intentionally_act, name=Place, ID=1613, coreType=Peripheral, semtype=Locative_relation), FrameElement(frame_name=Intentionally_act, name=Purpose, ID=1614, coreType=Peripheral, semtype=State_of_affairs), FrameElement(frame_name=Intentionally_act, name=Time, ID=1616, coreType=Peripheral, semtype=Time), FrameElement(frame_name=Intentionally_act, name=Means, ID=2573, coreType=Peripheral, semtype=State_of_affairs), FrameElement(frame_name=Intentionally_act, name=Manner, ID=2574, coreType=Peripheral, semtype=Manner), FrameElement(frame_name=Intentionally_act, name=Domain, ID=7982, coreType=Extra-Thematic, semtype=None), FrameElement(frame_name=Intentionally_act, name=Frequency, ID=7983, coreType=Extra-Thematic, semtype=None), FrameElement(frame_name=Intentionally_act, name=Period_of_iterations, ID=11078, coreType=Extra-Thematic, semtype=None), FrameElement(frame_name=Intentionally_act, name=Result, ID=11079, coreType=Extra-Thematic, semtype=None), FrameElement(frame_name=Intentionally_act, name=Particular_iteration, ID=11863, coreType=Extra-Thematic, semtype=None), FrameElement(frame_name=Intentionally_act, name=Explanation, ID=11991, coreType=Extra-Thematic, semtype=None), FrameElement(frame_name=Intentionally_act, name=Event_description, ID=12001, coreType=Extra-Thematic, semtype=None)])]"
      ]
     },
     "execution_count": 3,
     "metadata": {},
     "output_type": "execute_result"
    }
   ],
   "source": [
    "fs[0:2]"
   ]
  },
  {
   "cell_type": "code",
   "execution_count": 4,
   "metadata": {
    "collapsed": false
   },
   "outputs": [
    {
     "data": {
      "text/plain": [
       "[('Event', [], []), ('Intentionally_act', ['Event'], [])]"
      ]
     },
     "execution_count": 4,
     "metadata": {},
     "output_type": "execute_result"
    }
   ],
   "source": [
    "[(f.name, f.parents, f.children) for f in fs[:2]]"
   ]
  },
  {
   "cell_type": "code",
   "execution_count": 5,
   "metadata": {
    "collapsed": false
   },
   "outputs": [
    {
     "data": {
      "text/plain": [
       "[('State', []),\n",
       " ('Relation', []),\n",
       " ('Trajector-Landmark', ['Relation']),\n",
       " ('Locative_relation', ['State', 'Trajector-Landmark']),\n",
       " ('Abounding_with', ['Locative_relation'])]"
      ]
     },
     "execution_count": 5,
     "metadata": {},
     "output_type": "execute_result"
    }
   ],
   "source": [
    "aa = fn.typesystem.get_ancestors(fs[10])\n",
    "[(a.name, a.parents) for a in aa]"
   ]
  },
  {
   "cell_type": "code",
   "execution_count": 9,
   "metadata": {
    "collapsed": false
   },
   "outputs": [],
   "source": [
    "import pandas as pd\n",
    "import qgrid\n",
    "\n",
    "from itertools                import chain\n",
    "from framenet.util            import aget, curry, flatten, force, take, dfs_iterator, flatmap\n",
    "from framenet.ecg.generation  import frame_element_relations, frames\n",
    "from pprint                   import pprint, pformat\n",
    "\n",
    "def diff(xs, ys):\n",
    "    return [x for x in xs if x not in ys]\n",
    "\n",
    "def incl(xs, ys):\n",
    "    return [(x, x in ys) for x in xs]\n",
    "\n",
    "fmt   = aget('name', 'coreType', 'frame', default='<unk>')\n",
    "names = lambda es: [e.name for e in es]\n",
    "\n",
    "@curry\n",
    "def inherited(frame):\n",
    "    return [r for r in frame.fe_relations \n",
    "            if r.subFrame == frame.name and r.name.startswith('Inh')]\n",
    "\n",
    "@curry\n",
    "def inherited_fes(fn, fers, frame):\n",
    "    \"\"\"Returns inherited FE IDs using FE relations.\n",
    "    \"\"\"\n",
    "    return [(fer['supID'], fer['relationSupID']) \n",
    "            for fer in fers \n",
    "            if fer['relationType'] == 'Inheritance' \n",
    "               and fer['relationSubID'] == frame.ID]\n",
    "    \n",
    "ancestors = fn.typesystem.get_ancestors\n",
    "\n",
    "def unique(xs):\n",
    "    marked = set()\n",
    "    ys = []\n",
    "    for x in xs:\n",
    "        if x not in marked:\n",
    "            ys.append(x)\n",
    "            marked.add(x)\n",
    "    return ys\n",
    "\n",
    "@curry\n",
    "def inherited_elements(src_frames):\n",
    "    return unique(flatten(p.elements for p in src_frames))\n",
    "\n",
    "@curry\n",
    "def fe_parents(fers, feID):\n",
    "    return fers[fers.subID == feID] \n",
    "\n",
    "@curry\n",
    "def fe_ancestors(fers, feID):\n",
    "    return dfs_iterator(set(), fe_parents(fers), lambda fe: fe.ID, feID)\n",
    "    \n",
    "@curry\n",
    "def inherited_elements2(fers, src_frames):\n",
    "    pp = fe_parents(fers)\n",
    "    return unique(flatten(pp(fe) for fe in src_frames))"
   ]
  },
  {
   "cell_type": "code",
   "execution_count": 10,
   "metadata": {
    "collapsed": false
   },
   "outputs": [],
   "source": [
    "fers = pd.DataFrame(frame_element_relations())\n",
    "qgrid.show_grid(fers, grid_options={'forceFitColumns': False, 'defaultColumnWidth': 200})"
   ]
  },
  {
   "cell_type": "code",
   "execution_count": 11,
   "metadata": {
    "collapsed": false,
    "scrolled": false
   },
   "outputs": [
    {
     "data": {
      "text/html": [
       "<div>\n",
       "<table border=\"1\" class=\"dataframe\">\n",
       "  <thead>\n",
       "    <tr style=\"text-align: right;\">\n",
       "      <th></th>\n",
       "      <th>0</th>\n",
       "      <th>1</th>\n",
       "      <th>2</th>\n",
       "    </tr>\n",
       "  </thead>\n",
       "  <tbody>\n",
       "    <tr>\n",
       "      <th>0</th>\n",
       "      <td>Event</td>\n",
       "      <td>Core-Unexpressed</td>\n",
       "      <td>Event</td>\n",
       "    </tr>\n",
       "    <tr>\n",
       "      <th>1</th>\n",
       "      <td>Place</td>\n",
       "      <td>Core</td>\n",
       "      <td>None</td>\n",
       "    </tr>\n",
       "    <tr>\n",
       "      <th>2</th>\n",
       "      <td>Explanation</td>\n",
       "      <td>Extra-Thematic</td>\n",
       "      <td>None</td>\n",
       "    </tr>\n",
       "    <tr>\n",
       "      <th>3</th>\n",
       "      <td>Time</td>\n",
       "      <td>Core</td>\n",
       "      <td>None</td>\n",
       "    </tr>\n",
       "    <tr>\n",
       "      <th>4</th>\n",
       "      <td>Duration</td>\n",
       "      <td>Extra-Thematic</td>\n",
       "      <td>None</td>\n",
       "    </tr>\n",
       "    <tr>\n",
       "      <th>5</th>\n",
       "      <td>Manner</td>\n",
       "      <td>Peripheral</td>\n",
       "      <td>Manner</td>\n",
       "    </tr>\n",
       "    <tr>\n",
       "      <th>6</th>\n",
       "      <td>Frequency</td>\n",
       "      <td>Extra-Thematic</td>\n",
       "      <td>Frequency</td>\n",
       "    </tr>\n",
       "    <tr>\n",
       "      <th>7</th>\n",
       "      <td>Timespan</td>\n",
       "      <td>Extra-Thematic</td>\n",
       "      <td>Timespan</td>\n",
       "    </tr>\n",
       "    <tr>\n",
       "      <th>8</th>\n",
       "      <td>Influencing_entity</td>\n",
       "      <td>Core</td>\n",
       "      <td>None</td>\n",
       "    </tr>\n",
       "    <tr>\n",
       "      <th>9</th>\n",
       "      <td>Dependent_entity</td>\n",
       "      <td>Core</td>\n",
       "      <td>None</td>\n",
       "    </tr>\n",
       "    <tr>\n",
       "      <th>10</th>\n",
       "      <td>Influencing_variable</td>\n",
       "      <td>Core-Unexpressed</td>\n",
       "      <td>None</td>\n",
       "    </tr>\n",
       "    <tr>\n",
       "      <th>11</th>\n",
       "      <td>Dependent_situation</td>\n",
       "      <td>Core-Unexpressed</td>\n",
       "      <td>None</td>\n",
       "    </tr>\n",
       "    <tr>\n",
       "      <th>12</th>\n",
       "      <td>Dependent_variable</td>\n",
       "      <td>Core-Unexpressed</td>\n",
       "      <td>None</td>\n",
       "    </tr>\n",
       "    <tr>\n",
       "      <th>13</th>\n",
       "      <td>Influencing_situation</td>\n",
       "      <td>Core-Unexpressed</td>\n",
       "      <td>None</td>\n",
       "    </tr>\n",
       "    <tr>\n",
       "      <th>14</th>\n",
       "      <td>Degree</td>\n",
       "      <td>Core-Unexpressed</td>\n",
       "      <td>Degree</td>\n",
       "    </tr>\n",
       "    <tr>\n",
       "      <th>15</th>\n",
       "      <td>Time</td>\n",
       "      <td>Peripheral</td>\n",
       "      <td>None</td>\n",
       "    </tr>\n",
       "    <tr>\n",
       "      <th>16</th>\n",
       "      <td>Place</td>\n",
       "      <td>Peripheral</td>\n",
       "      <td>None</td>\n",
       "    </tr>\n",
       "    <tr>\n",
       "      <th>17</th>\n",
       "      <td>Manner</td>\n",
       "      <td>Peripheral</td>\n",
       "      <td>Manner</td>\n",
       "    </tr>\n",
       "    <tr>\n",
       "      <th>18</th>\n",
       "      <td>Circumstances</td>\n",
       "      <td>Extra-Thematic</td>\n",
       "      <td>None</td>\n",
       "    </tr>\n",
       "    <tr>\n",
       "      <th>19</th>\n",
       "      <td>Descriptor</td>\n",
       "      <td>Extra-Thematic</td>\n",
       "      <td>None</td>\n",
       "    </tr>\n",
       "    <tr>\n",
       "      <th>20</th>\n",
       "      <td>Agent</td>\n",
       "      <td>Core</td>\n",
       "      <td>None</td>\n",
       "    </tr>\n",
       "    <tr>\n",
       "      <th>21</th>\n",
       "      <td>Patient</td>\n",
       "      <td>Core</td>\n",
       "      <td>None</td>\n",
       "    </tr>\n",
       "    <tr>\n",
       "      <th>22</th>\n",
       "      <td>Event</td>\n",
       "      <td>Core-Unexpressed</td>\n",
       "      <td>Event</td>\n",
       "    </tr>\n",
       "    <tr>\n",
       "      <th>23</th>\n",
       "      <td>Depictive</td>\n",
       "      <td>Extra-Thematic</td>\n",
       "      <td>None</td>\n",
       "    </tr>\n",
       "    <tr>\n",
       "      <th>24</th>\n",
       "      <td>Result</td>\n",
       "      <td>Extra-Thematic</td>\n",
       "      <td>None</td>\n",
       "    </tr>\n",
       "    <tr>\n",
       "      <th>25</th>\n",
       "      <td>Means</td>\n",
       "      <td>Peripheral</td>\n",
       "      <td>Means</td>\n",
       "    </tr>\n",
       "    <tr>\n",
       "      <th>26</th>\n",
       "      <td>Manner</td>\n",
       "      <td>Peripheral</td>\n",
       "      <td>Manner</td>\n",
       "    </tr>\n",
       "    <tr>\n",
       "      <th>27</th>\n",
       "      <td>Time</td>\n",
       "      <td>Peripheral</td>\n",
       "      <td>None</td>\n",
       "    </tr>\n",
       "    <tr>\n",
       "      <th>28</th>\n",
       "      <td>Place</td>\n",
       "      <td>Peripheral</td>\n",
       "      <td>None</td>\n",
       "    </tr>\n",
       "    <tr>\n",
       "      <th>29</th>\n",
       "      <td>Cause</td>\n",
       "      <td>Core-Unexpressed</td>\n",
       "      <td>None</td>\n",
       "    </tr>\n",
       "    <tr>\n",
       "      <th>30</th>\n",
       "      <td>Agent</td>\n",
       "      <td>Core</td>\n",
       "      <td>None</td>\n",
       "    </tr>\n",
       "    <tr>\n",
       "      <th>31</th>\n",
       "      <td>Theme</td>\n",
       "      <td>Core</td>\n",
       "      <td>None</td>\n",
       "    </tr>\n",
       "    <tr>\n",
       "      <th>32</th>\n",
       "      <td>Source</td>\n",
       "      <td>Core</td>\n",
       "      <td>None</td>\n",
       "    </tr>\n",
       "    <tr>\n",
       "      <th>33</th>\n",
       "      <td>Path</td>\n",
       "      <td>Core</td>\n",
       "      <td>None</td>\n",
       "    </tr>\n",
       "    <tr>\n",
       "      <th>34</th>\n",
       "      <td>Goal</td>\n",
       "      <td>Core</td>\n",
       "      <td>Goal</td>\n",
       "    </tr>\n",
       "    <tr>\n",
       "      <th>35</th>\n",
       "      <td>Distance</td>\n",
       "      <td>Peripheral</td>\n",
       "      <td>None</td>\n",
       "    </tr>\n",
       "    <tr>\n",
       "      <th>36</th>\n",
       "      <td>Area</td>\n",
       "      <td>Core</td>\n",
       "      <td>None</td>\n",
       "    </tr>\n",
       "    <tr>\n",
       "      <th>37</th>\n",
       "      <td>Depictive</td>\n",
       "      <td>Extra-Thematic</td>\n",
       "      <td>None</td>\n",
       "    </tr>\n",
       "    <tr>\n",
       "      <th>38</th>\n",
       "      <td>Degree</td>\n",
       "      <td>Extra-Thematic</td>\n",
       "      <td>Degree</td>\n",
       "    </tr>\n",
       "    <tr>\n",
       "      <th>39</th>\n",
       "      <td>Means</td>\n",
       "      <td>Peripheral</td>\n",
       "      <td>Means</td>\n",
       "    </tr>\n",
       "    <tr>\n",
       "      <th>40</th>\n",
       "      <td>Manner</td>\n",
       "      <td>Peripheral</td>\n",
       "      <td>Manner</td>\n",
       "    </tr>\n",
       "    <tr>\n",
       "      <th>41</th>\n",
       "      <td>Subregion</td>\n",
       "      <td>Extra-Thematic</td>\n",
       "      <td>None</td>\n",
       "    </tr>\n",
       "    <tr>\n",
       "      <th>42</th>\n",
       "      <td>Cause</td>\n",
       "      <td>Core</td>\n",
       "      <td>None</td>\n",
       "    </tr>\n",
       "    <tr>\n",
       "      <th>43</th>\n",
       "      <td>Instrument</td>\n",
       "      <td>Peripheral</td>\n",
       "      <td>None</td>\n",
       "    </tr>\n",
       "    <tr>\n",
       "      <th>44</th>\n",
       "      <td>Place</td>\n",
       "      <td>Peripheral</td>\n",
       "      <td>None</td>\n",
       "    </tr>\n",
       "    <tr>\n",
       "      <th>45</th>\n",
       "      <td>Time</td>\n",
       "      <td>Peripheral</td>\n",
       "      <td>None</td>\n",
       "    </tr>\n",
       "    <tr>\n",
       "      <th>46</th>\n",
       "      <td>Result</td>\n",
       "      <td>Core</td>\n",
       "      <td>None</td>\n",
       "    </tr>\n",
       "    <tr>\n",
       "      <th>47</th>\n",
       "      <td>Handle</td>\n",
       "      <td>Extra-Thematic</td>\n",
       "      <td>None</td>\n",
       "    </tr>\n",
       "    <tr>\n",
       "      <th>48</th>\n",
       "      <td>Initial_state</td>\n",
       "      <td>Core</td>\n",
       "      <td>None</td>\n",
       "    </tr>\n",
       "    <tr>\n",
       "      <th>49</th>\n",
       "      <td>Explanation</td>\n",
       "      <td>Extra-Thematic</td>\n",
       "      <td>None</td>\n",
       "    </tr>\n",
       "  </tbody>\n",
       "</table>\n",
       "</div>"
      ],
      "text/plain": [
       "                        0                 1          2\n",
       "0                   Event  Core-Unexpressed      Event\n",
       "1                   Place              Core       None\n",
       "2             Explanation    Extra-Thematic       None\n",
       "3                    Time              Core       None\n",
       "4                Duration    Extra-Thematic       None\n",
       "5                  Manner        Peripheral     Manner\n",
       "6               Frequency    Extra-Thematic  Frequency\n",
       "7                Timespan    Extra-Thematic   Timespan\n",
       "8      Influencing_entity              Core       None\n",
       "9        Dependent_entity              Core       None\n",
       "10   Influencing_variable  Core-Unexpressed       None\n",
       "11    Dependent_situation  Core-Unexpressed       None\n",
       "12     Dependent_variable  Core-Unexpressed       None\n",
       "13  Influencing_situation  Core-Unexpressed       None\n",
       "14                 Degree  Core-Unexpressed     Degree\n",
       "15                   Time        Peripheral       None\n",
       "16                  Place        Peripheral       None\n",
       "17                 Manner        Peripheral     Manner\n",
       "18          Circumstances    Extra-Thematic       None\n",
       "19             Descriptor    Extra-Thematic       None\n",
       "20                  Agent              Core       None\n",
       "21                Patient              Core       None\n",
       "22                  Event  Core-Unexpressed      Event\n",
       "23              Depictive    Extra-Thematic       None\n",
       "24                 Result    Extra-Thematic       None\n",
       "25                  Means        Peripheral      Means\n",
       "26                 Manner        Peripheral     Manner\n",
       "27                   Time        Peripheral       None\n",
       "28                  Place        Peripheral       None\n",
       "29                  Cause  Core-Unexpressed       None\n",
       "30                  Agent              Core       None\n",
       "31                  Theme              Core       None\n",
       "32                 Source              Core       None\n",
       "33                   Path              Core       None\n",
       "34                   Goal              Core       Goal\n",
       "35               Distance        Peripheral       None\n",
       "36                   Area              Core       None\n",
       "37              Depictive    Extra-Thematic       None\n",
       "38                 Degree    Extra-Thematic     Degree\n",
       "39                  Means        Peripheral      Means\n",
       "40                 Manner        Peripheral     Manner\n",
       "41              Subregion    Extra-Thematic       None\n",
       "42                  Cause              Core       None\n",
       "43             Instrument        Peripheral       None\n",
       "44                  Place        Peripheral       None\n",
       "45                   Time        Peripheral       None\n",
       "46                 Result              Core       None\n",
       "47                 Handle    Extra-Thematic       None\n",
       "48          Initial_state              Core       None\n",
       "49            Explanation    Extra-Thematic       None"
      ]
     },
     "execution_count": 11,
     "metadata": {},
     "output_type": "execute_result"
    }
   ],
   "source": [
    "motion_ancestors = fn.typesystem.get_ancestors(fn.get_frame('Cause_motion'))\n",
    "es = inherited_elements(motion_ancestors)\n",
    "pd.DataFrame([fmt(e) for e in es])"
   ]
  },
  {
   "cell_type": "code",
   "execution_count": 12,
   "metadata": {
    "collapsed": false
   },
   "outputs": [
    {
     "data": {
      "text/html": [
       "<div>\n",
       "<table border=\"1\" class=\"dataframe\">\n",
       "  <thead>\n",
       "    <tr style=\"text-align: right;\">\n",
       "      <th></th>\n",
       "      <th>ID</th>\n",
       "      <th>relationID</th>\n",
       "      <th>relationSubFrameName</th>\n",
       "      <th>relationSubID</th>\n",
       "      <th>relationSupID</th>\n",
       "      <th>relationSuperFrameName</th>\n",
       "      <th>relationType</th>\n",
       "      <th>subFEName</th>\n",
       "      <th>subID</th>\n",
       "      <th>supID</th>\n",
       "      <th>superFEName</th>\n",
       "    </tr>\n",
       "  </thead>\n",
       "  <tbody>\n",
       "  </tbody>\n",
       "</table>\n",
       "</div>"
      ],
      "text/plain": [
       "Empty DataFrame\n",
       "Columns: [ID, relationID, relationSubFrameName, relationSubID, relationSupID, relationSuperFrameName, relationType, subFEName, subID, supID, superFEName]\n",
       "Index: []"
      ]
     },
     "execution_count": 12,
     "metadata": {},
     "output_type": "execute_result"
    }
   ],
   "source": [
    "fers[fers.subID == 1610]"
   ]
  },
  {
   "cell_type": "code",
   "execution_count": 13,
   "metadata": {
    "collapsed": false
   },
   "outputs": [
    {
     "name": "stdout",
     "output_type": "stream",
     "text": [
      "5\n",
      "['Frequency', 'Manner', 'Place', 'Time', 'Event']\n"
     ]
    },
    {
     "data": {
      "text/plain": [
       "[FrameElement(frame_name=Event, name=Event, ID=1443, coreType=Core-Unexpressed, semtype=State_of_affairs),\n",
       " FrameElement(frame_name=Event, name=Place, ID=1444, coreType=Core, semtype=Locative_relation),\n",
       " FrameElement(frame_name=Event, name=Explanation, ID=1445, coreType=Extra-Thematic, semtype=State_of_affairs),\n",
       " FrameElement(frame_name=Event, name=Time, ID=1446, coreType=Core, semtype=Time),\n",
       " FrameElement(frame_name=Event, name=Duration, ID=4960, coreType=Extra-Thematic, semtype=Duration),\n",
       " FrameElement(frame_name=Event, name=Manner, ID=4961, coreType=Peripheral, semtype=Manner),\n",
       " FrameElement(frame_name=Event, name=Frequency, ID=4962, coreType=Extra-Thematic, semtype=None),\n",
       " FrameElement(frame_name=Event, name=Timespan, ID=16172, coreType=Extra-Thematic, semtype=None)]"
      ]
     },
     "execution_count": 13,
     "metadata": {},
     "output_type": "execute_result"
    }
   ],
   "source": [
    "fes = list(frames())\n",
    "fes_df = pd.DataFrame(list(fes))\n",
    "\n",
    "# import qgrid\n",
    "# qgrid.show_grid(fes_df)\n",
    "\n",
    "fe_by_ID = {fe['ID']: fe for fe in fes}\n",
    "\n",
    "ii1 = inherited_fes(fn, frame_element_relations(), fs[1])\n",
    "print(len(ii1))\n",
    "pprint([fe_by_ID[i]['name'] for i, _ in ii1])\n",
    "inherited_elements(fs[1].get_parents(fn))"
   ]
  },
  {
   "cell_type": "code",
   "execution_count": 14,
   "metadata": {
    "collapsed": false
   },
   "outputs": [
    {
     "ename": "AttributeError",
     "evalue": "'list' object has no attribute 'subID'",
     "output_type": "error",
     "traceback": [
      "\u001b[0;31m---------------------------------------------------------------------------\u001b[0m",
      "\u001b[0;31mAttributeError\u001b[0m                            Traceback (most recent call last)",
      "\u001b[0;32m<ipython-input-14-8a849a14979e>\u001b[0m in \u001b[0;36m<module>\u001b[0;34m()\u001b[0m\n\u001b[1;32m      1\u001b[0m \u001b[0mpp\u001b[0m \u001b[0;34m=\u001b[0m \u001b[0mfe_parents\u001b[0m\u001b[0;34m(\u001b[0m\u001b[0mframe_element_relations\u001b[0m\u001b[0;34m(\u001b[0m\u001b[0;34m)\u001b[0m\u001b[0;34m)\u001b[0m\u001b[0;34m\u001b[0m\u001b[0m\n\u001b[0;32m----> 2\u001b[0;31m \u001b[0minherited_elements2\u001b[0m\u001b[0;34m(\u001b[0m\u001b[0mfe_by_ID\u001b[0m\u001b[0;34m[\u001b[0m\u001b[0;36m198\u001b[0m\u001b[0;34m]\u001b[0m\u001b[0;34m,\u001b[0m \u001b[0mpp\u001b[0m\u001b[0;34m(\u001b[0m\u001b[0mfe_by_ID\u001b[0m\u001b[0;34m[\u001b[0m\u001b[0;36m198\u001b[0m\u001b[0;34m]\u001b[0m\u001b[0;34m)\u001b[0m\u001b[0;34m)\u001b[0m\u001b[0;34m\u001b[0m\u001b[0m\n\u001b[0m",
      "\u001b[0;32m/Users/lucag/Documents/Sources/framenet/framenet/util.py\u001b[0m in \u001b[0;36m_partial\u001b[0;34m(*args2, **kwargs2)\u001b[0m\n\u001b[1;32m     61\u001b[0m                 \u001b[0;31m# print('kwargs:', kwargs, 'kwargs2:', kwargs2)\u001b[0m\u001b[0;34m\u001b[0m\u001b[0;34m\u001b[0m\u001b[0m\n\u001b[1;32m     62\u001b[0m                 \u001b[0;31m# print('_curried', inspect.signature(_curried))\u001b[0m\u001b[0;34m\u001b[0m\u001b[0;34m\u001b[0m\u001b[0m\n\u001b[0;32m---> 63\u001b[0;31m                 \u001b[0;32mreturn\u001b[0m \u001b[0m_curried\u001b[0m\u001b[0;34m(\u001b[0m\u001b[0;34m*\u001b[0m\u001b[0;34m(\u001b[0m\u001b[0margs\u001b[0m \u001b[0;34m+\u001b[0m \u001b[0margs2\u001b[0m\u001b[0;34m)\u001b[0m\u001b[0;34m,\u001b[0m \u001b[0;34m**\u001b[0m\u001b[0mdict\u001b[0m\u001b[0;34m(\u001b[0m\u001b[0mkw\u001b[0m\u001b[0;34m,\u001b[0m \u001b[0;34m**\u001b[0m\u001b[0mkwargs2\u001b[0m\u001b[0;34m)\u001b[0m\u001b[0;34m)\u001b[0m\u001b[0;34m\u001b[0m\u001b[0m\n\u001b[0m\u001b[1;32m     64\u001b[0m \u001b[0;34m\u001b[0m\u001b[0m\n\u001b[1;32m     65\u001b[0m             \u001b[0;32mreturn\u001b[0m \u001b[0m_partial\u001b[0m\u001b[0;34m\u001b[0m\u001b[0m\n",
      "\u001b[0;32m/Users/lucag/Documents/Sources/framenet/framenet/util.py\u001b[0m in \u001b[0;36m_curried\u001b[0;34m(*args, **kw)\u001b[0m\n\u001b[1;32m     54\u001b[0m         \u001b[0;32mif\u001b[0m \u001b[0mlen\u001b[0m\u001b[0;34m(\u001b[0m\u001b[0margs\u001b[0m\u001b[0;34m)\u001b[0m \u001b[0;34m+\u001b[0m \u001b[0mlen\u001b[0m\u001b[0;34m(\u001b[0m\u001b[0mkw\u001b[0m\u001b[0;34m)\u001b[0m \u001b[0;34m>=\u001b[0m \u001b[0mfunc\u001b[0m\u001b[0;34m.\u001b[0m\u001b[0m__code__\u001b[0m\u001b[0;34m.\u001b[0m\u001b[0mco_argcount\u001b[0m\u001b[0;34m:\u001b[0m\u001b[0;34m\u001b[0m\u001b[0m\n\u001b[1;32m     55\u001b[0m             \u001b[0;31m# print('args:', args, 'kwargs:', kwargs)\u001b[0m\u001b[0;34m\u001b[0m\u001b[0;34m\u001b[0m\u001b[0m\n\u001b[0;32m---> 56\u001b[0;31m             \u001b[0;32mreturn\u001b[0m \u001b[0mfunc\u001b[0m\u001b[0;34m(\u001b[0m\u001b[0;34m*\u001b[0m\u001b[0margs\u001b[0m\u001b[0;34m,\u001b[0m \u001b[0;34m**\u001b[0m\u001b[0mkw\u001b[0m\u001b[0;34m)\u001b[0m\u001b[0;34m\u001b[0m\u001b[0m\n\u001b[0m\u001b[1;32m     57\u001b[0m         \u001b[0;32melse\u001b[0m\u001b[0;34m:\u001b[0m\u001b[0;34m\u001b[0m\u001b[0m\n\u001b[1;32m     58\u001b[0m             \u001b[0;31m# return _partial(func, *args, **kwargs)\u001b[0m\u001b[0;34m\u001b[0m\u001b[0;34m\u001b[0m\u001b[0m\n",
      "\u001b[0;32m<ipython-input-9-12ad619a9707>\u001b[0m in \u001b[0;36mfe_parents\u001b[0;34m(fers, feID)\u001b[0m\n\u001b[1;32m     47\u001b[0m \u001b[0;34m@\u001b[0m\u001b[0mcurry\u001b[0m\u001b[0;34m\u001b[0m\u001b[0m\n\u001b[1;32m     48\u001b[0m \u001b[0;32mdef\u001b[0m \u001b[0mfe_parents\u001b[0m\u001b[0;34m(\u001b[0m\u001b[0mfers\u001b[0m\u001b[0;34m,\u001b[0m \u001b[0mfeID\u001b[0m\u001b[0;34m)\u001b[0m\u001b[0;34m:\u001b[0m\u001b[0;34m\u001b[0m\u001b[0m\n\u001b[0;32m---> 49\u001b[0;31m     \u001b[0;32mreturn\u001b[0m \u001b[0mfers\u001b[0m\u001b[0;34m[\u001b[0m\u001b[0mfers\u001b[0m\u001b[0;34m.\u001b[0m\u001b[0msubID\u001b[0m \u001b[0;34m==\u001b[0m \u001b[0mfeID\u001b[0m\u001b[0;34m]\u001b[0m\u001b[0;34m\u001b[0m\u001b[0m\n\u001b[0m\u001b[1;32m     50\u001b[0m \u001b[0;34m\u001b[0m\u001b[0m\n\u001b[1;32m     51\u001b[0m \u001b[0;34m@\u001b[0m\u001b[0mcurry\u001b[0m\u001b[0;34m\u001b[0m\u001b[0m\n",
      "\u001b[0;31mAttributeError\u001b[0m: 'list' object has no attribute 'subID'"
     ]
    }
   ],
   "source": [
    "pp = fe_parents(frame_element_relations())\n",
    "inherited_elements2(fe_by_ID[198], pp(fe_by_ID[198]))"
   ]
  },
  {
   "cell_type": "code",
   "execution_count": null,
   "metadata": {
    "collapsed": false
   },
   "outputs": [],
   "source": [
    "ee1 = fn.get_frame_from_id(198).elements\n",
    "print(len(ee1))\n",
    "pprint(fn.get_frame('Event').elements)\n",
    "ee1"
   ]
  },
  {
   "cell_type": "code",
   "execution_count": null,
   "metadata": {
    "collapsed": false
   },
   "outputs": [],
   "source": [
    "ancestors(frame_element_relations(), fe_by_ID['11991'])"
   ]
  },
  {
   "cell_type": "code",
   "execution_count": null,
   "metadata": {
    "collapsed": false
   },
   "outputs": [],
   "source": [
    "# pprint(fs[1].elements)\n",
    "pprint(inherited(fs[1]))\n",
    "pprint(inherited_elements(fs[1], fs[1].get_parents(fn)))"
   ]
  },
  {
   "cell_type": "markdown",
   "metadata": {},
   "source": [
    "## <u>To do</u>\n",
    "\n",
    "1. Do this for `Cause_motion` (and `Fluidic_motion`)\n",
    "1. `FE` <--> `FE` relations for `Transive_action`, `Cause_motion`, `Fluidic_motion`, `Passing` \n",
    "1. ECG schema for `Cause_motion`\n",
    "1. There is no 4th thing! :-D"
   ]
  },
  {
   "cell_type": "code",
   "execution_count": null,
   "metadata": {
    "collapsed": false
   },
   "outputs": [],
   "source": [
    "def check(fn, i, frame):\n",
    "    ancestors     = fn.typesystem.get_ancestors\n",
    "    inherited_es  = set(flatten(p.elements for p in ancestors(frame)))\n",
    "    elements      = set(frame.elements)\n",
    "    \n",
    "    d1            = incl(inherited_es, elements)\n",
    "    not_in        = [(e.name, inherited(frame, e)) for e, in_ in d1 if not in_]\n",
    "    assert not not_in, '%s (%d):\\n%s' % (frame.name, i, pformat(not_in))\n",
    "    \n",
    "#     d2 = [fmt(e) for e in diff(ns, all_elements)]\n",
    "#     assert not d1, '%s [%d]: in ancestors, but not in frame: %s' % (frame.name, i, pformat(d1))\n",
    "#     assert not d2, '%s [%d]: in frame, but not in ancestors: %s' % (frame.name, i, pformat(d2))\n",
    "    return not not_in #and not d2"
   ]
  },
  {
   "cell_type": "code",
   "execution_count": null,
   "metadata": {
    "collapsed": false
   },
   "outputs": [],
   "source": [
    "all(check(fn, i, fr) for i, fr in enumerate(fs))"
   ]
  },
  {
   "cell_type": "code",
   "execution_count": null,
   "metadata": {
    "collapsed": false
   },
   "outputs": [],
   "source": [
    "list(fn.typesystem.get_ancestors(fs[4]))"
   ]
  },
  {
   "cell_type": "code",
   "execution_count": null,
   "metadata": {
    "collapsed": false
   },
   "outputs": [],
   "source": [
    "rr = [r for r in fs[4].fe_relations]\n",
    "print(len(rr))\n",
    "print(fs[4].name, fs[4].parents)\n",
    "print(fs[4].name)\n",
    "rr"
   ]
  },
  {
   "cell_type": "code",
   "execution_count": null,
   "metadata": {
    "collapsed": false
   },
   "outputs": [],
   "source": [
    "sorted(inherited_elements(fs[4], ancestors(fs[4])), key=lambda e: (e.frame_name, e.name)) "
   ]
  },
  {
   "cell_type": "code",
   "execution_count": null,
   "metadata": {
    "collapsed": false
   },
   "outputs": [],
   "source": [
    "pp = list(fs[4].get_parents(fn))"
   ]
  },
  {
   "cell_type": "code",
   "execution_count": null,
   "metadata": {
    "collapsed": false
   },
   "outputs": [],
   "source": [
    "pp[0].elements"
   ]
  },
  {
   "cell_type": "code",
   "execution_count": null,
   "metadata": {
    "collapsed": true
   },
   "outputs": [],
   "source": [
    "fs[4].elements.count"
   ]
  },
  {
   "cell_type": "code",
   "execution_count": null,
   "metadata": {
    "collapsed": false
   },
   "outputs": [],
   "source": [
    "[(e.name, e.coreType, name(e.semtype), e.frame) \n",
    " for e in fs[4].elements]"
   ]
  },
  {
   "cell_type": "code",
   "execution_count": null,
   "metadata": {
    "collapsed": false
   },
   "outputs": [],
   "source": [
    "[(a.name, [fmt(e) for e in a.elements]) for a in fn.typesystem.get_ancestors(fs[4])]"
   ]
  },
  {
   "cell_type": "code",
   "execution_count": null,
   "metadata": {
    "collapsed": false
   },
   "outputs": [],
   "source": [
    "[e for e in fs[1].elements if e not in fs[0].elements]"
   ]
  },
  {
   "cell_type": "code",
   "execution_count": null,
   "metadata": {
    "collapsed": false
   },
   "outputs": [],
   "source": [
    "[(r.fe1, r.name, r.fe2) for r in fs[4].fe_relations]"
   ]
  },
  {
   "cell_type": "code",
   "execution_count": null,
   "metadata": {
    "collapsed": false
   },
   "outputs": [],
   "source": [
    "fs[4].fe_relations[0].subFrame"
   ]
  },
  {
   "cell_type": "code",
   "execution_count": null,
   "metadata": {
    "collapsed": false
   },
   "outputs": [],
   "source": [
    "[e for e in fs[2].elements]"
   ]
  },
  {
   "cell_type": "code",
   "execution_count": null,
   "metadata": {
    "collapsed": false
   },
   "outputs": [],
   "source": [
    "fnb.build_lus_for_frame(fs[2].name, fn)"
   ]
  },
  {
   "cell_type": "code",
   "execution_count": null,
   "metadata": {
    "collapsed": false
   },
   "outputs": [],
   "source": [
    "fs[2].individual_valences[0].__class__.__name__"
   ]
  },
  {
   "cell_type": "code",
   "execution_count": null,
   "metadata": {
    "collapsed": false
   },
   "outputs": [],
   "source": [
    "fs[2].fe_realizations[0].lexeme"
   ]
  },
  {
   "cell_type": "code",
   "execution_count": null,
   "metadata": {
    "collapsed": false
   },
   "outputs": [],
   "source": [
    "import os\n",
    "from os.path import join\n",
    "from framenet.semtypes import read_semtypes, format_semtype_to_ontology\n",
    "\n",
    "sts = read_semtypes(join(os.getenv('FN_HOME'), 'semTypes.xml'))\n",
    "len(sts)"
   ]
  },
  {
   "cell_type": "code",
   "execution_count": null,
   "metadata": {
    "collapsed": false
   },
   "outputs": [],
   "source": [
    "for st in sts[:10]:\n",
    "    print(format_semtype_to_ontology(st))"
   ]
  },
  {
   "cell_type": "code",
   "execution_count": null,
   "metadata": {
    "collapsed": true
   },
   "outputs": [],
   "source": []
  }
 ],
 "metadata": {
  "kernelspec": {
   "display_name": "Python 3",
   "language": "python",
   "name": "python3"
  },
  "language_info": {
   "codemirror_mode": {
    "name": "ipython",
    "version": 3
   },
   "file_extension": ".py",
   "mimetype": "text/x-python",
   "name": "python",
   "nbconvert_exporter": "python",
   "pygments_lexer": "ipython3",
   "version": "3.5.2"
  }
 },
 "nbformat": 4,
 "nbformat_minor": 1
}
