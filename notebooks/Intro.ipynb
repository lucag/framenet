{
 "cells": [
  {
   "cell_type": "code",
   "execution_count": 6,
   "metadata": {
    "collapsed": false
   },
   "outputs": [],
   "source": [
    "from framenet.builder import build\n",
    "from __future__       import print_function\n",
    "\n",
    "fn, fnb = build()"
   ]
  },
  {
   "cell_type": "markdown",
   "metadata": {},
   "source": [
    "## Initial Queries\n",
    "\n",
    "Note: If the purpose of a class or function is unclear, recall that you can use the help function, and the shell will print out documentation I've written for that class, e.g.:"
   ]
  },
  {
   "cell_type": "code",
   "execution_count": 7,
   "metadata": {
    "collapsed": false
   },
   "outputs": [
    {
     "name": "stdout",
     "output_type": "stream",
     "text": [
      "Help on FrameNet in module framenet.framenet object:\n",
      "\n",
      "class FrameNet(builtins.object)\n",
      " |  Contains a list of frames, as well as mappings from lexical units to associated frames.\n",
      " |  \n",
      " |  Methods defined here:\n",
      " |  \n",
      " |  __init__(self)\n",
      " |      Initialize self.  See help(type(self)) for accurate signature.\n",
      " |  \n",
      " |  add_element(self, f1, f2)\n",
      " |      Adds element from Frame1 to Frame2.\n",
      " |  \n",
      " |  add_frame(self, frame)\n",
      " |      Adds frame to list, as well as populating lexemes_to_frames with mappings from each lu to that frame.\n",
      " |  \n",
      " |  build_relations(self)\n",
      " |      For all relations and related_frames, replaces Strings with actual frame objects.\n",
      " |  \n",
      " |  build_typesystem(self)\n",
      " |      Constructs typesystem.\n",
      " |  \n",
      " |  common_supertype(self, f1, f2)\n",
      " |      Returns the lowest common supertype between two frames. Could be useful for metaphor.\n",
      " |  \n",
      " |  frame_from_raw_lemma(self, lemma)\n",
      " |  \n",
      " |  get_frame(self, name)\n",
      " |      Returns frame from name, e.g. \"Motion\".\n",
      " |  \n",
      " |  get_frame_from_id(self, ID)\n",
      " |      returns frame from ID.\n",
      " |  \n",
      " |  get_frames_from_lu(self, lu)\n",
      " |      Returns from from lu String, e.g. \"move.v\".\n",
      " |  \n",
      " |  get_frames_from_lu_set(self, lu_set)\n",
      " |      Takes in a set of lus and returns a dictionary of each lu mapped onto frames.\n",
      " |  \n",
      " |  get_root(self, frame)\n",
      " |      Returns root frame, e.g. \"Event\".\n",
      " |  \n",
      " |  get_siblings(self, frame)\n",
      " |      Returns frames with the same parent.\n",
      " |  \n",
      " |  subtype(self, f1, f2)\n",
      " |      Returns TRUE if f1 inherits from f2 or from one of f2's children.\n",
      " |  \n",
      " |  subtype_s(self, f1_s, f2_s)\n",
      " |      Returns TRUE if f1 inherits from f2 or from one of f2's children.\n",
      " |  \n",
      " |  ----------------------------------------------------------------------\n",
      " |  Data descriptors defined here:\n",
      " |  \n",
      " |  __dict__\n",
      " |      dictionary for instance variables (if defined)\n",
      " |  \n",
      " |  __weakref__\n",
      " |      list of weak references to the object (if defined)\n",
      "\n"
     ]
    }
   ],
   "source": [
    "help(fn)"
   ]
  },
  {
   "cell_type": "markdown",
   "metadata": {},
   "source": [
    "The build script will open up an interactive Python shell. From here, you have access to two primary classes:\n",
    "\n",
    "- `fn`: A `FrameNet` (`framenet.framenet`) object.\n",
    "- `fnb`: A `FramenetBuilder` (`framenet.builder`) object."
   ]
  },
  {
   "cell_type": "markdown",
   "metadata": {},
   "source": [
    "## Querying Individual Frames\n",
    "\n",
    "The FrameNet object can be used to retrieve information about frames. The most basic command is retrieving a Frame from an input string:"
   ]
  },
  {
   "cell_type": "code",
   "execution_count": 8,
   "metadata": {
    "collapsed": true
   },
   "outputs": [],
   "source": [
    "frame = fn.get_frame('Motion')"
   ]
  },
  {
   "cell_type": "markdown",
   "metadata": {},
   "source": [
    "This new frame object can now be queried to learn basic information about the frame:"
   ]
  },
  {
   "cell_type": "code",
   "execution_count": 9,
   "metadata": {
    "collapsed": false
   },
   "outputs": [
    {
     "data": {
      "text/plain": [
       "7"
      ]
     },
     "execution_count": 9,
     "metadata": {},
     "output_type": "execute_result"
    }
   ],
   "source": [
    "frame.ID"
   ]
  },
  {
   "cell_type": "code",
   "execution_count": 10,
   "metadata": {
    "collapsed": false
   },
   "outputs": [
    {
     "data": {
      "text/plain": [
       "'Motion'"
      ]
     },
     "execution_count": 10,
     "metadata": {},
     "output_type": "execute_result"
    }
   ],
   "source": [
    "frame.name"
   ]
  },
  {
   "cell_type": "markdown",
   "metadata": {},
   "source": [
    "Other useful information includes: `children`, `definition`, `elements`, `fe_relations`, `lexicalUnits`, `name`, `parents`, and `relations`. The `parents` of a frame are the frames it inherits from. In this case \"Motion\" only inherits from the \"Event\" frame:"
   ]
  },
  {
   "cell_type": "code",
   "execution_count": 11,
   "metadata": {
    "collapsed": false
   },
   "outputs": [
    {
     "data": {
      "text/plain": [
       "['Event']"
      ]
     },
     "execution_count": 11,
     "metadata": {},
     "output_type": "execute_result"
    }
   ],
   "source": [
    "frame.parents"
   ]
  },
  {
   "cell_type": "code",
   "execution_count": 12,
   "metadata": {
    "collapsed": false
   },
   "outputs": [
    {
     "name": "stdout",
     "output_type": "stream",
     "text": [
      "Some entity (Theme) starts out in one place (Source) and ends up in some other place (Goal), having covered some space between the two (Path). Alternatively, the Area or Directionin which the Theme moves or the Distance of the movement may be mentioned.\n",
      "\n",
      "That kite you see just to the right of his head was moving around pretty fast but the camera seemed to catch it ok.\n",
      "\n",
      "There are several accounts of the stench drifting to shore from the ships in the middle of the river\n",
      "\n",
      "Dust particles floating about made him sneeze uncontrollably.\n",
      "\n",
      "The grill, unsecured, rolled a few feet across the yard.\n",
      "\n",
      "The swarm went away to the end of the hall.\n",
      "\n",
      "The frames that inherit the general Motion frame add some elaboration to this simple idea.  Inheriting frames can add Goal-profiling (arrive, reach), Source-profiling (leave, depart), or Path-profiling (traverse, cross), or aspects of the manner of motion (run, jog) or assumptions about the shape-properties, etc., of any of the places involved (insert, extract).\n",
      "A particularly complex area in the vocabulary of Motion is the depiction of the relation of Vehicles to the Theme.  In some cases, no separate Theme is expressed:\n",
      "\n",
      "The plane flew over the city. \n",
      "\n",
      "In this case, the sentence is annotated in Self_motion.  When the Vehicle is profiled as being operated by a Driver, the sentence is annotated in the Operate_vehicles frame:\n",
      "\n",
      "Don't try to fly an F-16 without training!\n",
      "\n",
      "This is very similar to the Bringing frame which covers cases where the Vehicle is necessarily involved, but the movement of the Theme (something carried by the Vehicle) is profiled:\n",
      "\n",
      "It's scary flying hundreds of people over thousands of miles of ocean every day.\n",
      "\n",
      "Some of the same vocabulary is also used to describe the situation where Passengers Ride_vehicle or Operate_vehicle (each of these a perspective on Use_vehicles):\n",
      "\n",
      "I flew to Chicago on the red-eye.\n",
      "I flew my plane across the Canadian border \n",
      "\n",
      "Finally, there are cases where, despite the use of similar vocabulary, there is no self-propelled Vehicle involved at all:\n",
      "\n",
      "The ball flew over the fence.\n",
      "\n",
      "This last type is annotated in the simple Motion frame.\n"
     ]
    }
   ],
   "source": [
    "# print frame.definition\n",
    "# TODO: Look at XML source\n",
    "print(frame.definition)"
   ]
  },
  {
   "cell_type": "markdown",
   "metadata": {},
   "source": [
    "Within a given frame, you can also retrieve a specific FrameElement object (`framenet.frames`) by passing in its name:"
   ]
  },
  {
   "cell_type": "code",
   "execution_count": 13,
   "metadata": {
    "collapsed": true
   },
   "outputs": [],
   "source": [
    "fe = frame.get_element(\"Goal\")"
   ]
  },
  {
   "cell_type": "markdown",
   "metadata": {},
   "source": [
    "The `FrameElement` object has some useful information of its own, including which FEs it requires and which it excludes. In this case, the `Goal` `FE` excludes the `Area` `FE`:"
   ]
  },
  {
   "cell_type": "code",
   "execution_count": 14,
   "metadata": {
    "collapsed": false
   },
   "outputs": [
    {
     "data": {
      "text/plain": [
       "['Area']"
      ]
     },
     "execution_count": 14,
     "metadata": {},
     "output_type": "execute_result"
    }
   ],
   "source": [
    "fe.excludes"
   ]
  },
  {
   "cell_type": "markdown",
   "metadata": {},
   "source": [
    "You can also view the lexical units associated with a frame:"
   ]
  },
  {
   "cell_type": "code",
   "execution_count": 15,
   "metadata": {
    "collapsed": false
   },
   "outputs": [
    {
     "data": {
      "text/plain": [
       "[move.v,\n",
       " go.v,\n",
       " drift.v,\n",
       " glide.v,\n",
       " blow.v,\n",
       " float.v,\n",
       " coast.v,\n",
       " roll.v,\n",
       " soar.v,\n",
       " fly.v,\n",
       " slide.v,\n",
       " swerve.v,\n",
       " snake.v,\n",
       " meander.v,\n",
       " undulate.v,\n",
       " weave.v,\n",
       " wind.v,\n",
       " zigzag.v,\n",
       " circle.v,\n",
       " spiral.v,\n",
       " swing.v,\n",
       " travel.v,\n",
       " come.v]"
      ]
     },
     "execution_count": 15,
     "metadata": {},
     "output_type": "execute_result"
    }
   ],
   "source": [
    "frame.lexicalUnits"
   ]
  },
  {
   "cell_type": "code",
   "execution_count": 16,
   "metadata": {
    "collapsed": false
   },
   "outputs": [
    {
     "data": {
      "text/plain": [
       "'Finished_Initial'"
      ]
     },
     "execution_count": 16,
     "metadata": {},
     "output_type": "execute_result"
    }
   ],
   "source": [
    "lu = frame.get_lu(\"move.v\")\n",
    "lu.status"
   ]
  },
  {
   "cell_type": "markdown",
   "metadata": {},
   "source": [
    "**Note**: By default, the build script does not read in any valence data, and thus the lexical units for a frame only contain shallow information. This data can be accessed on demand, and is covered in the Querying Valence Data section.\n",
    "\n",
    "[See the documentation in `framenet.frames` for more ideas on what information you can gather with an individual Frame object.]"
   ]
  },
  {
   "cell_type": "markdown",
   "metadata": {},
   "source": [
    "## FrameNet Class Tools\n",
    "\n",
    "The FrameNet object (`framenet.framenet`) has some useful tools built in as well. The help documentation contains more info, but below is a list of basic sample queries. Note that these queries could be combined or elaborated on to perform more complex queries."
   ]
  },
  {
   "cell_type": "code",
   "execution_count": 17,
   "metadata": {
    "collapsed": false
   },
   "outputs": [
    {
     "data": {
      "text/plain": [
       "'Event'"
      ]
     },
     "execution_count": 17,
     "metadata": {},
     "output_type": "execute_result"
    }
   ],
   "source": [
    "fn.get_root(frame).name"
   ]
  },
  {
   "cell_type": "code",
   "execution_count": 18,
   "metadata": {
    "collapsed": false
   },
   "outputs": [
    {
     "name": "stdout",
     "output_type": "stream",
     "text": [
      "False\n"
     ]
    },
    {
     "data": {
      "text/plain": [
       "Frame(name=Self_motion, ID=64, relations=[Inherits from: ['Intentionally_act', 'Motion'], Is Inherited by: ['Cotheme', 'Intentional_traversing', 'Travel', 'Fleeing'], Has Subframe(s): ['Quitting_a_place'], See also: ['Motion']], elements=[FrameElement(frame_name=Self_motion, name=Self_mover, ID=285, coreType=Core, semtype=Sentient), FrameElement(frame_name=Self_motion, name=Source, ID=286, coreType=Core, semtype=Source), FrameElement(frame_name=Self_motion, name=Path, ID=287, coreType=Core, semtype=Path), FrameElement(frame_name=Self_motion, name=Goal, ID=288, coreType=Core, semtype=Goal), FrameElement(frame_name=Self_motion, name=Manner, ID=289, coreType=Peripheral, semtype=Manner), FrameElement(frame_name=Self_motion, name=Distance, ID=290, coreType=Peripheral, semtype=Quantity), FrameElement(frame_name=Self_motion, name=Area, ID=291, coreType=Core, semtype=Location), FrameElement(frame_name=Self_motion, name=Time, ID=1977, coreType=Peripheral, semtype=Time), FrameElement(frame_name=Self_motion, name=Cotheme, ID=1978, coreType=Extra-Thematic, semtype=Physical_object), FrameElement(frame_name=Self_motion, name=Speed, ID=1979, coreType=Peripheral, semtype=Speed), FrameElement(frame_name=Self_motion, name=Depictive, ID=1982, coreType=Extra-Thematic, semtype=State), FrameElement(frame_name=Self_motion, name=Means, ID=1983, coreType=Peripheral, semtype=Human_act), FrameElement(frame_name=Self_motion, name=Result, ID=1984, coreType=Extra-Thematic, semtype=Event), FrameElement(frame_name=Self_motion, name=Internal_cause, ID=1987, coreType=Extra-Thematic, semtype=None), FrameElement(frame_name=Self_motion, name=Duration, ID=3164, coreType=Peripheral, semtype=Duration), FrameElement(frame_name=Self_motion, name=Purpose, ID=3165, coreType=Peripheral, semtype=Human_act), FrameElement(frame_name=Self_motion, name=Place, ID=4890, coreType=Peripheral, semtype=Locative_relation), FrameElement(frame_name=Self_motion, name=Explanation, ID=5054, coreType=Extra-Thematic, semtype=State_of_affairs), FrameElement(frame_name=Self_motion, name=External_cause, ID=6505, coreType=Extra-Thematic, semtype=None), FrameElement(frame_name=Self_motion, name=Direction, ID=9348, coreType=Core, semtype=None), FrameElement(frame_name=Self_motion, name=Coordinated_event, ID=9475, coreType=Extra-Thematic, semtype=None), FrameElement(frame_name=Self_motion, name=Path_shape, ID=9871, coreType=Peripheral, semtype=None), FrameElement(frame_name=Self_motion, name=Concessive, ID=14071, coreType=Extra-Thematic, semtype=None)])"
      ]
     },
     "execution_count": 18,
     "metadata": {},
     "output_type": "execute_result"
    }
   ],
   "source": [
    "print(fn.subtype_s('Motion', 'Event'))\n",
    "frame2, frame3 = fn.get_frame(\"Self_motion\"), fn.get_frame(\"Execute_plan\")\n",
    "fn.common_supertype(frame2, frame3)"
   ]
  },
  {
   "cell_type": "markdown",
   "metadata": {},
   "source": [
    "You can also retrieve a list of frames from a given lexical unit string, such as:"
   ]
  },
  {
   "cell_type": "code",
   "execution_count": 19,
   "metadata": {
    "collapsed": false
   },
   "outputs": [
    {
     "data": {
      "text/plain": [
       "2"
      ]
     },
     "execution_count": 19,
     "metadata": {},
     "output_type": "execute_result"
    }
   ],
   "source": [
    "frames = fn.get_frames_from_lu(\"stream.v\")\n",
    "len(frames)"
   ]
  },
  {
   "cell_type": "code",
   "execution_count": 20,
   "metadata": {
    "collapsed": false
   },
   "outputs": [
    {
     "data": {
      "text/plain": [
       "['Fluidic_motion', 'Mass_motion']"
      ]
     },
     "execution_count": 20,
     "metadata": {},
     "output_type": "execute_result"
    }
   ],
   "source": [
    "[f.name for f in frames]"
   ]
  },
  {
   "cell_type": "markdown",
   "metadata": {},
   "source": [
    "## Lexical Units\n",
    "\n",
    "The initial information gathered about lexical units for a frame is not particularly rich. This is because the `LU` information is stored in separate XML data, and reading it all in during initialization-time takes too long. Instead, the module provides the option of building more complex `LexicalUnit` objects using the `FrameNetBuilder`:"
   ]
  },
  {
   "cell_type": "code",
   "execution_count": 21,
   "metadata": {
    "collapsed": false
   },
   "outputs": [],
   "source": [
    "fnb.build_lus_for_frame(\"Motion\", fn)"
   ]
  },
  {
   "cell_type": "markdown",
   "metadata": {},
   "source": [
    "As the code snippet demonstrates, the function takes as arguments the name of the desired frame, as well as the FrameNet object (`fn`). Now, all of the lexical units for the `Motion` frame (which we've already retrieved and set to the frame variable) will contain useful valence information.\n",
    "\n",
    "Additionally, you can access the entire set of valences in a single list directly from the frame:"
   ]
  },
  {
   "cell_type": "code",
   "execution_count": 22,
   "metadata": {
    "collapsed": false
   },
   "outputs": [
    {
     "data": {
      "text/plain": [
       "421"
      ]
     },
     "execution_count": 22,
     "metadata": {},
     "output_type": "execute_result"
    }
   ],
   "source": [
    "len(frame.individual_valences)"
   ]
  },
  {
   "cell_type": "markdown",
   "metadata": {},
   "source": [
    "You can also view the individual \"Frame Element Realizations\" (see below) aggregated for a frame, as well as the \"Group Frame Element Realizations\" (see below):"
   ]
  },
  {
   "cell_type": "code",
   "execution_count": 23,
   "metadata": {
    "collapsed": false
   },
   "outputs": [
    {
     "data": {
      "text/plain": [
       "[Total: 2, lexeme: move.v, fe: Area,\n",
       " Total: 1, lexeme: move.v, fe: Carrier,\n",
       " Total: 1, lexeme: move.v, fe: Depictive,\n",
       " Total: 1, lexeme: move.v, fe: Direction,\n",
       " Total: 1, lexeme: move.v, fe: Distance,\n",
       " Total: 6, lexeme: move.v, fe: Goal,\n",
       " Total: 17, lexeme: move.v, fe: Manner,\n",
       " Total: 56, lexeme: move.v, fe: Path,\n",
       " Total: 1, lexeme: move.v, fe: Place,\n",
       " Total: 2, lexeme: move.v, fe: Purpose,\n",
       " Total: 7, lexeme: move.v, fe: Source,\n",
       " Total: 8, lexeme: move.v, fe: Speed,\n",
       " Total: 67, lexeme: move.v, fe: Theme,\n",
       " Total: 6, lexeme: move.v, fe: Time,\n",
       " Total: 2, lexeme: go.v, fe: Area,\n",
       " Total: 2, lexeme: go.v, fe: Carrier,\n",
       " Total: 5, lexeme: go.v, fe: Depictive,\n",
       " Total: 11, lexeme: go.v, fe: Direction,\n",
       " Total: 1, lexeme: go.v, fe: Duration,\n",
       " Total: 49, lexeme: go.v, fe: Goal,\n",
       " Total: 1, lexeme: go.v, fe: Manner,\n",
       " Total: 13, lexeme: go.v, fe: Path,\n",
       " Total: 3, lexeme: go.v, fe: Place,\n",
       " Total: 16, lexeme: go.v, fe: Purpose,\n",
       " Total: 4, lexeme: go.v, fe: Source,\n",
       " Total: 4, lexeme: go.v, fe: Speed,\n",
       " Total: 63, lexeme: go.v, fe: Theme,\n",
       " Total: 16, lexeme: go.v, fe: Time,\n",
       " Total: 2, lexeme: drift.v, fe: Area,\n",
       " Total: 3, lexeme: drift.v, fe: Carrier,\n",
       " Total: 2, lexeme: drift.v, fe: Distance,\n",
       " Total: 10, lexeme: drift.v, fe: Goal,\n",
       " Total: 5, lexeme: drift.v, fe: Manner,\n",
       " Total: 22, lexeme: drift.v, fe: Path,\n",
       " Total: 2, lexeme: drift.v, fe: Place,\n",
       " Total: 9, lexeme: drift.v, fe: Source,\n",
       " Total: 6, lexeme: drift.v, fe: Speed,\n",
       " Total: 39, lexeme: drift.v, fe: Theme,\n",
       " Total: 1, lexeme: drift.v, fe: Time,\n",
       " Total: 3, lexeme: glide.v, fe: Manner,\n",
       " Total: 10, lexeme: glide.v, fe: Path,\n",
       " Total: 3, lexeme: glide.v, fe: Source,\n",
       " Total: 13, lexeme: glide.v, fe: Theme,\n",
       " Total: 3, lexeme: blow.v, fe: Area,\n",
       " Total: 2, lexeme: blow.v, fe: Carrier,\n",
       " Total: 1, lexeme: blow.v, fe: Depictive,\n",
       " Total: 9, lexeme: blow.v, fe: Goal,\n",
       " Total: 2, lexeme: blow.v, fe: Manner,\n",
       " Total: 11, lexeme: blow.v, fe: Path,\n",
       " Total: 2, lexeme: blow.v, fe: Place,\n",
       " Total: 2, lexeme: blow.v, fe: Result,\n",
       " Total: 9, lexeme: blow.v, fe: Source,\n",
       " Total: 30, lexeme: blow.v, fe: Theme,\n",
       " Total: 3, lexeme: blow.v, fe: Time,\n",
       " Total: 15, lexeme: float.v, fe: Area,\n",
       " Total: 1, lexeme: float.v, fe: Carrier,\n",
       " Total: 1, lexeme: float.v, fe: Depictive,\n",
       " Total: 1, lexeme: float.v, fe: Distance,\n",
       " Total: 8, lexeme: float.v, fe: Goal,\n",
       " Total: 4, lexeme: float.v, fe: Manner,\n",
       " Total: 18, lexeme: float.v, fe: Path,\n",
       " Total: 5, lexeme: float.v, fe: Source,\n",
       " Total: 44, lexeme: float.v, fe: Theme,\n",
       " Total: 4, lexeme: float.v, fe: Time,\n",
       " Total: 1, lexeme: coast.v, fe: Depictive,\n",
       " Total: 6, lexeme: coast.v, fe: Path,\n",
       " Total: 1, lexeme: coast.v, fe: Place,\n",
       " Total: 1, lexeme: coast.v, fe: Source,\n",
       " Total: 6, lexeme: coast.v, fe: Theme,\n",
       " Total: 1, lexeme: roll.v, fe: Area,\n",
       " Total: 12, lexeme: roll.v, fe: Goal,\n",
       " Total: 22, lexeme: roll.v, fe: Path,\n",
       " Total: 2, lexeme: roll.v, fe: Place,\n",
       " Total: 2, lexeme: roll.v, fe: Source,\n",
       " Total: 33, lexeme: roll.v, fe: Theme,\n",
       " Total: 3, lexeme: roll.v, fe: Time,\n",
       " Total: 1, lexeme: soar.v, fe: Area,\n",
       " Total: 2, lexeme: soar.v, fe: Depictive,\n",
       " Total: 3, lexeme: soar.v, fe: Goal,\n",
       " Total: 1, lexeme: soar.v, fe: Manner,\n",
       " Total: 4, lexeme: soar.v, fe: Path,\n",
       " Total: 8, lexeme: soar.v, fe: Theme,\n",
       " Total: 3, lexeme: fly.v, fe: Area,\n",
       " Total: 2, lexeme: fly.v, fe: Distance,\n",
       " Total: 2, lexeme: fly.v, fe: Goal,\n",
       " Total: 7, lexeme: fly.v, fe: Path,\n",
       " Total: 12, lexeme: fly.v, fe: Theme,\n",
       " Total: 3, lexeme: slide.v, fe: Area,\n",
       " Total: 3, lexeme: slide.v, fe: Depictive,\n",
       " Total: 5, lexeme: slide.v, fe: Direction,\n",
       " Total: 10, lexeme: slide.v, fe: Goal,\n",
       " Total: 4, lexeme: slide.v, fe: Manner,\n",
       " Total: 9, lexeme: slide.v, fe: Path,\n",
       " Total: 1, lexeme: slide.v, fe: Result,\n",
       " Total: 2, lexeme: slide.v, fe: Source,\n",
       " Total: 2, lexeme: slide.v, fe: Speed,\n",
       " Total: 26, lexeme: slide.v, fe: Theme,\n",
       " Total: 1, lexeme: slide.v, fe: Time,\n",
       " Total: 6, lexeme: swerve.v, fe: Area,\n",
       " Total: 1, lexeme: swerve.v, fe: Containing_event,\n",
       " Total: 1, lexeme: swerve.v, fe: Depictive,\n",
       " Total: 7, lexeme: swerve.v, fe: Direction,\n",
       " Total: 2, lexeme: swerve.v, fe: Goal,\n",
       " Total: 1, lexeme: swerve.v, fe: Manner,\n",
       " Total: 10, lexeme: swerve.v, fe: Path,\n",
       " Total: 1, lexeme: swerve.v, fe: Path_shape,\n",
       " Total: 2, lexeme: swerve.v, fe: Place,\n",
       " Total: 1, lexeme: swerve.v, fe: Purpose,\n",
       " Total: 1, lexeme: swerve.v, fe: Result,\n",
       " Total: 4, lexeme: swerve.v, fe: Source,\n",
       " Total: 27, lexeme: swerve.v, fe: Theme,\n",
       " Total: 6, lexeme: swerve.v, fe: Time,\n",
       " Total: 2, lexeme: snake.v, fe: Area,\n",
       " Total: 1, lexeme: snake.v, fe: Containing_event,\n",
       " Total: 3, lexeme: snake.v, fe: Direction,\n",
       " Total: 1, lexeme: snake.v, fe: Goal,\n",
       " Total: 2, lexeme: snake.v, fe: Path,\n",
       " Total: 1, lexeme: snake.v, fe: Place,\n",
       " Total: 1, lexeme: snake.v, fe: Purpose,\n",
       " Total: 6, lexeme: snake.v, fe: Source,\n",
       " Total: 11, lexeme: snake.v, fe: Theme,\n",
       " Total: 1, lexeme: snake.v, fe: Time,\n",
       " Total: 3, lexeme: meander.v, fe: Area,\n",
       " Total: 2, lexeme: meander.v, fe: Duration,\n",
       " Total: 4, lexeme: meander.v, fe: Goal,\n",
       " Total: 1, lexeme: meander.v, fe: Manner,\n",
       " Total: 6, lexeme: meander.v, fe: Path,\n",
       " Total: 11, lexeme: meander.v, fe: Theme,\n",
       " Total: 2, lexeme: meander.v, fe: Time,\n",
       " Total: 1, lexeme: undulate.v, fe: Path,\n",
       " Total: 1, lexeme: undulate.v, fe: Theme,\n",
       " Total: 3, lexeme: weave.v, fe: Area,\n",
       " Total: 4, lexeme: weave.v, fe: Direction,\n",
       " Total: 1, lexeme: weave.v, fe: Goal,\n",
       " Total: 4, lexeme: weave.v, fe: Manner,\n",
       " Total: 22, lexeme: weave.v, fe: Path,\n",
       " Total: 1, lexeme: weave.v, fe: Place,\n",
       " Total: 1, lexeme: weave.v, fe: Source,\n",
       " Total: 29, lexeme: weave.v, fe: Theme,\n",
       " Total: 2, lexeme: wind.v, fe: Direction,\n",
       " Total: 1, lexeme: wind.v, fe: Manner,\n",
       " Total: 8, lexeme: wind.v, fe: Path,\n",
       " Total: 8, lexeme: wind.v, fe: Theme,\n",
       " Total: 1, lexeme: zigzag.v, fe: Goal,\n",
       " Total: 3, lexeme: zigzag.v, fe: Manner,\n",
       " Total: 12, lexeme: zigzag.v, fe: Path,\n",
       " Total: 1, lexeme: zigzag.v, fe: Place,\n",
       " Total: 1, lexeme: zigzag.v, fe: Purpose,\n",
       " Total: 2, lexeme: zigzag.v, fe: Source,\n",
       " Total: 14, lexeme: zigzag.v, fe: Theme,\n",
       " Total: 2, lexeme: circle.v, fe: Area,\n",
       " Total: 1, lexeme: circle.v, fe: Carrier,\n",
       " Total: 1, lexeme: circle.v, fe: Depictive,\n",
       " Total: 2, lexeme: circle.v, fe: Direction,\n",
       " Total: 2, lexeme: circle.v, fe: Distance,\n",
       " Total: 4, lexeme: circle.v, fe: Manner,\n",
       " Total: 16, lexeme: circle.v, fe: Path,\n",
       " Total: 4, lexeme: circle.v, fe: Place,\n",
       " Total: 3, lexeme: circle.v, fe: Purpose,\n",
       " Total: 17, lexeme: circle.v, fe: Theme,\n",
       " Total: 5, lexeme: circle.v, fe: Time,\n",
       " Total: 1, lexeme: swing.v, fe: Area,\n",
       " Total: 1, lexeme: swing.v, fe: Direction,\n",
       " Total: 1, lexeme: swing.v, fe: Goal,\n",
       " Total: 1, lexeme: swing.v, fe: Manner,\n",
       " Total: 1, lexeme: swing.v, fe: Path,\n",
       " Total: 1, lexeme: swing.v, fe: Source,\n",
       " Total: 3, lexeme: swing.v, fe: Theme,\n",
       " Total: 1, lexeme: travel.v, fe: Goal,\n",
       " Total: 1, lexeme: travel.v, fe: Source,\n",
       " Total: 1, lexeme: travel.v, fe: Speed,\n",
       " Total: 2, lexeme: travel.v, fe: Theme,\n",
       " Total: 3, lexeme: come.v, fe: Direction,\n",
       " Total: 1, lexeme: come.v, fe: Distance,\n",
       " Total: 2, lexeme: come.v, fe: Goal,\n",
       " Total: 1, lexeme: come.v, fe: Purpose,\n",
       " Total: 1, lexeme: come.v, fe: Source,\n",
       " Total: 6, lexeme: come.v, fe: Theme]"
      ]
     },
     "execution_count": 23,
     "metadata": {},
     "output_type": "execute_result"
    }
   ],
   "source": [
    "frame.fe_realizations"
   ]
  },
  {
   "cell_type": "code",
   "execution_count": 24,
   "metadata": {
    "collapsed": false
   },
   "outputs": [
    {
     "data": {
      "text/plain": [
       "[Total: 1 \n",
       " Valence Patterns: [Total: 1\n",
       " Valences:[Frame: Motion, GF: Dep, PT: PP[around], FE: Area, total: 2\n",
       "         , Frame: Motion, GF: Dep, PT: AVP, FE: Manner, total: 12\n",
       "         , Frame: Motion, GF: Ext, PT: NP, FE: Theme, total: 67\n",
       "         ]\n",
       " LU: move.v], Total: 1 \n",
       " Valence Patterns: [Total: 1\n",
       " Valences:[Frame: Motion, GF: Dep, PT: PP[around], FE: Area, total: 2\n",
       "         , Frame: Motion, GF: Ext, PT: NP, FE: Theme, total: 67\n",
       "         ]\n",
       " LU: move.v], Total: 1 \n",
       " Valence Patterns: [Total: 1\n",
       " Valences:[Frame: Motion, GF: Dep, PT: PP[in], FE: Carrier, total: 1\n",
       "         , Frame: Motion, GF: Dep, PT: AVP, FE: Manner, total: 12\n",
       "         , Frame: Motion, GF: , PT: INI, FE: Path, total: 21\n",
       "         , Frame: Motion, GF: Ext, PT: NP, FE: Theme, total: 67\n",
       "         ]\n",
       " LU: move.v], Total: 1 \n",
       " Valence Patterns: [Total: 1\n",
       " Valences:[Frame: Motion, GF: Dep, PT: NP, FE: Depictive, total: 1\n",
       "         , Frame: Motion, GF: Dep, PT: PP[to], FE: Goal, total: 4\n",
       "         , Frame: Motion, GF: Ext, PT: NP, FE: Theme, total: 67\n",
       "         ]\n",
       " LU: move.v], Total: 1 \n",
       " Valence Patterns: [Total: 1\n",
       " Valences:[Frame: Motion, GF: Dep, PT: AVP, FE: Direction, total: 1\n",
       "         , Frame: Motion, GF: Ext, PT: NP, FE: Theme, total: 67\n",
       "         ]\n",
       " LU: move.v], Total: 1 \n",
       " Valence Patterns: [Total: 1\n",
       " Valences:[Frame: Motion, GF: Dep, PT: NP, FE: Distance, total: 1\n",
       "         , Frame: Motion, GF: , PT: INI, FE: Path, total: 21\n",
       "         , Frame: Motion, GF: Ext, PT: NP, FE: Theme, total: 67\n",
       "         ]\n",
       " LU: move.v], Total: 2 \n",
       " Valence Patterns: [Total: 1\n",
       " Valences:[Frame: Motion, GF: Dep, PT: PP[to], FE: Goal, total: 4\n",
       "         , Frame: Motion, GF: Obj, PT: NP, FE: Path, total: 3\n",
       "         , Frame: Motion, GF: Ext, PT: NP, FE: Theme, total: 67\n",
       "         ]\n",
       " LU: move.v, Total: 1\n",
       " Valences:[Frame: Motion, GF: Dep, PT: PP[to], FE: Goal, total: 4\n",
       "         , Frame: Motion, GF: Dep, PT: PP[across], FE: Path, total: 8\n",
       "         , Frame: Motion, GF: Ext, PT: NP, FE: Theme, total: 67\n",
       "         ]\n",
       " LU: move.v], Total: 1 \n",
       " Valence Patterns: [Total: 1\n",
       " Valences:[Frame: Motion, GF: , PT: DNI, FE: Goal, total: 1\n",
       "         , Frame: Motion, GF: Dep, PT: VPto, FE: Purpose, total: 2\n",
       "         , Frame: Motion, GF: Dep, PT: PP[from], FE: Source, total: 4\n",
       "         , Frame: Motion, GF: Ext, PT: NP, FE: Theme, total: 67\n",
       "         ]\n",
       " LU: move.v], Total: 1 \n",
       " Valence Patterns: [Total: 1\n",
       " Valences:[Frame: Motion, GF: Dep, PT: PP[to], FE: Goal, total: 4\n",
       "         , Frame: Motion, GF: Dep, PT: PP[from], FE: Source, total: 4\n",
       "         , Frame: Motion, GF: Ext, PT: NP, FE: Theme, total: 67\n",
       "         ]\n",
       " LU: move.v], Total: 1 \n",
       " Valence Patterns: [Total: 1\n",
       " Valences:[Frame: Motion, GF: Dep, PT: PP[in], FE: Goal, total: 1\n",
       "         , Frame: Motion, GF: Ext, PT: NP, FE: Theme, total: 67\n",
       "         ]\n",
       " LU: move.v], Total: 1 \n",
       " Valence Patterns: [Total: 1\n",
       " Valences:[Frame: Motion, GF: Dep, PT: PP[to], FE: Manner, total: 1\n",
       "         , Frame: Motion, GF: , PT: INI, FE: Path, total: 21\n",
       "         , Frame: Motion, GF: Dep, PT: AVP, FE: Speed, total: 5\n",
       "         , Frame: Motion, GF: Ext, PT: NP, FE: Theme, total: 67\n",
       "         ]\n",
       " LU: move.v], Total: 12 \n",
       " Valence Patterns: [Total: 3\n",
       " Valences:[Frame: Motion, GF: Dep, PT: AVP, FE: Manner, total: 12\n",
       "         , Frame: Motion, GF: , PT: INI, FE: Path, total: 21\n",
       "         , Frame: Motion, GF: Ext, PT: NP, FE: Theme, total: 67\n",
       "         ]\n",
       " LU: move.v, Total: 1\n",
       " Valences:[Frame: Motion, GF: Dep, PT: AVP, FE: Manner, total: 12\n",
       "         , Frame: Motion, GF: Obj, PT: NP, FE: Path, total: 3\n",
       "         , Frame: Motion, GF: Ext, PT: NP, FE: Theme, total: 67\n",
       "         ]\n",
       " LU: move.v, Total: 2\n",
       " Valences:[Frame: Motion, GF: Dep, PT: AVP, FE: Manner, total: 12\n",
       "         , Frame: Motion, GF: Dep, PT: PP[across], FE: Path, total: 8\n",
       "         , Frame: Motion, GF: Ext, PT: NP, FE: Theme, total: 67\n",
       "         ]\n",
       " LU: move.v, Total: 2\n",
       " Valences:[Frame: Motion, GF: Dep, PT: AVP, FE: Manner, total: 12\n",
       "         , Frame: Motion, GF: Dep, PT: PP[through], FE: Path, total: 4\n",
       "         , Frame: Motion, GF: Ext, PT: NP, FE: Theme, total: 67\n",
       "         ]\n",
       " LU: move.v, Total: 1\n",
       " Valences:[Frame: Motion, GF: Dep, PT: AVP, FE: Manner, total: 12\n",
       "         , Frame: Motion, GF: Dep, PT: PP[towards], FE: Path, total: 5\n",
       "         , Frame: Motion, GF: Ext, PT: NP, FE: Theme, total: 67\n",
       "         ]\n",
       " LU: move.v, Total: 1\n",
       " Valences:[Frame: Motion, GF: Dep, PT: PP[in], FE: Manner, total: 2\n",
       "         , Frame: Motion, GF: , PT: INI, FE: Path, total: 21\n",
       "         , Frame: Motion, GF: Ext, PT: NP, FE: Theme, total: 67\n",
       "         ]\n",
       " LU: move.v, Total: 1\n",
       " Valences:[Frame: Motion, GF: Dep, PT: PP[like], FE: Manner, total: 1\n",
       "         , Frame: Motion, GF: , PT: INI, FE: Path, total: 21\n",
       "         , Frame: Motion, GF: Ext, PT: NP, FE: Theme, total: 67\n",
       "         ]\n",
       " LU: move.v, Total: 1\n",
       " Valences:[Frame: Motion, GF: Dep, PT: Sub, FE: Manner, total: 1\n",
       "         , Frame: Motion, GF: , PT: INI, FE: Path, total: 21\n",
       "         , Frame: Motion, GF: Ext, PT: NP, FE: Theme, total: 67\n",
       "         ]\n",
       " LU: move.v], Total: 1 \n",
       " Valence Patterns: [Total: 1\n",
       " Valences:[Frame: Motion, GF: Dep, PT: AVP, FE: Manner, total: 12\n",
       "         , Frame: Motion, GF: Dep, PT: PP[across], FE: Path, total: 8\n",
       "         , Frame: Motion, GF: Ext, PT: NP, FE: Theme, total: 67\n",
       "         , Frame: Motion, GF: Ext, PT: NP, FE: Theme, total: 67\n",
       "         ]\n",
       " LU: move.v], Total: 1 \n",
       " Valence Patterns: [Total: 1\n",
       " Valences:[Frame: Motion, GF: Dep, PT: PP[in], FE: Manner, total: 2\n",
       "         , Frame: Motion, GF: , PT: INI, FE: Path, total: 21\n",
       "         , Frame: Motion, GF: Ext, PT: NP, FE: Theme, total: 67\n",
       "         , Frame: Motion, GF: Dep, PT: Sub, FE: Time, total: 1\n",
       "         ]\n",
       " LU: move.v], Total: 4 \n",
       " Valence Patterns: [Total: 1\n",
       " Valences:[Frame: Motion, GF: Dep, PT: AVP, FE: Path, total: 5\n",
       "         , Frame: Motion, GF: Dep, PT: PP[through], FE: Path, total: 4\n",
       "         , Frame: Motion, GF: Ext, PT: NP, FE: Theme, total: 67\n",
       "         ]\n",
       " LU: move.v, Total: 1\n",
       " Valences:[Frame: Motion, GF: Dep, PT: PP[along], FE: Path, total: 1\n",
       "         , Frame: Motion, GF: Dep, PT: PP[towards], FE: Path, total: 5\n",
       "         , Frame: Motion, GF: Ext, PT: NP, FE: Theme, total: 67\n",
       "         ]\n",
       " LU: move.v, Total: 1\n",
       " Valences:[Frame: Motion, GF: Dep, PT: PP[around], FE: Path, total: 2\n",
       "         , Frame: Motion, GF: Dep, PT: PP[in], FE: Path, total: 2\n",
       "         , Frame: Motion, GF: Ext, PT: NP, FE: Theme, total: 67\n",
       "         ]\n",
       " LU: move.v, Total: 1\n",
       " Valences:[Frame: Motion, GF: Dep, PT: PP[in], FE: Path, total: 2\n",
       "         , Frame: Motion, GF: Dep, PT: PP[round], FE: Path, total: 1\n",
       "         , Frame: Motion, GF: Ext, PT: NP, FE: Theme, total: 67\n",
       "         ]\n",
       " LU: move.v], Total: 1 \n",
       " Valence Patterns: [Total: 1\n",
       " Valences:[Frame: Motion, GF: Dep, PT: PP[past], FE: Path, total: 2\n",
       "         , Frame: Motion, GF: Dep, PT: PP[on], FE: Place, total: 1\n",
       "         , Frame: Motion, GF: Ext, PT: NP, FE: Theme, total: 67\n",
       "         ]\n",
       " LU: move.v], Total: 1 \n",
       " Valence Patterns: [Total: 1\n",
       " Valences:[Frame: Motion, GF: Dep, PT: AVP, FE: Path, total: 5\n",
       "         , Frame: Motion, GF: Dep, PT: VPto, FE: Purpose, total: 2\n",
       "         , Frame: Motion, GF: Ext, PT: NP, FE: Theme, total: 67\n",
       "         , Frame: Motion, GF: Dep, PT: PP[in], FE: Time, total: 3\n",
       "         ]\n",
       " LU: move.v], Total: 1 \n",
       " Valence Patterns: [Total: 1\n",
       " Valences:[Frame: Motion, GF: Dep, PT: AVP, FE: Path, total: 5\n",
       "         , Frame: Motion, GF: Dep, PT: PP[from], FE: Source, total: 4\n",
       "         , Frame: Motion, GF: Dep, PT: PP[at], FE: Speed, total: 3\n",
       "         , Frame: Motion, GF: Ext, PT: NP, FE: Theme, total: 67\n",
       "         ]\n",
       " LU: move.v], Total: 4 \n",
       " Valence Patterns: [Total: 1\n",
       " Valences:[Frame: Motion, GF: Dep, PT: AVP, FE: Path, total: 5\n",
       "         , Frame: Motion, GF: Dep, PT: PP[at], FE: Speed, total: 3\n",
       "         , Frame: Motion, GF: Ext, PT: NP, FE: Theme, total: 67\n",
       "         ]\n",
       " LU: move.v, Total: 1\n",
       " Valences:[Frame: Motion, GF: , PT: INI, FE: Path, total: 21\n",
       "         , Frame: Motion, GF: Dep, PT: AVP, FE: Speed, total: 5\n",
       "         , Frame: Motion, GF: Ext, PT: NP, FE: Theme, total: 67\n",
       "         ]\n",
       " LU: move.v, Total: 1\n",
       " Valences:[Frame: Motion, GF: Dep, PT: PP[around], FE: Path, total: 2\n",
       "         , Frame: Motion, GF: Dep, PT: PP[at], FE: Speed, total: 3\n",
       "         , Frame: Motion, GF: Ext, PT: NP, FE: Theme, total: 67\n",
       "         ]\n",
       " LU: move.v, Total: 1\n",
       " Valences:[Frame: Motion, GF: Dep, PT: PP[up], FE: Path, total: 2\n",
       "         , Frame: Motion, GF: Dep, PT: AVP, FE: Speed, total: 5\n",
       "         , Frame: Motion, GF: Ext, PT: NP, FE: Theme, total: 67\n",
       "         ]\n",
       " LU: move.v], Total: 1 \n",
       " Valence Patterns: [Total: 1\n",
       " Valences:[Frame: Motion, GF: Dep, PT: PP[across], FE: Path, total: 8\n",
       "         , Frame: Motion, GF: Dep, PT: AVP, FE: Speed, total: 5\n",
       "         , Frame: Motion, GF: Ext, PT: NP, FE: Theme, total: 67\n",
       "         , Frame: Motion, GF: Dep, PT: PP[in], FE: Time, total: 3\n",
       "         ]\n",
       " LU: move.v], Total: 22 \n",
       " Valence Patterns: [Total: 1\n",
       " Valences:[Frame: Motion, GF: Dep, PT: AVP, FE: Path, total: 5\n",
       "         , Frame: Motion, GF: Ext, PT: NP, FE: Theme, total: 67\n",
       "         ]\n",
       " LU: move.v, Total: 8\n",
       " Valences:[Frame: Motion, GF: , PT: INI, FE: Path, total: 21\n",
       "         , Frame: Motion, GF: Ext, PT: NP, FE: Theme, total: 67\n",
       "         ]\n",
       " LU: move.v, Total: 1\n",
       " Valences:[Frame: Motion, GF: Obj, PT: NP, FE: Path, total: 3\n",
       "         , Frame: Motion, GF: Ext, PT: NP, FE: Theme, total: 67\n",
       "         ]\n",
       " LU: move.v, Total: 3\n",
       " Valences:[Frame: Motion, GF: Dep, PT: PP[across], FE: Path, total: 8\n",
       "         , Frame: Motion, GF: Ext, PT: NP, FE: Theme, total: 67\n",
       "         ]\n",
       " LU: move.v, Total: 1\n",
       " Valences:[Frame: Motion, GF: Dep, PT: PP[against], FE: Path, total: 1\n",
       "         , Frame: Motion, GF: Ext, PT: NP, FE: Theme, total: 67\n",
       "         ]\n",
       " LU: move.v, Total: 2\n",
       " Valences:[Frame: Motion, GF: Dep, PT: PP[down], FE: Path, total: 2\n",
       "         , Frame: Motion, GF: Ext, PT: NP, FE: Theme, total: 67\n",
       "         ]\n",
       " LU: move.v, Total: 1\n",
       " Valences:[Frame: Motion, GF: Dep, PT: PP[past], FE: Path, total: 2\n",
       "         , Frame: Motion, GF: Ext, PT: NP, FE: Theme, total: 67\n",
       "         ]\n",
       " LU: move.v, Total: 1\n",
       " Valences:[Frame: Motion, GF: Dep, PT: PP[through], FE: Path, total: 4\n",
       "         , Frame: Motion, GF: Ext, PT: NP, FE: Theme, total: 67\n",
       "         ]\n",
       " LU: move.v, Total: 3\n",
       " Valences:[Frame: Motion, GF: Dep, PT: PP[towards], FE: Path, total: 5\n",
       "         , Frame: Motion, GF: Ext, PT: NP, FE: Theme, total: 67\n",
       "         ]\n",
       " LU: move.v, Total: 1\n",
       " Valences:[Frame: Motion, GF: Dep, PT: PP[up], FE: Path, total: 2\n",
       "         , Frame: Motion, GF: Ext, PT: NP, FE: Theme, total: 67\n",
       "         ]\n",
       " LU: move.v], Total: 3 \n",
       " Valence Patterns: [Total: 1\n",
       " Valences:[Frame: Motion, GF: , PT: INI, FE: Path, total: 21\n",
       "         , Frame: Motion, GF: Ext, PT: NP, FE: Theme, total: 67\n",
       "         , Frame: Motion, GF: Dep, PT: AVP, FE: Time, total: 2\n",
       "         ]\n",
       " LU: move.v, Total: 1\n",
       " Valences:[Frame: Motion, GF: , PT: INI, FE: Path, total: 21\n",
       "         , Frame: Motion, GF: Ext, PT: NP, FE: Theme, total: 67\n",
       "         , Frame: Motion, GF: Dep, PT: PP[in], FE: Time, total: 3\n",
       "         ]\n",
       " LU: move.v, Total: 1\n",
       " Valences:[Frame: Motion, GF: Dep, PT: PP[toward], FE: Path, total: 1\n",
       "         , Frame: Motion, GF: Ext, PT: NP, FE: Theme, total: 67\n",
       "         , Frame: Motion, GF: Dep, PT: AVP, FE: Time, total: 2\n",
       "         ]\n",
       " LU: move.v], Total: 1 \n",
       " Valence Patterns: [Total: 1\n",
       " Valences:[Frame: Motion, GF: Dep, PT: AVP, FE: Source, total: 2\n",
       "         , Frame: Motion, GF: Dep, PT: AVP, FE: Speed, total: 5\n",
       "         , Frame: Motion, GF: Ext, PT: NP, FE: Theme, total: 67\n",
       "         ]\n",
       " LU: move.v], Total: 3 \n",
       " Valence Patterns: [Total: 1\n",
       " Valences:[Frame: Motion, GF: Dep, PT: AVP, FE: Source, total: 2\n",
       "         , Frame: Motion, GF: Ext, PT: NP, FE: Theme, total: 67\n",
       "         ]\n",
       " LU: move.v, Total: 1\n",
       " Valences:[Frame: Motion, GF: Dep, PT: PP[from], FE: Source, total: 4\n",
       "         , Frame: Motion, GF: Ext, PT: NP, FE: Theme, total: 67\n",
       "         ]\n",
       " LU: move.v, Total: 1\n",
       " Valences:[Frame: Motion, GF: Dep, PT: PP[off], FE: Source, total: 1\n",
       "         , Frame: Motion, GF: Ext, PT: NP, FE: Theme, total: 67\n",
       "         ]\n",
       " LU: move.v], Total: 1 \n",
       " Valence Patterns: [Total: 1\n",
       " Valences:[Frame: Motion, GF: Obj, PT: NP, FE: Area, total: 1\n",
       "         , Frame: Motion, GF: Dep, PT: PP[to], FE: Goal, total: 27\n",
       "         , Frame: Motion, GF: Ext, PT: NP, FE: Theme, total: 57\n",
       "         , Frame: Motion, GF: Dep, PT: AVP, FE: Time, total: 4\n",
       "         ]\n",
       " LU: go.v], Total: 1 \n",
       " Valence Patterns: [Total: 1\n",
       " Valences:[Frame: Motion, GF: Dep, PT: PP[inside], FE: Area, total: 1\n",
       "         , Frame: Motion, GF: Dep, PT: VPto, FE: Purpose, total: 9\n",
       "         , Frame: Motion, GF: Ext, PT: NP, FE: Theme, total: 57\n",
       "         ]\n",
       " LU: go.v], Total: 2 \n",
       " Valence Patterns: [Total: 1\n",
       " Valences:[Frame: Motion, GF: Dep, PT: PP[by], FE: Carrier, total: 1\n",
       "         , Frame: Motion, GF: , PT: INI, FE: Goal, total: 3\n",
       "         , Frame: Motion, GF: Ext, PT: NP, FE: Theme, total: 57\n",
       "         ]\n",
       " LU: go.v, Total: 1\n",
       " Valences:[Frame: Motion, GF: Dep, PT: PP[in], FE: Carrier, total: 1\n",
       "         , Frame: Motion, GF: , PT: DNI, FE: Goal, total: 2\n",
       "         , Frame: Motion, GF: Ext, PT: NP, FE: Theme, total: 57\n",
       "         ]\n",
       " LU: go.v], Total: 1 \n",
       " Valence Patterns: [Total: 1\n",
       " Valences:[Frame: Motion, GF: Dep, PT: VPing, FE: Depictive, total: 1\n",
       "         , Frame: Motion, GF: Dep, PT: PP[to], FE: Goal, total: 27\n",
       "         , Frame: Motion, GF: Dep, PT: AVP, FE: Manner, total: 1\n",
       "         , Frame: Motion, GF: Ext, PT: NP, FE: Theme, total: 57\n",
       "         , Frame: Motion, GF: Dep, PT: PP[at], FE: Time, total: 2\n",
       "         ]\n",
       " LU: go.v], Total: 1 \n",
       " Valence Patterns: [Total: 1\n",
       " Valences:[Frame: Motion, GF: Dep, PT: PP[with], FE: Depictive, total: 2\n",
       "         , Frame: Motion, GF: Dep, PT: PP[to], FE: Goal, total: 27\n",
       "         , Frame: Motion, GF: Dep, PT: PP[in], FE: Place, total: 2\n",
       "         , Frame: Motion, GF: Ext, PT: NP, FE: Theme, total: 57\n",
       "         , Frame: Motion, GF: Dep, PT: PP[on], FE: Time, total: 4\n",
       "         ]\n",
       " LU: go.v], Total: 1 \n",
       " Valence Patterns: [Total: 1\n",
       " Valences:[Frame: Motion, GF: Dep, PT: PP[with], FE: Depictive, total: 2\n",
       "         , Frame: Motion, GF: , PT: INI, FE: Goal, total: 3\n",
       "         , Frame: Motion, GF: Dep, PT: PP[for], FE: Purpose, total: 5\n",
       "         , Frame: Motion, GF: Ext, PT: NP, FE: Theme, total: 57\n",
       "         ]\n",
       " LU: go.v], Total: 1 \n",
       " Valence Patterns: [Total: 1\n",
       " Valences:[Frame: Motion, GF: Dep, PT: PP[without], FE: Depictive, total: 1\n",
       "         , Frame: Motion, GF: Dep, PT: AVP, FE: Goal, total: 7\n",
       "         , Frame: Motion, GF: Ext, PT: NP, FE: Theme, total: 57\n",
       "         ]\n",
       " LU: go.v], Total: 1 \n",
       " Valence Patterns: [Total: 1\n",
       " Valences:[Frame: Motion, GF: Dep, PT: PP[while], FE: Depictive, total: 1\n",
       "         , Frame: Motion, GF: Dep, PT: PP[to], FE: Goal, total: 27\n",
       "         , Frame: Motion, GF: Ext, PT: NP, FE: Theme, total: 57\n",
       "         , Frame: Motion, GF: Dep, PT: PP[in], FE: Time, total: 2\n",
       "         ]\n",
       " LU: go.v], Total: 1 \n",
       " Valence Patterns: [Total: 1\n",
       " Valences:[Frame: Motion, GF: Dep, PT: PP[out], FE: Direction, total: 1\n",
       "         ]\n",
       " LU: go.v], Total: 2 \n",
       " Valence Patterns: [Total: 1\n",
       " Valences:[Frame: Motion, GF: Dep, PT: AVP, FE: Direction, total: 5\n",
       "         , Frame: Motion, GF: Dep, PT: PP[into], FE: Goal, total: 1\n",
       "         , Frame: Motion, GF: Dep, PT: VPto, FE: Purpose, total: 9\n",
       "         , Frame: Motion, GF: Ext, PT: NP, FE: Theme, total: 57\n",
       "         ]\n",
       " LU: go.v, Total: 1\n",
       " Valences:[Frame: Motion, GF: Dep, PT: AVP, FE: Direction, total: 5\n",
       "         , Frame: Motion, GF: Dep, PT: PP[to], FE: Goal, total: 27\n",
       "         , Frame: Motion, GF: Dep, PT: VPto, FE: Purpose, total: 9\n",
       "         , Frame: Motion, GF: Ext, PT: NP, FE: Theme, total: 57\n",
       "         ]\n",
       " LU: go.v], Total: 4 \n",
       " Valence Patterns: [Total: 1\n",
       " Valences:[Frame: Motion, GF: Dep, PT: AVP, FE: Direction, total: 5\n",
       "         , Frame: Motion, GF: Dep, PT: PP[to], FE: Goal, total: 27\n",
       "         , Frame: Motion, GF: Ext, PT: NP, FE: Theme, total: 57\n",
       "         ]\n",
       " LU: go.v, Total: 1\n",
       " Valences:[Frame: Motion, GF: Dep, PT: PP[of], FE: Direction, total: 1\n",
       "         , Frame: Motion, GF: Dep, PT: PP[to], FE: Goal, total: 27\n",
       "         , Frame: Motion, GF: , PT: CNI, FE: Theme, total: 6\n",
       "         ]\n",
       " LU: go.v, Total: 1\n",
       " Valences:[Frame: Motion, GF: Dep, PT: PP[on], FE: Direction, total: 1\n",
       "         , Frame: Motion, GF: Obj, PT: PP[to], FE: Goal, total: 1\n",
       "         , Frame: Motion, GF: , PT: CNI, FE: Theme, total: 6\n",
       "         ]\n",
       " LU: go.v, Total: 1\n",
       " Valences:[Frame: Motion, GF: Dep, PT: PP[up], FE: Direction, total: 2\n",
       "         , Frame: Motion, GF: Dep, PT: PP[to], FE: Goal, total: 27\n",
       "         , Frame: Motion, GF: Ext, PT: NP, FE: Theme, total: 57\n",
       "         ]\n",
       " LU: go.v], Total: 1 \n",
       " Valence Patterns: [Total: 1\n",
       " Valences:[Frame: Motion, GF: Dep, PT: AVP, FE: Direction, total: 5\n",
       "         , Frame: Motion, GF: Dep, PT: PP[to], FE: Goal, total: 27\n",
       "         , Frame: Motion, GF: Ext, PT: NP, FE: Theme, total: 57\n",
       "         , Frame: Motion, GF: Dep, PT: AVP, FE: Time, total: 4\n",
       "         ]\n",
       " LU: go.v], Total: 1 \n",
       " Valence Patterns: [Total: 1\n",
       " Valences:[Frame: Motion, GF: Dep, PT: PP[up], FE: Direction, total: 2\n",
       "         , Frame: Motion, GF: , PT: 2nd, FE: Path, total: 1\n",
       "         , Frame: Motion, GF: Dep, PT: VPto, FE: Purpose, total: 9\n",
       "         , Frame: Motion, GF: , PT: CNI, FE: Theme, total: 6\n",
       "         ]\n",
       " LU: go.v], Total: 2 \n",
       " Valence Patterns: [Total: 1\n",
       " Valences:[Frame: Motion, GF: Dep, PT: AVP, FE: Direction, total: 5\n",
       "         , Frame: Motion, GF: Ext, PT: NP, FE: Theme, total: 57\n",
       "         ]\n",
       " LU: go.v, Total: 1\n",
       " Valences:[Frame: Motion, GF: Dep, PT: NP, FE: Direction, total: 1\n",
       "         , Frame: Motion, GF: Ext, PT: NP, FE: Theme, total: 57\n",
       "         ]\n",
       " LU: go.v], Total: 1 \n",
       " Valence Patterns: [Total: 1\n",
       " Valences:[Frame: Motion, GF: Dep, PT: PP[until], FE: Duration, total: 1\n",
       "         , Frame: Motion, GF: Dep, PT: PP[to], FE: Goal, total: 27\n",
       "         , Frame: Motion, GF: Dep, PT: PP[for], FE: Purpose, total: 5\n",
       "         , Frame: Motion, GF: Ext, PT: NP, FE: Theme, total: 57\n",
       "         ]\n",
       " LU: go.v], Total: 1 \n",
       " Valence Patterns: [Total: 1\n",
       " Valences:[Frame: Motion, GF: Dep, PT: PP[to], FE: Goal, total: 27\n",
       "         , Frame: Motion, GF: Dep, PT: AVP, FE: Path, total: 2\n",
       "         , Frame: Motion, GF: Dep, PT: AVP, FE: Speed, total: 4\n",
       "         , Frame: Motion, GF: Ext, PT: NP, FE: Theme, total: 57\n",
       "         ]\n",
       " LU: go.v], Total: 1 \n",
       " Valence Patterns: [Total: 1\n",
       " Valences:[Frame: Motion, GF: Dep, PT: PP[to], FE: Goal, total: 27\n",
       "         , Frame: Motion, GF: Dep, PT: PP[round], FE: Path, total: 1\n",
       "         , Frame: Motion, GF: Dep, PT: AVP, FE: Speed, total: 4\n",
       "         , Frame: Motion, GF: Ext, PT: NP, FE: Theme, total: 57\n",
       "         , Frame: Motion, GF: Dep, PT: Sfin, FE: Time, total: 1\n",
       "         ]\n",
       " LU: go.v], Total: 3 \n",
       " Valence Patterns: [Total: 1\n",
       " Valences:[Frame: Motion, GF: Dep, PT: PP[on], FE: Goal, total: 2\n",
       "         , Frame: Motion, GF: Dep, PT: PP[past], FE: Path, total: 1\n",
       "         , Frame: Motion, GF: Ext, PT: NP, FE: Theme, total: 57\n",
       "         ]\n",
       " LU: go.v, Total: 1\n",
       " Valences:[Frame: Motion, GF: Dep, PT: PP[to], FE: Goal, total: 27\n",
       "         , Frame: Motion, GF: Dep, PT: AVP, FE: Path, total: 2\n",
       "         , Frame: Motion, GF: Ext, PT: NP, FE: Theme, total: 57\n",
       "         ]\n",
       " LU: go.v, Total: 1\n",
       " Valences:[Frame: Motion, GF: Dep, PT: PP[to], FE: Goal, total: 27\n",
       "         , Frame: Motion, GF: Dep, PT: PP[through], FE: Path, total: 4\n",
       "         , Frame: Motion, GF: , PT: CNI, FE: Theme, total: 6\n",
       "         ]\n",
       " LU: go.v], Total: 4 \n",
       " Valence Patterns: [Total: 1\n",
       " Valences:[Frame: Motion, GF: Dep, PT: AVP, FE: Goal, total: 7\n",
       "         , Frame: Motion, GF: Dep, PT: PP[for], FE: Purpose, total: 5\n",
       "         , Frame: Motion, GF: Ext, PT: NP, FE: Theme, total: 57\n",
       "         ]\n",
       " LU: go.v, Total: 1\n",
       " Valences:[Frame: Motion, GF: Dep, PT: AVP, FE: Goal, total: 7\n",
       "         , Frame: Motion, GF: Dep, PT: VPto, FE: Purpose, total: 9\n",
       "         , Frame: Motion, GF: Ext, PT: NP, FE: Theme, total: 57\n",
       "         ]\n",
       " LU: go.v, Total: 1\n",
       " Valences:[Frame: Motion, GF: Dep, PT: PP[to], FE: Goal, total: 27\n",
       "         , Frame: Motion, GF: Dep, PT: PP[for], FE: Purpose, total: 5\n",
       "         , Frame: Motion, GF: Ext, PT: NP, FE: Theme, total: 57\n",
       "         ]\n",
       " LU: go.v, Total: 1\n",
       " Valences:[Frame: Motion, GF: Dep, PT: PP[to], FE: Goal, total: 27\n",
       "         , Frame: Motion, GF: Dep, PT: VPto, FE: Purpose, total: 9\n",
       "         , Frame: Motion, GF: Ext, PT: NP, FE: Theme, total: 57\n",
       "         ]\n",
       " LU: go.v], Total: 2 \n",
       " Valence Patterns: [Total: 1\n",
       " Valences:[Frame: Motion, GF: , PT: DNI, FE: Goal, total: 2\n",
       "         , Frame: Motion, GF: Dep, PT: VPto, FE: Purpose, total: 9\n",
       "         , Frame: Motion, GF: Ext, PT: NP, FE: Theme, total: 57\n",
       "         , Frame: Motion, GF: Ext, PT: NP, FE: Theme, total: 57\n",
       "         ]\n",
       " LU: go.v, Total: 1\n",
       " Valences:[Frame: Motion, GF: Dep, PT: PP[on], FE: Goal, total: 2\n",
       "         , Frame: Motion, GF: Dep, PT: VPto, FE: Purpose, total: 9\n",
       "         , Frame: Motion, GF: Ext, PT: NP, FE: Theme, total: 57\n",
       "         , Frame: Motion, GF: Ext, PT: NP, FE: Theme, total: 57\n",
       "         ]\n",
       " LU: go.v], Total: 3 \n",
       " Valence Patterns: [Total: 1\n",
       " Valences:[Frame: Motion, GF: Dep, PT: PP[in], FE: Goal, total: 2\n",
       "         , Frame: Motion, GF: Dep, PT: PP[in], FE: Purpose, total: 1\n",
       "         , Frame: Motion, GF: Ext, PT: NP, FE: Theme, total: 57\n",
       "         , Frame: Motion, GF: Dep, PT: NP, FE: Time, total: 1\n",
       "         ]\n",
       " LU: go.v, Total: 1\n",
       " Valences:[Frame: Motion, GF: Dep, PT: PP[to], FE: Goal, total: 27\n",
       "         , Frame: Motion, GF: Dep, PT: PP[for], FE: Purpose, total: 5\n",
       "         , Frame: Motion, GF: Ext, PT: NP, FE: Theme, total: 57\n",
       "         , Frame: Motion, GF: Dep, PT: PP[in], FE: Time, total: 2\n",
       "         ]\n",
       " LU: go.v, Total: 1\n",
       " Valences:[Frame: Motion, GF: Dep, PT: PP[to], FE: Goal, total: 27\n",
       "         , Frame: Motion, GF: Dep, PT: VPto, FE: Purpose, total: 9\n",
       "         , Frame: Motion, GF: Ext, PT: NP, FE: Theme, total: 57\n",
       "         , Frame: Motion, GF: Dep, PT: AVP, FE: Time, total: 4\n",
       "         ]\n",
       " LU: go.v], Total: 1 \n",
       " Valence Patterns: [Total: 1\n",
       " Valences:[Frame: Motion, GF: Dep, PT: AVP, FE: Goal, total: 7\n",
       "         , Frame: Motion, GF: Dep, PT: PP[from], FE: Source, total: 2\n",
       "         , Frame: Motion, GF: Ext, PT: NP, FE: Theme, total: 57\n",
       "         ]\n",
       " LU: go.v], Total: 11 \n",
       " Valence Patterns: [Total: 1\n",
       " Valences:[Frame: Motion, GF: Dep, PT: AVP, FE: Goal, total: 7\n",
       "         , Frame: Motion, GF: Ext, PT: NP, FE: Theme, total: 57\n",
       "         ]\n",
       " LU: go.v, Total: 1\n",
       " Valences:[Frame: Motion, GF: , PT: INI, FE: Goal, total: 3\n",
       "         , Frame: Motion, GF: Ext, PT: NP, FE: Theme, total: 57\n",
       "         ]\n",
       " LU: go.v, Total: 1\n",
       " Valences:[Frame: Motion, GF: Ext, PT: NP, FE: Goal, total: 1\n",
       "         , Frame: Motion, GF: , PT: CNI, FE: Theme, total: 6\n",
       "         ]\n",
       " LU: go.v, Total: 2\n",
       " Valences:[Frame: Motion, GF: Obj, PT: NP, FE: Goal, total: 2\n",
       "         , Frame: Motion, GF: Ext, PT: NP, FE: Theme, total: 57\n",
       "         ]\n",
       " LU: go.v, Total: 1\n",
       " Valences:[Frame: Motion, GF: Dep, PT: PP[in], FE: Goal, total: 2\n",
       "         , Frame: Motion, GF: Ext, PT: NP, FE: Theme, total: 57\n",
       "         ]\n",
       " LU: go.v, Total: 4\n",
       " Valences:[Frame: Motion, GF: Dep, PT: PP[to], FE: Goal, total: 27\n",
       "         , Frame: Motion, GF: Ext, PT: NP, FE: Theme, total: 57\n",
       "         ]\n",
       " LU: go.v, Total: 1\n",
       " Valences:[Frame: Motion, GF: Dep, PT: VPto, FE: Goal, total: 1\n",
       "         , Frame: Motion, GF: Ext, PT: NP, FE: Theme, total: 57\n",
       "         ]\n",
       " LU: go.v], Total: 2 \n",
       " Valence Patterns: [Total: 2\n",
       " Valences:[Frame: Motion, GF: Dep, PT: AVP, FE: Goal, total: 7\n",
       "         , Frame: Motion, GF: Ext, PT: NP, FE: Theme, total: 57\n",
       "         , Frame: Motion, GF: Ext, PT: NP, FE: Theme, total: 57\n",
       "         ]\n",
       " LU: go.v], Total: 5 \n",
       " Valence Patterns: [Total: 1\n",
       " Valences:[Frame: Motion, GF: Dep, PT: PP[to], FE: Goal, total: 27\n",
       "         , Frame: Motion, GF: Ext, PT: NP, FE: Theme, total: 57\n",
       "         , Frame: Motion, GF: Dep, PT: AVP, FE: Time, total: 4\n",
       "         ]\n",
       " LU: go.v, Total: 3\n",
       " Valences:[Frame: Motion, GF: Dep, PT: PP[to], FE: Goal, total: 27\n",
       "         , Frame: Motion, GF: Ext, PT: NP, FE: Theme, total: 57\n",
       "         , Frame: Motion, GF: Dep, PT: PP[on], FE: Time, total: 4\n",
       "         ]\n",
       " LU: go.v, Total: 1\n",
       " Valences:[Frame: Motion, GF: Dep, PT: PP[to], FE: Goal, total: 27\n",
       "         , Frame: Motion, GF: Ext, PT: NP, FE: Theme, total: 57\n",
       "         , Frame: Motion, GF: Dep, PT: Sub, FE: Time, total: 1\n",
       "         ]\n",
       " LU: go.v], Total: 1 \n",
       " Valence Patterns: [Total: 1\n",
       " Valences:[Frame: Motion, GF: Dep, PT: PP[in], FE: Path, total: 1\n",
       "         , Frame: Motion, GF: Dep, PT: PP[on], FE: Path, total: 1\n",
       "         , Frame: Motion, GF: Dep, PT: PP[at], FE: Place, total: 1\n",
       "         , Frame: Motion, GF: Ext, PT: NP, FE: Theme, total: 57\n",
       "         , Frame: Motion, GF: Ext, PT: NP, FE: Theme, total: 57\n",
       "         ]\n",
       " LU: go.v], Total: 1 \n",
       " Valence Patterns: [Total: 1\n",
       " Valences:[Frame: Motion, GF: Dep, PT: PP[through], FE: Path, total: 4\n",
       "         , Frame: Motion, GF: Dep, PT: VPing, FE: Purpose, total: 1\n",
       "         , Frame: Motion, GF: Dep, PT: AVP, FE: Speed, total: 4\n",
       "         , Frame: Motion, GF: Ext, PT: NP, FE: Theme, total: 57\n",
       "         ]\n",
       " LU: go.v], Total: 1 \n",
       " Valence Patterns: [Total: 1\n",
       " Valences:[Frame: Motion, GF: Dep, PT: PP[up], FE: Path, total: 1\n",
       "         , Frame: Motion, GF: Dep, PT: PP[from], FE: Source, total: 2\n",
       "         , Frame: Motion, GF: , PT: CNI, FE: Theme, total: 6\n",
       "         ]\n",
       " LU: go.v], Total: 1 \n",
       " Valence Patterns: [Total: 1\n",
       " Valences:[Frame: Motion, GF: , PT: INI, FE: Path, total: 1\n",
       "         , Frame: Motion, GF: Dep, PT: AVP, FE: Speed, total: 4\n",
       "         , Frame: Motion, GF: Ext, PT: NP, FE: Theme, total: 57\n",
       "         ]\n",
       " LU: go.v], Total: 3 \n",
       " Valence Patterns: [Total: 1\n",
       " Valences:[Frame: Motion, GF: Dep, PT: PP[by], FE: Path, total: 1\n",
       "         , Frame: Motion, GF: Ext, PT: NP, FE: Theme, total: 57\n",
       "         ]\n",
       " LU: go.v, Total: 2\n",
       " Valences:[Frame: Motion, GF: Dep, PT: PP[through], FE: Path, total: 4\n",
       "         , Frame: Motion, GF: Ext, PT: NP, FE: Theme, total: 57\n",
       "         ]\n",
       " LU: go.v], Total: 1 \n",
       " Valence Patterns: [Total: 1\n",
       " Valences:[Frame: Motion, GF: Dep, PT: PP[in], FE: Place, total: 2\n",
       "         , Frame: Motion, GF: Dep, PT: AVP, FE: Source, total: 1\n",
       "         , Frame: Motion, GF: Ext, PT: NP, FE: Theme, total: 57\n",
       "         , Frame: Motion, GF: Dep, PT: PP[at], FE: Time, total: 2\n",
       "         ]\n",
       " LU: go.v], Total: 1 \n",
       " Valence Patterns: [Total: 1\n",
       " Valences:[Frame: Motion, GF: , PT: DNI, FE: Source, total: 1\n",
       "         , Frame: Motion, GF: Ext, PT: NP, FE: Theme, total: 57\n",
       "         , Frame: Motion, GF: Dep, PT: PP[by], FE: Time, total: 1\n",
       "         ]\n",
       " LU: go.v], Total: 1 \n",
       " Valence Patterns: [Total: 1\n",
       " Valences:[Frame: Motion, GF: Ext, PT: NP, FE: Theme, total: 57\n",
       "         ]\n",
       " LU: go.v], Total: 2 \n",
       " Valence Patterns: [Total: 2\n",
       " Valences:[Frame: Motion, GF: Dep, PT: PP[in], FE: Area, total: 2\n",
       "         , Frame: Motion, GF: Ext, PT: NP, FE: Theme, total: 39\n",
       "         ]\n",
       " LU: drift.v], Total: 1 \n",
       " Valence Patterns: [Total: 1\n",
       " Valences:[Frame: Motion, GF: Dep, PT: PP[in], FE: Carrier, total: 1\n",
       "         , Frame: Motion, GF: Dep, PT: AVP, FE: Distance, total: 1\n",
       "         , Frame: Motion, GF: , PT: INI, FE: Path, total: 4\n",
       "         , Frame: Motion, GF: Ext, PT: NP, FE: Theme, total: 39\n",
       "         ]\n",
       " LU: drift.v], Total: 1 \n",
       " Valence Patterns: [Total: 1\n",
       " Valences:[Frame: Motion, GF: Dep, PT: PP[on], FE: Carrier, total: 2\n",
       "         , Frame: Motion, GF: Dep, PT: AVP, FE: Manner, total: 5\n",
       "         , Frame: Motion, GF: , PT: INI, FE: Path, total: 4\n",
       "         , Frame: Motion, GF: Ext, PT: NP, FE: Theme, total: 39\n",
       "         ]\n",
       " LU: drift.v], Total: 1 \n",
       " Valence Patterns: [Total: 1\n",
       " Valences:[Frame: Motion, GF: Dep, PT: PP[on], FE: Carrier, total: 2\n",
       "         , Frame: Motion, GF: , PT: INI, FE: Path, total: 4\n",
       "         , Frame: Motion, GF: Ext, PT: NP, FE: Theme, total: 39\n",
       "         ]\n",
       " LU: drift.v], Total: 1 \n",
       " Valence Patterns: [Total: 1\n",
       " Valences:[Frame: Motion, GF: Dep, PT: NP, FE: Distance, total: 1\n",
       "         , Frame: Motion, GF: Dep, PT: AVP, FE: Goal, total: 1\n",
       "         , Frame: Motion, GF: Dep, PT: AVP, FE: Goal, total: 1\n",
       "         , Frame: Motion, GF: Ext, PT: NP, FE: Theme, total: 39\n",
       "         ]\n",
       " LU: drift.v], Total: 1 \n",
       " Valence Patterns: [Total: 1\n",
       " Valences:[Frame: Motion, GF: Dep, PT: PP[towards], FE: Goal, total: 4\n",
       "         , Frame: Motion, GF: Dep, PT: AVP, FE: Path, total: 4\n",
       "         , Frame: Motion, GF: Dep, PT: PP[in], FE: Place, total: 2\n",
       "         , Frame: Motion, GF: Ext, PT: NP, FE: Theme, total: 39\n",
       "         ]\n",
       " LU: drift.v], Total: 1 \n",
       " Valence Patterns: [Total: 1\n",
       " Valences:[Frame: Motion, GF: Dep, PT: PP[towards], FE: Goal, total: 4\n",
       "         , Frame: Motion, GF: Dep, PT: AVP, FE: Path, total: 4\n",
       "         , Frame: Motion, GF: Dep, PT: PP[from], FE: Source, total: 6\n",
       "         , Frame: Motion, GF: Ext, PT: NP, FE: Theme, total: 39\n",
       "         ]\n",
       " LU: drift.v], Total: 1 \n",
       " Valence Patterns: [Total: 1\n",
       " Valences:[Frame: Motion, GF: Dep, PT: PP[to], FE: Goal, total: 2\n",
       "         , Frame: Motion, GF: Dep, PT: AVP, FE: Speed, total: 5\n",
       "         , Frame: Motion, GF: Ext, PT: NP, FE: Theme, total: 39\n",
       "         ]\n",
       " LU: drift.v], Total: 5 \n",
       " Valence Patterns: [Total: 1\n",
       " Valences:[Frame: Motion, GF: Dep, PT: NP, FE: Goal, total: 1\n",
       "         , Frame: Motion, GF: Ext, PT: NP, FE: Theme, total: 39\n",
       "         ]\n",
       " LU: drift.v, Total: 1\n",
       " Valences:[Frame: Motion, GF: Dep, PT: PP[against], FE: Goal, total: 1\n",
       "         , Frame: Motion, GF: Ext, PT: NP, FE: Theme, total: 39\n",
       "         ]\n",
       " LU: drift.v, Total: 1\n",
       " Valences:[Frame: Motion, GF: Dep, PT: PP[into], FE: Goal, total: 1\n",
       "         , Frame: Motion, GF: Ext, PT: NP, FE: Theme, total: 39\n",
       "         ]\n",
       " LU: drift.v, Total: 2\n",
       " Valences:[Frame: Motion, GF: Dep, PT: PP[towards], FE: Goal, total: 4\n",
       "         , Frame: Motion, GF: Ext, PT: NP, FE: Theme, total: 39\n",
       "         ]\n",
       " LU: drift.v], Total: 1 \n",
       " Valence Patterns: [Total: 1\n",
       " Valences:[Frame: Motion, GF: Dep, PT: PP[to], FE: Goal, total: 2\n",
       "         , Frame: Motion, GF: Ext, PT: NP, FE: Theme, total: 39\n",
       "         , Frame: Motion, GF: Ext, PT: NP, FE: Theme, total: 39\n",
       "         ]\n",
       " LU: drift.v], Total: 2 \n",
       " Valence Patterns: [Total: 1\n",
       " Valences:[Frame: Motion, GF: Dep, PT: AVP, FE: Manner, total: 5\n",
       "         , Frame: Motion, GF: Dep, PT: PP[across], FE: Path, total: 6\n",
       "         , Frame: Motion, GF: Ext, PT: NP, FE: Theme, total: 39\n",
       "         ]\n",
       " LU: drift.v, Total: 1\n",
       " Valences:[Frame: Motion, GF: Dep, PT: AVP, FE: Manner, total: 5\n",
       "         , Frame: Motion, GF: Dep, PT: PP[through], FE: Path, total: 5\n",
       "         , Frame: Motion, GF: Ext, PT: NP, FE: Theme, total: 39\n",
       "         ]\n",
       " LU: drift.v], Total: 1 \n",
       " Valence Patterns: [Total: 1\n",
       " Valences:[Frame: Motion, GF: Dep, PT: AVP, FE: Manner, total: 5\n",
       "         , Frame: Motion, GF: Dep, PT: PP[over], FE: Path, total: 2\n",
       "         , Frame: Motion, GF: Ext, PT: NP, FE: Theme, total: 39\n",
       "         , Frame: Motion, GF: Ext, PT: NP, FE: Theme, total: 39\n",
       "         ]\n",
       " LU: drift.v], Total: 1 \n",
       " Valence Patterns: [Total: 1\n",
       " Valences:[Frame: Motion, GF: Dep, PT: AVP, FE: Manner, total: 5\n",
       "         , Frame: Motion, GF: Dep, PT: PP[from], FE: Source, total: 6\n",
       "         , Frame: Motion, GF: Ext, PT: NP, FE: Theme, total: 39\n",
       "         ]\n",
       " LU: drift.v], Total: 1 \n",
       " Valence Patterns: [Total: 1\n",
       " Valences:[Frame: Motion, GF: Dep, PT: AVP, FE: Path, total: 4\n",
       "         , Frame: Motion, GF: Dep, PT: PP[in], FE: Path, total: 1\n",
       "         , Frame: Motion, GF: Dep, PT: PP[from], FE: Source, total: 6\n",
       "         , Frame: Motion, GF: Ext, PT: NP, FE: Theme, total: 39\n",
       "         ]\n",
       " LU: drift.v], Total: 1 \n",
       " Valence Patterns: [Total: 1\n",
       " Valences:[Frame: Motion, GF: Dep, PT: PP[across], FE: Path, total: 6\n",
       "         , Frame: Motion, GF: Dep, PT: PP[in], FE: Place, total: 2\n",
       "         , Frame: Motion, GF: Dep, PT: AVP, FE: Speed, total: 5\n",
       "         , Frame: Motion, GF: Ext, PT: NP, FE: Theme, total: 39\n",
       "         ]\n",
       " LU: drift.v], Total: 3 \n",
       " Valence Patterns: [Total: 1\n",
       " Valences:[Frame: Motion, GF: Dep, PT: AVP, FE: Path, total: 4\n",
       "         , Frame: Motion, GF: Dep, PT: AVP, FE: Speed, total: 5\n",
       "         , Frame: Motion, GF: Ext, PT: NP, FE: Theme, total: 39\n",
       "         ]\n",
       " LU: drift.v, Total: 1\n",
       " Valences:[Frame: Motion, GF: , PT: INI, FE: Path, total: 4\n",
       "         , Frame: Motion, GF: Dep, PT: PP[at], FE: Speed, total: 1\n",
       "         , Frame: Motion, GF: Ext, PT: NP, FE: Theme, total: 39\n",
       "         ]\n",
       " LU: drift.v, Total: 1\n",
       " Valences:[Frame: Motion, GF: Dep, PT: PP[about], FE: Path, total: 1\n",
       "         , Frame: Motion, GF: Dep, PT: AVP, FE: Speed, total: 5\n",
       "         , Frame: Motion, GF: Ext, PT: NP, FE: Theme, total: 39\n",
       "         ]\n",
       " LU: drift.v], Total: 8 \n",
       " Valence Patterns: [Total: 3\n",
       " Valences:[Frame: Motion, GF: Dep, PT: PP[across], FE: Path, total: 6\n",
       "         , Frame: Motion, GF: Ext, PT: NP, FE: Theme, total: 39\n",
       "         ]\n",
       " LU: drift.v, Total: 1\n",
       " Valences:[Frame: Motion, GF: Dep, PT: PP[over], FE: Path, total: 2\n",
       "         , Frame: Motion, GF: Ext, PT: NP, FE: Theme, total: 39\n",
       "         ]\n",
       " LU: drift.v, Total: 4\n",
       " Valences:[Frame: Motion, GF: Dep, PT: PP[through], FE: Path, total: 5\n",
       "         , Frame: Motion, GF: Ext, PT: NP, FE: Theme, total: 39\n",
       "         ]\n",
       " LU: drift.v], Total: 1 \n",
       " Valence Patterns: [Total: 1\n",
       " Valences:[Frame: Motion, GF: Dep, PT: PP[across], FE: Path, total: 6\n",
       "         , Frame: Motion, GF: Ext, PT: NP, FE: Theme, total: 39\n",
       "         , Frame: Motion, GF: Ext, PT: NP, FE: Theme, total: 39\n",
       "         , Frame: Motion, GF: Dep, PT: PP[after], FE: Time, total: 1\n",
       "         ]\n",
       " LU: drift.v], Total: 1 \n",
       " Valence Patterns: [Total: 1\n",
       " Valences:[Frame: Motion, GF: Dep, PT: PP[away], FE: Source, total: 2\n",
       "         , Frame: Motion, GF: Dep, PT: AVP, FE: Speed, total: 5\n",
       "         , Frame: Motion, GF: Ext, PT: NP, FE: Theme, total: 39\n",
       "         ]\n",
       " LU: drift.v], Total: 5 \n",
       " Valence Patterns: [Total: 1\n",
       " Valences:[Frame: Motion, GF: Dep, PT: PP[away], FE: Source, total: 2\n",
       "         , Frame: Motion, GF: Ext, PT: NP, FE: Theme, total: 39\n",
       "         ]\n",
       " LU: drift.v, Total: 3\n",
       " Valences:[Frame: Motion, GF: Dep, PT: PP[from], FE: Source, total: 6\n",
       "         , Frame: Motion, GF: Ext, PT: NP, FE: Theme, total: 39\n",
       "         ]\n",
       " LU: drift.v, Total: 1\n",
       " Valences:[Frame: Motion, GF: Dep, PT: PP[out], FE: Source, total: 1\n",
       "         , Frame: Motion, GF: Ext, PT: NP, FE: Theme, total: 39\n",
       "         ]\n",
       " LU: drift.v], Total: 3 \n",
       " Valence Patterns: [Total: 1\n",
       " Valences:[Frame: Motion, GF: Dep, PT: AVP, FE: Manner, total: 2\n",
       "         , Frame: Motion, GF: , PT: INI, FE: Path, total: 1\n",
       "         , Frame: Motion, GF: Ext, PT: NP, FE: Theme, total: 12\n",
       "         ]\n",
       " LU: glide.v, Total: 1\n",
       " Valences:[Frame: Motion, GF: Dep, PT: AVP, FE: Manner, total: 2\n",
       "         , Frame: Motion, GF: Dep, PT: PP[over], FE: Path, total: 1\n",
       "         , Frame: Motion, GF: Ext, PT: N, FE: Theme, total: 1\n",
       "         ]\n",
       " LU: glide.v, Total: 1\n",
       " Valences:[Frame: Motion, GF: Dep, PT: PP[in], FE: Manner, total: 1\n",
       "         , Frame: Motion, GF: Dep, PT: PP[through], FE: Path, total: 2\n",
       "         , Frame: Motion, GF: Ext, PT: NP, FE: Theme, total: 12\n",
       "         ]\n",
       " LU: glide.v], Total: 6 \n",
       " Valence Patterns: [Total: 2\n",
       " Valences:[Frame: Motion, GF: Dep, PT: AVP, FE: Path, total: 2\n",
       "         , Frame: Motion, GF: Ext, PT: NP, FE: Theme, total: 12\n",
       "         ]\n",
       " LU: glide.v, Total: 1\n",
       " Valences:[Frame: Motion, GF: Dep, PT: PP[across], FE: Path, total: 1\n",
       "         , Frame: Motion, GF: Ext, PT: NP, FE: Theme, total: 12\n",
       "         ]\n",
       " LU: glide.v, Total: 1\n",
       " Valences:[Frame: Motion, GF: Dep, PT: PP[past], FE: Path, total: 1\n",
       "         , Frame: Motion, GF: Ext, PT: NP, FE: Theme, total: 12\n",
       "         ]\n",
       " LU: glide.v, Total: 1\n",
       " Valences:[Frame: Motion, GF: Dep, PT: PP[through], FE: Path, total: 2\n",
       "         , Frame: Motion, GF: Ext, PT: NP, FE: Theme, total: 12\n",
       "         ]\n",
       " LU: glide.v, Total: 1\n",
       " Valences:[Frame: Motion, GF: Dep, PT: PP[underneath], FE: Path, total: 1\n",
       "         , Frame: Motion, GF: Ext, PT: NP, FE: Theme, total: 12\n",
       "         ]\n",
       " LU: glide.v], Total: 1 \n",
       " Valence Patterns: [Total: 1\n",
       " Valences:[Frame: Motion, GF: Dep, PT: PP[about], FE: Path, total: 1\n",
       "         , Frame: Motion, GF: Ext, PT: NP, FE: Theme, total: 12\n",
       "         , Frame: Motion, GF: Ext, PT: NP, FE: Theme, total: 12\n",
       "         ]\n",
       " LU: glide.v], Total: 3 \n",
       " Valence Patterns: [Total: 2\n",
       " Valences:[Frame: Motion, GF: Dep, PT: AVP, FE: Source, total: 2\n",
       "         , Frame: Motion, GF: Ext, PT: NP, FE: Theme, total: 12\n",
       "         ]\n",
       " LU: glide.v, Total: 1\n",
       " Valences:[Frame: Motion, GF: Dep, PT: PP[out], FE: Source, total: 1\n",
       "         , Frame: Motion, GF: Ext, PT: NP, FE: Theme, total: 12\n",
       "         ]\n",
       " LU: glide.v], Total: 1 \n",
       " Valence Patterns: [Total: 1\n",
       " Valences:[Frame: Motion, GF: Dep, PT: AVP, FE: Area, total: 1\n",
       "         , Frame: Motion, GF: Dep, PT: PP[from], FE: Depictive, total: 1\n",
       "         , Frame: Motion, GF: Ext, PT: N, FE: Theme, total: 7\n",
       "         ]\n",
       " LU: blow.v], Total: 2 \n",
       " Valence Patterns: [Total: 1\n",
       " Valences:[Frame: Motion, GF: Obj, PT: NP, FE: Area, total: 1\n",
       "         , Frame: Motion, GF: Ext, PT: NP, FE: Theme, total: 23\n",
       "         ]\n",
       " LU: blow.v, Total: 1\n",
       " Valences:[Frame: Motion, GF: Dep, PT: PP[in], FE: Area, total: 1\n",
       "         , Frame: Motion, GF: Ext, PT: NP, FE: Theme, total: 23\n",
       "         ]\n",
       " LU: blow.v], Total: 1 \n",
       " Valence Patterns: [Total: 1\n",
       " Valences:[Frame: Motion, GF: Dep, PT: PP[by], FE: Carrier, total: 1\n",
       "         , Frame: Motion, GF: Dep, PT: PP[across], FE: Path, total: 2\n",
       "         , Frame: Motion, GF: Ext, PT: NP, FE: Theme, total: 23\n",
       "         ]\n",
       " LU: blow.v], Total: 1 \n",
       " Valence Patterns: [Total: 1\n",
       " Valences:[Frame: Motion, GF: Dep, PT: PP[in], FE: Carrier, total: 1\n",
       "         , Frame: Motion, GF: Dep, PT: PP[from], FE: Source, total: 5\n",
       "         , Frame: Motion, GF: Ext, PT: NP, FE: Theme, total: 23\n",
       "         ]\n",
       " LU: blow.v], Total: 1 \n",
       " Valence Patterns: [Total: 1\n",
       " Valences:[Frame: Motion, GF: Dep, PT: PP[in], FE: Goal, total: 3\n",
       "         , Frame: Motion, GF: Dep, PT: PP[under], FE: Path, total: 1\n",
       "         , Frame: Motion, GF: Dep, PT: PP[inside], FE: Place, total: 1\n",
       "         , Frame: Motion, GF: Ext, PT: NP, FE: Theme, total: 23\n",
       "         ]\n",
       " LU: blow.v], Total: 1 \n",
       " Valence Patterns: [Total: 1\n",
       " Valences:[Frame: Motion, GF: Dep, PT: PP[to], FE: Goal, total: 1\n",
       "         , Frame: Motion, GF: Dep, PT: AVP, FE: Path, total: 2\n",
       "         , Frame: Motion, GF: Ext, PT: N, FE: Theme, total: 7\n",
       "         ]\n",
       " LU: blow.v], Total: 1 \n",
       " Valence Patterns: [Total: 1\n",
       " Valences:[Frame: Motion, GF: Dep, PT: PP[in], FE: Goal, total: 3\n",
       "         , Frame: Motion, GF: Dep, PT: PP[at], FE: Place, total: 1\n",
       "         , Frame: Motion, GF: Ext, PT: NP, FE: Theme, total: 23\n",
       "         ]\n",
       " LU: blow.v], Total: 4 \n",
       " Valence Patterns: [Total: 1\n",
       " Valences:[Frame: Motion, GF: Dep, PT: AVP, FE: Goal, total: 1\n",
       "         , Frame: Motion, GF: Ext, PT: NP, FE: Theme, total: 23\n",
       "         ]\n",
       " LU: blow.v, Total: 1\n",
       " Valences:[Frame: Motion, GF: Obj, PT: NP, FE: Goal, total: 1\n",
       "         , Frame: Motion, GF: Ext, PT: NP, FE: Theme, total: 23\n",
       "         ]\n",
       " LU: blow.v, Total: 1\n",
       " Valences:[Frame: Motion, GF: Dep, PT: PP[in], FE: Goal, total: 3\n",
       "         , Frame: Motion, GF: Ext, PT: N, FE: Theme, total: 7\n",
       "         ]\n",
       " LU: blow.v, Total: 1\n",
       " Valences:[Frame: Motion, GF: Dep, PT: PP[into], FE: Goal, total: 2\n",
       "         , Frame: Motion, GF: Ext, PT: NP, FE: Theme, total: 23\n",
       "         ]\n",
       " LU: blow.v], Total: 1 \n",
       " Valence Patterns: [Total: 1\n",
       " Valences:[Frame: Motion, GF: Dep, PT: PP[into], FE: Goal, total: 2\n",
       "         , Frame: Motion, GF: Ext, PT: NP, FE: Theme, total: 23\n",
       "         , Frame: Motion, GF: Ext, PT: NP, FE: Theme, total: 23\n",
       "         ]\n",
       " LU: blow.v], Total: 1 \n",
       " Valence Patterns: [Total: 1\n",
       " Valences:[Frame: Motion, GF: Dep, PT: PP[onto], FE: Goal, total: 1\n",
       "         , Frame: Motion, GF: Ext, PT: NP, FE: Theme, total: 23\n",
       "         , Frame: Motion, GF: Dep, PT: AVP, FE: Time, total: 2\n",
       "         ]\n",
       " LU: blow.v], Total: 1 \n",
       " Valence Patterns: [Total: 1\n",
       " Valences:[Frame: Motion, GF: Dep, PT: AVP, FE: Manner, total: 1\n",
       "         , Frame: Motion, GF: , PT: INI, FE: Path, total: 3\n",
       "         , Frame: Motion, GF: Ext, PT: NP, FE: Theme, total: 23\n",
       "         ]\n",
       " LU: blow.v], Total: 1 \n",
       " Valence Patterns: [Total: 1\n",
       " Valences:[Frame: Motion, GF: Dep, PT: PP[in], FE: Manner, total: 1\n",
       "         , Frame: Motion, GF: Dep, PT: PP[off], FE: Source, total: 1\n",
       "         , Frame: Motion, GF: Ext, PT: NP, FE: Theme, total: 23\n",
       "         ]\n",
       " LU: blow.v], Total: 2 \n",
       " Valence Patterns: [Total: 1\n",
       " Valences:[Frame: Motion, GF: , PT: INI, FE: Path, total: 3\n",
       "         , Frame: Motion, GF: Dep, PT: AJP, FE: Result, total: 1\n",
       "         , Frame: Motion, GF: Ext, PT: NP, FE: Theme, total: 23\n",
       "         ]\n",
       " LU: blow.v, Total: 1\n",
       " Valences:[Frame: Motion, GF: , PT: INI, FE: Path, total: 3\n",
       "         , Frame: Motion, GF: Dep, PT: AVP, FE: Result, total: 1\n",
       "         , Frame: Motion, GF: Ext, PT: NP, FE: Theme, total: 23\n",
       "         ]\n",
       " LU: blow.v], Total: 5 \n",
       " Valence Patterns: [Total: 1\n",
       " Valences:[Frame: Motion, GF: Dep, PT: AVP, FE: Path, total: 2\n",
       "         , Frame: Motion, GF: Ext, PT: NP, FE: Theme, total: 23\n",
       "         ]\n",
       " LU: blow.v, Total: 1\n",
       " Valences:[Frame: Motion, GF: Dep, PT: PP[across], FE: Path, total: 2\n",
       "         , Frame: Motion, GF: Ext, PT: NP, FE: Theme, total: 23\n",
       "         ]\n",
       " LU: blow.v, Total: 1\n",
       " Valences:[Frame: Motion, GF: Dep, PT: PP[past], FE: Path, total: 1\n",
       "         , Frame: Motion, GF: Ext, PT: NP, FE: Theme, total: 23\n",
       "         ]\n",
       " LU: blow.v, Total: 1\n",
       " Valences:[Frame: Motion, GF: Dep, PT: PP[through], FE: Path, total: 2\n",
       "         , Frame: Motion, GF: Ext, PT: N, FE: Theme, total: 7\n",
       "         ]\n",
       " LU: blow.v, Total: 1\n",
       " Valences:[Frame: Motion, GF: Dep, PT: PP[through], FE: Path, total: 2\n",
       "         , Frame: Motion, GF: Ext, PT: NP, FE: Theme, total: 23\n",
       "         ]\n",
       " LU: blow.v], Total: 4 \n",
       " Valence Patterns: [Total: 2\n",
       " Valences:[Frame: Motion, GF: Dep, PT: PP[from], FE: Source, total: 5\n",
       "         , Frame: Motion, GF: Ext, PT: N, FE: Theme, total: 7\n",
       "         ]\n",
       " LU: blow.v, Total: 1\n",
       " Valences:[Frame: Motion, GF: Dep, PT: PP[from], FE: Source, total: 5\n",
       "         , Frame: Motion, GF: Ext, PT: NP, FE: Theme, total: 23\n",
       "         ]\n",
       " LU: blow.v, Total: 1\n",
       " Valences:[Frame: Motion, GF: Dep, PT: PPing[off], FE: Source, total: 1\n",
       "         , Frame: Motion, GF: Ext, PT: N, FE: Theme, total: 7\n",
       "         ]\n",
       " LU: blow.v], Total: 1 \n",
       " Valence Patterns: [Total: 1\n",
       " Valences:[Frame: Motion, GF: Dep, PT: PP[from], FE: Source, total: 5\n",
       "         , Frame: Motion, GF: Ext, PT: NP, FE: Theme, total: 23\n",
       "         , Frame: Motion, GF: Ext, PT: NP, FE: Theme, total: 23\n",
       "         ]\n",
       " LU: blow.v], Total: 2 \n",
       " Valence Patterns: [Total: 1\n",
       " Valences:[Frame: Motion, GF: Dep, PT: AVP, FE: Source, total: 1\n",
       "         , Frame: Motion, GF: Ext, PT: NP, FE: Theme, total: 23\n",
       "         , Frame: Motion, GF: Dep, PT: AVP, FE: Time, total: 2\n",
       "         ]\n",
       " LU: blow.v, Total: 1\n",
       " Valences:[Frame: Motion, GF: Obj, PT: PP[off], FE: Source, total: 1\n",
       "         , Frame: Motion, GF: Ext, PT: NP, FE: Theme, total: 23\n",
       "         , Frame: Motion, GF: Dep, PT: PP[on], FE: Time, total: 1\n",
       "         ]\n",
       " LU: blow.v], Total: 1 \n",
       " Valence Patterns: [Total: 1\n",
       " Valences:[Frame: Motion, GF: Dep, PT: PP[in], FE: Area, total: 8\n",
       "         , Frame: Motion, GF: Dep, PT: AVP, FE: Depictive, total: 1\n",
       "         , Frame: Motion, GF: Dep, PT: NP, FE: Depictive, total: 1\n",
       "         , Frame: Motion, GF: Ext, PT: NP, FE: Theme, total: 43\n",
       "         ]\n",
       " LU: float.v], Total: 1 \n",
       " Valence Patterns: [Total: 1\n",
       " Valences:[Frame: Motion, GF: Dep, PT: PP[at], FE: Area, total: 3\n",
       "         , Frame: Motion, GF: Dep, PT: AVP, FE: Manner, total: 4\n",
       "         , Frame: Motion, GF: Ext, PT: NP, FE: Theme, total: 43\n",
       "         ]\n",
       " LU: float.v], Total: 12 \n",
       " Valence Patterns: [Total: 1\n",
       " Valences:[Frame: Motion, GF: , PT: DNI, FE: Area, total: 1\n",
       "         , Frame: Motion, GF: Head, PT: N, FE: Theme, total: 1\n",
       "         ]\n",
       " LU: float.v, Total: 2\n",
       " Valences:[Frame: Motion, GF: Dep, PT: PP[at], FE: Area, total: 3\n",
       "         , Frame: Motion, GF: Ext, PT: NP, FE: Theme, total: 43\n",
       "         ]\n",
       " LU: float.v, Total: 7\n",
       " Valences:[Frame: Motion, GF: Dep, PT: PP[in], FE: Area, total: 8\n",
       "         , Frame: Motion, GF: Ext, PT: NP, FE: Theme, total: 43\n",
       "         ]\n",
       " LU: float.v, Total: 2\n",
       " Valences:[Frame: Motion, GF: Dep, PT: PP[on], FE: Area, total: 2\n",
       "         , Frame: Motion, GF: Ext, PT: NP, FE: Theme, total: 43\n",
       "         ]\n",
       " LU: float.v], Total: 1 \n",
       " Valence Patterns: [Total: 1\n",
       " Valences:[Frame: Motion, GF: Dep, PT: AVP, FE: Area, total: 1\n",
       "         , Frame: Motion, GF: Ext, PT: NP, FE: Theme, total: 43\n",
       "         , Frame: Motion, GF: Dep, PT: AVP, FE: Time, total: 3\n",
       "         ]\n",
       " LU: float.v], Total: 1 \n",
       " Valence Patterns: [Total: 1\n",
       " Valences:[Frame: Motion, GF: Dep, PT: PP[on], FE: Carrier, total: 1\n",
       "         , Frame: Motion, GF: Dep, PT: PP[away], FE: Path, total: 1\n",
       "         , Frame: Motion, GF: Ext, PT: NP, FE: Theme, total: 43\n",
       "         ]\n",
       " LU: float.v], Total: 1 \n",
       " Valence Patterns: [Total: 1\n",
       " Valences:[Frame: Motion, GF: Dep, PT: AVP, FE: Distance, total: 1\n",
       "         , Frame: Motion, GF: , PT: INI, FE: Path, total: 2\n",
       "         , Frame: Motion, GF: Ext, PT: NP, FE: Theme, total: 43\n",
       "         ]\n",
       " LU: float.v], Total: 1 \n",
       " Valence Patterns: [Total: 1\n",
       " Valences:[Frame: Motion, GF: Dep, PT: PP[into], FE: Goal, total: 6\n",
       "         , Frame: Motion, GF: Dep, PT: PP[from], FE: Source, total: 4\n",
       "         , Frame: Motion, GF: Ext, PT: NP, FE: Theme, total: 43\n",
       "         ]\n",
       " LU: float.v], Total: 1 \n",
       " Valence Patterns: [Total: 1\n",
       " Valences:[Frame: Motion, GF: Dep, PT: PP[into], FE: Goal, total: 6\n",
       "         , Frame: Motion, GF: Dep, PT: AVP, FE: Source, total: 1\n",
       "         , Frame: Motion, GF: Ext, PT: NP, FE: Theme, total: 43\n",
       "         , Frame: Motion, GF: Ext, PT: NP, FE: Theme, total: 43\n",
       "         ]\n",
       " LU: float.v], Total: 5 \n",
       " Valence Patterns: [Total: 4\n",
       " Valences:[Frame: Motion, GF: Dep, PT: PP[into], FE: Goal, total: 6\n",
       "         , Frame: Motion, GF: Ext, PT: NP, FE: Theme, total: 43\n",
       "         ]\n",
       " LU: float.v, Total: 1\n",
       " Valences:[Frame: Motion, GF: Dep, PT: PP[to], FE: Goal, total: 2\n",
       "         , Frame: Motion, GF: Ext, PT: NP, FE: Theme, total: 43\n",
       "         ]\n",
       " LU: float.v], Total: 1 \n",
       " Valence Patterns: [Total: 1\n",
       " Valences:[Frame: Motion, GF: Dep, PT: PP[to], FE: Goal, total: 2\n",
       "         , Frame: Motion, GF: Ext, PT: NP, FE: Theme, total: 43\n",
       "         , Frame: Motion, GF: Dep, PT: AVP, FE: Time, total: 3\n",
       "         ]\n",
       " LU: float.v], Total: 2 \n",
       " Valence Patterns: [Total: 1\n",
       " Valences:[Frame: Motion, GF: Dep, PT: AVP, FE: Manner, total: 4\n",
       "         , Frame: Motion, GF: Dep, PT: AVP, FE: Path, total: 3\n",
       "         , Frame: Motion, GF: Ext, PT: NP, FE: Theme, total: 43\n",
       "         ]\n",
       " LU: float.v, Total: 1\n",
       " Valences:[Frame: Motion, GF: Dep, PT: AVP, FE: Manner, total: 4\n",
       "         , Frame: Motion, GF: Dep, PT: PP[up], FE: Path, total: 1\n",
       "         , Frame: Motion, GF: Ext, PT: NP, FE: Theme, total: 43\n",
       "         ]\n",
       " LU: float.v], Total: 1 \n",
       " Valence Patterns: [Total: 1\n",
       " Valences:[Frame: Motion, GF: Dep, PT: AVP, FE: Manner, total: 4\n",
       "         , Frame: Motion, GF: Dep, PT: PP[from], FE: Source, total: 4\n",
       "         , Frame: Motion, GF: Ext, PT: NP, FE: Theme, total: 43\n",
       "         ]\n",
       " LU: float.v], Total: 12 \n",
       " Valence Patterns: [Total: 2\n",
       " Valences:[Frame: Motion, GF: Dep, PT: AVP, FE: Path, total: 3\n",
       "         , Frame: Motion, GF: Ext, PT: NP, FE: Theme, total: 43\n",
       "         ]\n",
       " LU: float.v, Total: 1\n",
       " Valences:[Frame: Motion, GF: , PT: INI, FE: Path, total: 2\n",
       "         , Frame: Motion, GF: Ext, PT: NP, FE: Theme, total: 43\n",
       "         ]\n",
       " LU: float.v, Total: 5\n",
       " Valences:[Frame: Motion, GF: Dep, PT: PP[through], FE: Path, total: 6\n",
       "         , Frame: Motion, GF: Ext, PT: NP, FE: Theme, total: 43\n",
       "         ]\n",
       " LU: float.v, Total: 4\n",
       " Valences:[Frame: Motion, GF: Dep, PT: PP[towards], FE: Path, total: 4\n",
       "         , Frame: Motion, GF: Ext, PT: NP, FE: Theme, total: 43\n",
       "         ]\n",
       " LU: float.v], Total: 2 \n",
       " Valence Patterns: [Total: 1\n",
       " Valences:[Frame: Motion, GF: Dep, PT: PP[of], FE: Path, total: 1\n",
       "         , Frame: Motion, GF: Ext, PT: NP, FE: Theme, total: 43\n",
       "         , Frame: Motion, GF: Dep, PT: NP, FE: Time, total: 1\n",
       "         ]\n",
       " LU: float.v, Total: 1\n",
       " Valences:[Frame: Motion, GF: Dep, PT: PP[through], FE: Path, total: 6\n",
       "         , Frame: Motion, GF: Ext, PT: NP, FE: Theme, total: 43\n",
       "         , Frame: Motion, GF: Dep, PT: AVP, FE: Time, total: 3\n",
       "         ]\n",
       " LU: float.v], Total: 2 \n",
       " Valence Patterns: [Total: 2\n",
       " Valences:[Frame: Motion, GF: Dep, PT: PP[from], FE: Source, total: 4\n",
       "         , Frame: Motion, GF: Ext, PT: NP, FE: Theme, total: 43\n",
       "         ]\n",
       " LU: float.v], Total: 1 \n",
       " Valence Patterns: [Total: 1\n",
       " Valences:[Frame: Motion, GF: Dep, PT: PP[in], FE: Depictive, total: 1\n",
       "         , Frame: Motion, GF: , PT: INI, FE: Path, total: 1\n",
       "         , Frame: Motion, GF: Dep, PT: PP[alongside], FE: Place, total: 1\n",
       "         , Frame: Motion, GF: Ext, PT: NP, FE: Theme, total: 6\n",
       "         ]\n",
       " LU: coast.v], Total: 1 \n",
       " Valence Patterns: [Total: 1\n",
       " Valences:[Frame: Motion, GF: Dep, PT: AVP, FE: Path, total: 1\n",
       "         , Frame: Motion, GF: Obj, PT: NP, FE: Source, total: 1\n",
       "         , Frame: Motion, GF: Ext, PT: NP, FE: Theme, total: 6\n",
       "         ]\n",
       " LU: coast.v], Total: 4 \n",
       " Valence Patterns: [Total: 2\n",
       " Valences:[Frame: Motion, GF: Obj, PT: NP, FE: Path, total: 2\n",
       "         , Frame: Motion, GF: Ext, PT: NP, FE: Theme, total: 6\n",
       "         ]\n",
       " LU: coast.v, Total: 1\n",
       " Valences:[Frame: Motion, GF: Dep, PT: PP[down], FE: Path, total: 1\n",
       "         , Frame: Motion, GF: Ext, PT: NP, FE: Theme, total: 6\n",
       "         ]\n",
       " LU: coast.v, Total: 1\n",
       " Valences:[Frame: Motion, GF: Dep, PT: PP[up], FE: Path, total: 1\n",
       "         , Frame: Motion, GF: Ext, PT: NP, FE: Theme, total: 6\n",
       "         ]\n",
       " LU: coast.v], Total: 1 \n",
       " Valence Patterns: [Total: 1\n",
       " Valences:[Frame: Motion, GF: Dep, PT: PP[over], FE: Area, total: 1\n",
       "         , Frame: Motion, GF: Ext, PT: NP, FE: Theme, total: 33\n",
       "         ]\n",
       " LU: roll.v], Total: 3 \n",
       " Valence Patterns: [Total: 2\n",
       " Valences:[Frame: Motion, GF: Dep, PT: PP[into], FE: Goal, total: 6\n",
       "         , Frame: Motion, GF: Obj, PT: NP, FE: Path, total: 3\n",
       "         , Frame: Motion, GF: Ext, PT: NP, FE: Theme, total: 33\n",
       "         ]\n",
       " LU: roll.v, Total: 1\n",
       " Valences:[Frame: Motion, GF: Dep, PT: VPto, FE: Goal, total: 1\n",
       "         , Frame: Motion, GF: Dep, PT: AVP, FE: Path, total: 2\n",
       "         , Frame: Motion, GF: Ext, PT: NP, FE: Theme, total: 33\n",
       "         ]\n",
       " LU: roll.v], Total: 1 \n",
       " Valence Patterns: [Total: 1\n",
       " Valences:[Frame: Motion, GF: Dep, PT: PP[towards], FE: Goal, total: 2\n",
       "         , Frame: Motion, GF: Dep, PT: PP[from], FE: Source, total: 1\n",
       "         , Frame: Motion, GF: Ext, PT: NP, FE: Theme, total: 33\n",
       "         ]\n",
       " LU: roll.v], Total: 5 \n",
       " Valence Patterns: [Total: 1\n",
       " Valences:[Frame: Motion, GF: Dep, PT: AVP, FE: Goal, total: 1\n",
       "         , Frame: Motion, GF: Ext, PT: NP, FE: Theme, total: 33\n",
       "         ]\n",
       " LU: roll.v, Total: 2\n",
       " Valences:[Frame: Motion, GF: Dep, PT: PP[into], FE: Goal, total: 6\n",
       "         , Frame: Motion, GF: Ext, PT: NP, FE: Theme, total: 33\n",
       "         ]\n",
       " LU: roll.v, Total: 1\n",
       " Valences:[Frame: Motion, GF: Dep, PT: PP[to], FE: Goal, total: 1\n",
       "         , Frame: Motion, GF: Ext, PT: NP, FE: Theme, total: 33\n",
       "         ]\n",
       " LU: roll.v, Total: 1\n",
       " Valences:[Frame: Motion, GF: Dep, PT: PP[towards], FE: Goal, total: 2\n",
       "         , Frame: Motion, GF: Ext, PT: NP, FE: Theme, total: 33\n",
       "         ]\n",
       " LU: roll.v], Total: 2 \n",
       " Valence Patterns: [Total: 1\n",
       " Valences:[Frame: Motion, GF: Dep, PT: PP[into], FE: Goal, total: 6\n",
       "         , Frame: Motion, GF: Ext, PT: NP, FE: Theme, total: 33\n",
       "         , Frame: Motion, GF: Ext, PT: NP, FE: Theme, total: 33\n",
       "         ]\n",
       " LU: roll.v, Total: 1\n",
       " Valences:[Frame: Motion, GF: Dep, PT: PP[toward], FE: Goal, total: 1\n",
       "         , Frame: Motion, GF: Ext, PT: NP, FE: Theme, total: 33\n",
       "         , Frame: Motion, GF: Ext, PT: NP, FE: Theme, total: 33\n",
       "         ]\n",
       " LU: roll.v], Total: 1 \n",
       " Valence Patterns: [Total: 1\n",
       " Valences:[Frame: Motion, GF: Dep, PT: PP[into], FE: Goal, total: 6\n",
       "         , Frame: Motion, GF: Ext, PT: NP, FE: Theme, total: 33\n",
       "         , Frame: Motion, GF: Dep, PT: AVP, FE: Time, total: 2\n",
       "         ]\n",
       " LU: roll.v], Total: 1 \n",
       " Valence Patterns: [Total: 1\n",
       " Valences:[Frame: Motion, GF: Dep, PT: AVP, FE: Path, total: 2\n",
       "         , Frame: Motion, GF: Dep, PT: PP[toward], FE: Path, total: 1\n",
       "         , Frame: Motion, GF: Ext, PT: NP, FE: Theme, total: 33\n",
       "         ]\n",
       " LU: roll.v], Total: 1 \n",
       " Valence Patterns: [Total: 1\n",
       " Valences:[Frame: Motion, GF: Dep, PT: PP[across], FE: Path, total: 5\n",
       "         , Frame: Motion, GF: Dep, PT: PP[at], FE: Place, total: 1\n",
       "         , Frame: Motion, GF: Ext, PT: NP, FE: Theme, total: 33\n",
       "         , Frame: Motion, GF: Dep, PT: NP, FE: Time, total: 1\n",
       "         ]\n",
       " LU: roll.v], Total: 15 \n",
       " Valence Patterns: [Total: 1\n",
       " Valences:[Frame: Motion, GF: Obj, PT: NP, FE: Path, total: 3\n",
       "         , Frame: Motion, GF: Ext, PT: NP, FE: Theme, total: 33\n",
       "         ]\n",
       " LU: roll.v, Total: 4\n",
       " Valences:[Frame: Motion, GF: Dep, PT: PP[across], FE: Path, total: 5\n",
       "         , Frame: Motion, GF: Ext, PT: NP, FE: Theme, total: 33\n",
       "         ]\n",
       " LU: roll.v, Total: 5\n",
       " Valences:[Frame: Motion, GF: Dep, PT: PP[along], FE: Path, total: 5\n",
       "         , Frame: Motion, GF: Ext, PT: NP, FE: Theme, total: 33\n",
       "         ]\n",
       " LU: roll.v, Total: 2\n",
       " Valences:[Frame: Motion, GF: Dep, PT: PP[down], FE: Path, total: 2\n",
       "         , Frame: Motion, GF: Ext, PT: NP, FE: Theme, total: 33\n",
       "         ]\n",
       " LU: roll.v, Total: 1\n",
       " Valences:[Frame: Motion, GF: Dep, PT: PP[in], FE: Path, total: 1\n",
       "         , Frame: Motion, GF: Ext, PT: NP, FE: Theme, total: 33\n",
       "         ]\n",
       " LU: roll.v, Total: 1\n",
       " Valences:[Frame: Motion, GF: Dep, PT: PP[through], FE: Path, total: 2\n",
       "         , Frame: Motion, GF: Ext, PT: NP, FE: Theme, total: 33\n",
       "         ]\n",
       " LU: roll.v, Total: 1\n",
       " Valences:[Frame: Motion, GF: Dep, PT: PP[towards], FE: Path, total: 2\n",
       "         , Frame: Motion, GF: Ext, PT: NP, FE: Theme, total: 33\n",
       "         ]\n",
       " LU: roll.v], Total: 1 \n",
       " Valence Patterns: [Total: 1\n",
       " Valences:[Frame: Motion, GF: Dep, PT: PP[towards], FE: Path, total: 2\n",
       "         , Frame: Motion, GF: Ext, PT: NP, FE: Theme, total: 33\n",
       "         , Frame: Motion, GF: Ext, PT: NP, FE: Theme, total: 33\n",
       "         ]\n",
       " LU: roll.v], Total: 1 \n",
       " Valence Patterns: [Total: 1\n",
       " Valences:[Frame: Motion, GF: Dep, PT: PP[through], FE: Path, total: 2\n",
       "         , Frame: Motion, GF: Ext, PT: NP, FE: Theme, total: 33\n",
       "         , Frame: Motion, GF: Dep, PT: AVP, FE: Time, total: 2\n",
       "         ]\n",
       " LU: roll.v], Total: 1 \n",
       " Valence Patterns: [Total: 1\n",
       " Valences:[Frame: Motion, GF: Dep, PT: PP[on], FE: Place, total: 1\n",
       "         , Frame: Motion, GF: Dep, PT: AVP, FE: Source, total: 1\n",
       "         , Frame: Motion, GF: Ext, PT: NP, FE: Theme, total: 33\n",
       "         ]\n",
       " LU: roll.v], Total: 1 \n",
       " Valence Patterns: [Total: 1\n",
       " Valences:[Frame: Motion, GF: Dep, PT: AVP, FE: Area, total: 1\n",
       "         , Frame: Motion, GF: Ext, PT: NP, FE: Theme, total: 8\n",
       "         ]\n",
       " LU: soar.v], Total: 2 \n",
       " Valence Patterns: [Total: 2\n",
       " Valences:[Frame: Motion, GF: Dep, PT: AVP, FE: Depictive, total: 2\n",
       "         , Frame: Motion, GF: , PT: INI, FE: Path, total: 2\n",
       "         , Frame: Motion, GF: Ext, PT: NP, FE: Theme, total: 8\n",
       "         ]\n",
       " LU: soar.v], Total: 3 \n",
       " Valence Patterns: [Total: 3\n",
       " Valences:[Frame: Motion, GF: Dep, PT: PP[into], FE: Goal, total: 3\n",
       "         , Frame: Motion, GF: Ext, PT: NP, FE: Theme, total: 8\n",
       "         ]\n",
       " LU: soar.v], Total: 1 \n",
       " Valence Patterns: [Total: 1\n",
       " Valences:[Frame: Motion, GF: Dep, PT: PP[like], FE: Manner, total: 1\n",
       "         , Frame: Motion, GF: Obj, PT: NP, FE: Path, total: 1\n",
       "         , Frame: Motion, GF: Ext, PT: NP, FE: Theme, total: 8\n",
       "         ]\n",
       " LU: soar.v], Total: 1 \n",
       " Valence Patterns: [Total: 1\n",
       " Valences:[Frame: Motion, GF: Dep, PT: AVP, FE: Path, total: 1\n",
       "         , Frame: Motion, GF: Ext, PT: NP, FE: Theme, total: 8\n",
       "         ]\n",
       " LU: soar.v], Total: 2 \n",
       " Valence Patterns: [Total: 1\n",
       " Valences:[Frame: Motion, GF: , PT: INI, FE: Area, total: 1\n",
       "         , Frame: Motion, GF: Ext, PT: NP, FE: Theme, total: 12\n",
       "         ]\n",
       " LU: fly.v, Total: 1\n",
       " Valences:[Frame: Motion, GF: Dep, PT: PP[through], FE: Area, total: 2\n",
       "         , Frame: Motion, GF: Ext, PT: NP, FE: Theme, total: 12\n",
       "         ]\n",
       " LU: fly.v], Total: 1 \n",
       " Valence Patterns: [Total: 1\n",
       " Valences:[Frame: Motion, GF: Dep, PT: PP[through], FE: Area, total: 2\n",
       "         , Frame: Motion, GF: Ext, PT: NP, FE: Theme, total: 12\n",
       "         , Frame: Motion, GF: Ext, PT: NP, FE: Theme, total: 12\n",
       "         ]\n",
       " LU: fly.v], Total: 1 \n",
       " Valence Patterns: [Total: 1\n",
       " Valences:[Frame: Motion, GF: Dep, PT: AVP, FE: Distance, total: 1\n",
       "         , Frame: Motion, GF: , PT: INI, FE: Path, total: 1\n",
       "         , Frame: Motion, GF: Ext, PT: NP, FE: Theme, total: 12\n",
       "         ]\n",
       " LU: fly.v], Total: 1 \n",
       " Valence Patterns: [Total: 1\n",
       " Valences:[Frame: Motion, GF: Dep, PT: NP, FE: Distance, total: 1\n",
       "         , Frame: Motion, GF: Ext, PT: NP, FE: Theme, total: 12\n",
       "         ]\n",
       " LU: fly.v], Total: 1 \n",
       " Valence Patterns: [Total: 1\n",
       " Valences:[Frame: Motion, GF: Dep, PT: PP[onto], FE: Goal, total: 1\n",
       "         , Frame: Motion, GF: Dep, PT: PP[up], FE: Path, total: 1\n",
       "         , Frame: Motion, GF: Ext, PT: NP, FE: Theme, total: 12\n",
       "         ]\n",
       " LU: fly.v], Total: 1 \n",
       " Valence Patterns: [Total: 1\n",
       " Valences:[Frame: Motion, GF: Dep, PT: PP[into], FE: Goal, total: 1\n",
       "         , Frame: Motion, GF: Ext, PT: NP, FE: Theme, total: 12\n",
       "         ]\n",
       " LU: fly.v], Total: 5 \n",
       " Valence Patterns: [Total: 1\n",
       " Valences:[Frame: Motion, GF: Dep, PT: PP[between], FE: Path, total: 1\n",
       "         , Frame: Motion, GF: Ext, PT: NP, FE: Theme, total: 12\n",
       "         ]\n",
       " LU: fly.v, Total: 1\n",
       " Valences:[Frame: Motion, GF: Dep, PT: PP[in], FE: Path, total: 1\n",
       "         , Frame: Motion, GF: Ext, PT: NP, FE: Theme, total: 12\n",
       "         ]\n",
       " LU: fly.v, Total: 2\n",
       " Valences:[Frame: Motion, GF: Dep, PT: PP[over], FE: Path, total: 2\n",
       "         , Frame: Motion, GF: Ext, PT: NP, FE: Theme, total: 12\n",
       "         ]\n",
       " LU: fly.v, Total: 1\n",
       " Valences:[Frame: Motion, GF: Dep, PT: PP[towards], FE: Path, total: 1\n",
       "         , Frame: Motion, GF: Ext, PT: NP, FE: Theme, total: 12\n",
       "         ]\n",
       " LU: fly.v], Total: 1 \n",
       " Valence Patterns: [Total: 1\n",
       " Valences:[Frame: Motion, GF: Dep, PT: PP[in], FE: Area, total: 1\n",
       "         , Frame: Motion, GF: Dep, PT: AVP, FE: Direction, total: 5\n",
       "         , Frame: Motion, GF: Dep, PT: PP[at], FE: Speed, total: 1\n",
       "         , Frame: Motion, GF: Ext, PT: NP, FE: Theme, total: 26\n",
       "         ]\n",
       " LU: slide.v], Total: 1 \n",
       " Valence Patterns: [Total: 1\n",
       " Valences:[Frame: Motion, GF: Dep, PT: PP[on], FE: Area, total: 2\n",
       "         , Frame: Motion, GF: Ext, PT: NP, FE: Theme, total: 26\n",
       "         ]\n",
       " LU: slide.v], Total: 1 \n",
       " Valence Patterns: [Total: 1\n",
       " Valences:[Frame: Motion, GF: Dep, PT: PP[on], FE: Area, total: 2\n",
       "         , Frame: Motion, GF: Ext, PT: NP, FE: Theme, total: 26\n",
       "         , Frame: Motion, GF: Dep, PT: Sub, FE: Time, total: 1\n",
       "         ]\n",
       " LU: slide.v], Total: 1 \n",
       " Valence Patterns: [Total: 1\n",
       " Valences:[Frame: Motion, GF: Dep, PT: AVP, FE: Depictive, total: 1\n",
       "         , Frame: Motion, GF: Dep, PT: PP[in], FE: Goal, total: 1\n",
       "         , Frame: Motion, GF: , PT: 2nd, FE: Source, total: 1\n",
       "         , Frame: Motion, GF: Ext, PT: NP, FE: Theme, total: 26\n",
       "         ]\n",
       " LU: slide.v], Total: 1 \n",
       " Valence Patterns: [Total: 1\n",
       " Valences:[Frame: Motion, GF: Dep, PT: PP[with], FE: Depictive, total: 1\n",
       "         , Frame: Motion, GF: Dep, PT: PP[on], FE: Goal, total: 1\n",
       "         , Frame: Motion, GF: Ext, PT: NP, FE: Theme, total: 26\n",
       "         ]\n",
       " LU: slide.v], Total: 1 \n",
       " Valence Patterns: [Total: 1\n",
       " Valences:[Frame: Motion, GF: Dep, PT: Sing, FE: Depictive, total: 1\n",
       "         , Frame: Motion, GF: Dep, PT: PP[down], FE: Path, total: 7\n",
       "         , Frame: Motion, GF: Ext, PT: NP, FE: Theme, total: 26\n",
       "         ]\n",
       " LU: slide.v], Total: 1 \n",
       " Valence Patterns: [Total: 1\n",
       " Valences:[Frame: Motion, GF: Dep, PT: AVP, FE: Direction, total: 5\n",
       "         , Frame: Motion, GF: Dep, PT: PP[towards], FE: Direction, total: 1\n",
       "         , Frame: Motion, GF: Ext, PT: NP, FE: Theme, total: 26\n",
       "         ]\n",
       " LU: slide.v], Total: 1 \n",
       " Valence Patterns: [Total: 1\n",
       " Valences:[Frame: Motion, GF: Dep, PT: AVP, FE: Direction, total: 5\n",
       "         , Frame: Motion, GF: Dep, PT: PP[like], FE: Manner, total: 1\n",
       "         , Frame: Motion, GF: Ext, PT: NP, FE: Theme, total: 26\n",
       "         ]\n",
       " LU: slide.v], Total: 2 \n",
       " Valence Patterns: [Total: 2\n",
       " Valences:[Frame: Motion, GF: Dep, PT: AVP, FE: Direction, total: 5\n",
       "         , Frame: Motion, GF: Ext, PT: NP, FE: Theme, total: 26\n",
       "         ]\n",
       " LU: slide.v], Total: 1 \n",
       " Valence Patterns: [Total: 1\n",
       " Valences:[Frame: Motion, GF: Dep, PT: PP[into], FE: Goal, total: 8\n",
       "         , Frame: Motion, GF: Dep, PT: PP[down], FE: Path, total: 7\n",
       "         , Frame: Motion, GF: Ext, PT: NP, FE: Theme, total: 26\n",
       "         ]\n",
       " LU: slide.v], Total: 1 \n",
       " Valence Patterns: [Total: 1\n",
       " Valences:[Frame: Motion, GF: Dep, PT: PP[into], FE: Goal, total: 8\n",
       "         , Frame: Motion, GF: Dep, PT: PP[to], FE: Result, total: 1\n",
       "         , Frame: Motion, GF: Dep, PT: AVP, FE: Speed, total: 1\n",
       "         , Frame: Motion, GF: Ext, PT: NP, FE: Theme, total: 26\n",
       "         ]\n",
       " LU: slide.v], Total: 6 \n",
       " Valence Patterns: [Total: 6\n",
       " Valences:[Frame: Motion, GF: Dep, PT: PP[into], FE: Goal, total: 8\n",
       "         , Frame: Motion, GF: Ext, PT: NP, FE: Theme, total: 26\n",
       "         ]\n",
       " LU: slide.v], Total: 3 \n",
       " Valence Patterns: [Total: 3\n",
       " Valences:[Frame: Motion, GF: Dep, PT: AVP, FE: Manner, total: 3\n",
       "         , Frame: Motion, GF: Dep, PT: PP[down], FE: Path, total: 7\n",
       "         , Frame: Motion, GF: Ext, PT: NP, FE: Theme, total: 26\n",
       "         ]\n",
       " LU: slide.v], Total: 4 \n",
       " Valence Patterns: [Total: 1\n",
       " Valences:[Frame: Motion, GF: Dep, PT: PP[across], FE: Path, total: 1\n",
       "         , Frame: Motion, GF: Ext, PT: NP, FE: Theme, total: 26\n",
       "         ]\n",
       " LU: slide.v, Total: 2\n",
       " Valences:[Frame: Motion, GF: Dep, PT: PP[down], FE: Path, total: 7\n",
       "         , Frame: Motion, GF: Ext, PT: NP, FE: Theme, total: 26\n",
       "         ]\n",
       " LU: slide.v, Total: 1\n",
       " Valences:[Frame: Motion, GF: Dep, PT: PP[up], FE: Path, total: 1\n",
       "         , Frame: Motion, GF: Ext, PT: NP, FE: Theme, total: 26\n",
       "         ]\n",
       " LU: slide.v], Total: 1 \n",
       " Valence Patterns: [Total: 1\n",
       " Valences:[Frame: Motion, GF: Dep, PT: PP[from], FE: Source, total: 1\n",
       "         , Frame: Motion, GF: Ext, PT: NP, FE: Theme, total: 26\n",
       "         ]\n",
       " LU: slide.v], Total: 1 \n",
       " Valence Patterns: [Total: 1\n",
       " Valences:[Frame: Motion, GF: , PT: INI, FE: Area, total: 4\n",
       "         , Frame: Motion, GF: Dep, PT: VPing, FE: Depictive, total: 1\n",
       "         , Frame: Motion, GF: Dep, PT: PP[in], FE: Path_shape, total: 1\n",
       "         , Frame: Motion, GF: Ext, PT: NP, FE: Theme, total: 27\n",
       "         ]\n",
       " LU: swerve.v], Total: 1 \n",
       " Valence Patterns: [Total: 1\n",
       " Valences:[Frame: Motion, GF: , PT: INI, FE: Area, total: 4\n",
       "         , Frame: Motion, GF: Dep, PT: PP[before], FE: Place, total: 1\n",
       "         , Frame: Motion, GF: Dep, PT: PP[out], FE: Result, total: 1\n",
       "         , Frame: Motion, GF: Ext, PT: NP, FE: Theme, total: 27\n",
       "         , Frame: Motion, GF: Dep, PT: PP[at], FE: Time, total: 1\n",
       "         ]\n",
       " LU: swerve.v], Total: 1 \n",
       " Valence Patterns: [Total: 1\n",
       " Valences:[Frame: Motion, GF: , PT: INI, FE: Area, total: 4\n",
       "         , Frame: Motion, GF: Dep, PT: PP[on], FE: Place, total: 1\n",
       "         , Frame: Motion, GF: Ext, PT: NP, FE: Theme, total: 27\n",
       "         ]\n",
       " LU: swerve.v], Total: 3 \n",
       " Valence Patterns: [Total: 1\n",
       " Valences:[Frame: Motion, GF: , PT: INI, FE: Area, total: 4\n",
       "         , Frame: Motion, GF: Ext, PT: NP, FE: Theme, total: 27\n",
       "         ]\n",
       " LU: swerve.v, Total: 1\n",
       " Valences:[Frame: Motion, GF: Dep, PT: PP[around], FE: Area, total: 1\n",
       "         , Frame: Motion, GF: Ext, PT: NP, FE: Theme, total: 27\n",
       "         ]\n",
       " LU: swerve.v, Total: 1\n",
       " Valences:[Frame: Motion, GF: Dep, PT: PP[over], FE: Area, total: 1\n",
       "         , Frame: Motion, GF: Ext, PT: NP, FE: Theme, total: 27\n",
       "         ]\n",
       " LU: swerve.v], Total: 1 \n",
       " Valence Patterns: [Total: 1\n",
       " Valences:[Frame: Motion, GF: Dep, PT: PP[in], FE: Containing_event, total: 1\n",
       "         , Frame: Motion, GF: Dep, PT: PP[out], FE: Source, total: 1\n",
       "         , Frame: Motion, GF: Ext, PT: NP, FE: Theme, total: 27\n",
       "         ]\n",
       " LU: swerve.v], Total: 1 \n",
       " Valence Patterns: [Total: 1\n",
       " Valences:[Frame: Motion, GF: Dep, PT: PP[to], FE: Direction, total: 2\n",
       "         , Frame: Motion, GF: Dep, PT: AVP, FE: Manner, total: 1\n",
       "         , Frame: Motion, GF: Ext, PT: NP, FE: Theme, total: 27\n",
       "         ]\n",
       " LU: swerve.v], Total: 1 \n",
       " Valence Patterns: [Total: 1\n",
       " Valences:[Frame: Motion, GF: Dep, PT: AVP, FE: Direction, total: 2\n",
       "         , Frame: Motion, GF: Dep, PT: PP[over], FE: Path, total: 2\n",
       "         , Frame: Motion, GF: Ext, PT: NP, FE: Theme, total: 27\n",
       "         ]\n",
       " LU: swerve.v], Total: 1 \n",
       " Valence Patterns: [Total: 1\n",
       " Valences:[Frame: Motion, GF: Dep, PT: AVP, FE: Direction, total: 2\n",
       "         , Frame: Motion, GF: Dep, PT: PP[off], FE: Source, total: 2\n",
       "         , Frame: Motion, GF: Ext, PT: NP, FE: Theme, total: 27\n",
       "         ]\n",
       " LU: swerve.v], Total: 2 \n",
       " Valence Patterns: [Total: 1\n",
       " Valences:[Frame: Motion, GF: Dep, PT: PP[to], FE: Direction, total: 2\n",
       "         , Frame: Motion, GF: Ext, PT: NP, FE: Theme, total: 27\n",
       "         ]\n",
       " LU: swerve.v, Total: 1\n",
       " Valences:[Frame: Motion, GF: Dep, PT: PP[towards], FE: Direction, total: 2\n",
       "         , Frame: Motion, GF: Ext, PT: NP, FE: Theme, total: 27\n",
       "         ]\n",
       " LU: swerve.v], Total: 1 \n",
       " Valence Patterns: [Total: 1\n",
       " Valences:[Frame: Motion, GF: Dep, PT: PP[from], FE: Direction, total: 1\n",
       "         , Frame: Motion, GF: Ext, PT: NP, FE: Theme, total: 27\n",
       "         , Frame: Motion, GF: Dep, PT: PP[as], FE: Time, total: 1\n",
       "         ]\n",
       " LU: swerve.v], Total: 1 \n",
       " Valence Patterns: [Total: 1\n",
       " Valences:[Frame: Motion, GF: Dep, PT: PP[towards], FE: Direction, total: 2\n",
       "         , Frame: Motion, GF: Ext, PT: NP, FE: Theme, total: 27\n",
       "         , Frame: Motion, GF: Dep, PT: AVP, FE: Time, total: 2\n",
       "         , Frame: Motion, GF: Dep, PT: AVP, FE: Time, total: 2\n",
       "         ]\n",
       " LU: swerve.v], Total: 2 \n",
       " Valence Patterns: [Total: 1\n",
       " Valences:[Frame: Motion, GF: Dep, PT: PP[inside], FE: Goal, total: 1\n",
       "         , Frame: Motion, GF: Ext, PT: NP, FE: Theme, total: 27\n",
       "         ]\n",
       " LU: swerve.v, Total: 1\n",
       " Valences:[Frame: Motion, GF: Dep, PT: PP[into], FE: Goal, total: 1\n",
       "         , Frame: Motion, GF: Ext, PT: NP, FE: Theme, total: 27\n",
       "         ]\n",
       " LU: swerve.v], Total: 1 \n",
       " Valence Patterns: [Total: 1\n",
       " Valences:[Frame: Motion, GF: Dep, PT: PP[across], FE: Path, total: 4\n",
       "         , Frame: Motion, GF: Dep, PT: VPto, FE: Purpose, total: 1\n",
       "         , Frame: Motion, GF: Ext, PT: NP, FE: Theme, total: 27\n",
       "         ]\n",
       " LU: swerve.v], Total: 6 \n",
       " Valence Patterns: [Total: 2\n",
       " Valences:[Frame: Motion, GF: Dep, PT: PP[across], FE: Path, total: 4\n",
       "         , Frame: Motion, GF: Ext, PT: NP, FE: Theme, total: 27\n",
       "         ]\n",
       " LU: swerve.v, Total: 1\n",
       " Valences:[Frame: Motion, GF: Dep, PT: PP[from], FE: Path, total: 1\n",
       "         , Frame: Motion, GF: Ext, PT: NP, FE: Theme, total: 27\n",
       "         ]\n",
       " LU: swerve.v, Total: 1\n",
       " Valences:[Frame: Motion, GF: Dep, PT: PP[over], FE: Path, total: 2\n",
       "         , Frame: Motion, GF: Ext, PT: NP, FE: Theme, total: 27\n",
       "         ]\n",
       " LU: swerve.v, Total: 2\n",
       " Valences:[Frame: Motion, GF: Dep, PT: PP[through], FE: Path, total: 2\n",
       "         , Frame: Motion, GF: Ext, PT: NP, FE: Theme, total: 27\n",
       "         ]\n",
       " LU: swerve.v], Total: 2 \n",
       " Valence Patterns: [Total: 1\n",
       " Valences:[Frame: Motion, GF: Dep, PT: PP[across], FE: Path, total: 4\n",
       "         , Frame: Motion, GF: Ext, PT: NP, FE: Theme, total: 27\n",
       "         , Frame: Motion, GF: Dep, PT: PPing[before], FE: Time, total: 2\n",
       "         ]\n",
       " LU: swerve.v, Total: 1\n",
       " Valences:[Frame: Motion, GF: Dep, PT: PP[past], FE: Path, total: 1\n",
       "         , Frame: Motion, GF: Ext, PT: NP, FE: Theme, total: 27\n",
       "         , Frame: Motion, GF: Dep, PT: PPing[before], FE: Time, total: 2\n",
       "         ]\n",
       " LU: swerve.v], Total: 1 \n",
       " Valence Patterns: [Total: 1\n",
       " Valences:[Frame: Motion, GF: Dep, PT: PP[away], FE: Source, total: 1\n",
       "         , Frame: Motion, GF: Ext, PT: NP, FE: Theme, total: 27\n",
       "         ]\n",
       " LU: swerve.v], Total: 1 \n",
       " Valence Patterns: [Total: 1\n",
       " Valences:[Frame: Motion, GF: Dep, PT: PP[off], FE: Source, total: 2\n",
       "         , Frame: Motion, GF: Ext, PT: NP, FE: Theme, total: 27\n",
       "         , Frame: Motion, GF: Dep, PT: AVP, FE: Time, total: 2\n",
       "         ]\n",
       " LU: swerve.v], Total: 1 \n",
       " Valence Patterns: [Total: 1\n",
       " Valences:[Frame: Motion, GF: Dep, PT: PP[around], FE: Area, total: 1\n",
       "         , Frame: Motion, GF: Dep, PT: PP[in], FE: Containing_event, total: 1\n",
       "         , Frame: Motion, GF: Ext, PT: NP, FE: Theme, total: 11\n",
       "         ]\n",
       " LU: snake.v], Total: 1 \n",
       " Valence Patterns: [Total: 1\n",
       " Valences:[Frame: Motion, GF: , PT: DNI, FE: Area, total: 1\n",
       "         , Frame: Motion, GF: Dep, PT: PP[between], FE: Place, total: 1\n",
       "         , Frame: Motion, GF: Ext, PT: NP, FE: Theme, total: 11\n",
       "         ]\n",
       " LU: snake.v], Total: 1 \n",
       " Valence Patterns: [Total: 1\n",
       " Valences:[Frame: Motion, GF: Dep, PT: PP[towards], FE: Direction, total: 2\n",
       "         , Frame: Motion, GF: Dep, PT: PP[across], FE: Path, total: 1\n",
       "         , Frame: Motion, GF: Ext, PT: NP, FE: Theme, total: 11\n",
       "         ]\n",
       " LU: snake.v], Total: 1 \n",
       " Valence Patterns: [Total: 1\n",
       " Valences:[Frame: Motion, GF: Dep, PT: PP[towards], FE: Direction, total: 2\n",
       "         , Frame: Motion, GF: Dep, PT: PP[out], FE: Source, total: 3\n",
       "         , Frame: Motion, GF: Ext, PT: NP, FE: Theme, total: 11\n",
       "         ]\n",
       " LU: snake.v], Total: 1 \n",
       " Valence Patterns: [Total: 1\n",
       " Valences:[Frame: Motion, GF: Dep, PT: AVP, FE: Direction, total: 1\n",
       "         , Frame: Motion, GF: Ext, PT: NP, FE: Theme, total: 11\n",
       "         ]\n",
       " LU: snake.v], Total: 1 \n",
       " Valence Patterns: [Total: 1\n",
       " Valences:[Frame: Motion, GF: Dep, PT: PP[into], FE: Goal, total: 1\n",
       "         , Frame: Motion, GF: Dep, PT: AVP, FE: Source, total: 1\n",
       "         , Frame: Motion, GF: Ext, PT: NP, FE: Theme, total: 11\n",
       "         ]\n",
       " LU: snake.v], Total: 1 \n",
       " Valence Patterns: [Total: 1\n",
       " Valences:[Frame: Motion, GF: Dep, PT: PP[through], FE: Path, total: 1\n",
       "         , Frame: Motion, GF: Ext, PT: NP, FE: Theme, total: 11\n",
       "         , Frame: Motion, GF: Dep, PT: Sub, FE: Time, total: 1\n",
       "         ]\n",
       " LU: snake.v], Total: 1 \n",
       " Valence Patterns: [Total: 1\n",
       " Valences:[Frame: Motion, GF: Dep, PT: VPto, FE: Purpose, total: 1\n",
       "         , Frame: Motion, GF: Dep, PT: PP[out], FE: Source, total: 3\n",
       "         , Frame: Motion, GF: Ext, PT: NP, FE: Theme, total: 11\n",
       "         ]\n",
       " LU: snake.v], Total: 3 \n",
       " Valence Patterns: [Total: 1\n",
       " Valences:[Frame: Motion, GF: Dep, PT: PP[from], FE: Source, total: 1\n",
       "         , Frame: Motion, GF: Ext, PT: NP, FE: Theme, total: 11\n",
       "         ]\n",
       " LU: snake.v, Total: 1\n",
       " Valences:[Frame: Motion, GF: Dep, PT: PP[off], FE: Source, total: 1\n",
       "         , Frame: Motion, GF: Ext, PT: NP, FE: Theme, total: 11\n",
       "         ]\n",
       " LU: snake.v, Total: 1\n",
       " Valences:[Frame: Motion, GF: Dep, PT: PP[out], FE: Source, total: 3\n",
       "         , Frame: Motion, GF: Ext, PT: NP, FE: Theme, total: 11\n",
       "         ]\n",
       " LU: snake.v], Total: 1 \n",
       " Valence Patterns: [Total: 1\n",
       " Valences:[Frame: Motion, GF: , PT: INI, FE: Area, total: 2\n",
       "         , Frame: Motion, GF: Dep, PT: PP[for], FE: Duration, total: 2\n",
       "         , Frame: Motion, GF: Dep, PT: AVP, FE: Manner, total: 1\n",
       "         , Frame: Motion, GF: Ext, PT: NP, FE: Theme, total: 11\n",
       "         ]\n",
       " LU: meander.v], Total: 1 \n",
       " Valence Patterns: [Total: 1\n",
       " Valences:[Frame: Motion, GF: , PT: INI, FE: Area, total: 2\n",
       "         , Frame: Motion, GF: Dep, PT: PP[for], FE: Duration, total: 2\n",
       "         , Frame: Motion, GF: Ext, PT: NP, FE: Theme, total: 11\n",
       "         ]\n",
       " LU: meander.v], Total: 1 \n",
       " Valence Patterns: [Total: 1\n",
       " Valences:[Frame: Motion, GF: Dep, PT: AVP, FE: Area, total: 1\n",
       "         , Frame: Motion, GF: Ext, PT: NP, FE: Theme, total: 11\n",
       "         , Frame: Motion, GF: Dep, PT: NP, FE: Time, total: 1\n",
       "         ]\n",
       " LU: meander.v], Total: 2 \n",
       " Valence Patterns: [Total: 1\n",
       " Valences:[Frame: Motion, GF: Dep, PT: PP[into], FE: Goal, total: 3\n",
       "         , Frame: Motion, GF: Dep, PT: PP[through], FE: Path, total: 5\n",
       "         , Frame: Motion, GF: Ext, PT: NP, FE: Theme, total: 11\n",
       "         ]\n",
       " LU: meander.v, Total: 1\n",
       " Valences:[Frame: Motion, GF: Dep, PT: VPto, FE: Goal, total: 1\n",
       "         , Frame: Motion, GF: Dep, PT: PP[through], FE: Path, total: 5\n",
       "         , Frame: Motion, GF: Ext, PT: NP, FE: Theme, total: 11\n",
       "         ]\n",
       " LU: meander.v], Total: 2 \n",
       " Valence Patterns: [Total: 2\n",
       " Valences:[Frame: Motion, GF: Dep, PT: PP[into], FE: Goal, total: 3\n",
       "         , Frame: Motion, GF: Ext, PT: NP, FE: Theme, total: 11\n",
       "         ]\n",
       " LU: meander.v], Total: 1 \n",
       " Valence Patterns: [Total: 1\n",
       " Valences:[Frame: Motion, GF: Dep, PT: PP[past], FE: Path, total: 1\n",
       "         , Frame: Motion, GF: Dep, PT: PP[through], FE: Path, total: 5\n",
       "         , Frame: Motion, GF: Ext, PT: NP, FE: Theme, total: 11\n",
       "         , Frame: Motion, GF: Dep, PT: Sub, FE: Time, total: 1\n",
       "         ]\n",
       " LU: meander.v], Total: 3 \n",
       " Valence Patterns: [Total: 1\n",
       " Valences:[Frame: Motion, GF: Dep, PT: PP[across], FE: Path, total: 1\n",
       "         , Frame: Motion, GF: Ext, PT: NP, FE: Theme, total: 11\n",
       "         ]\n",
       " LU: meander.v, Total: 2\n",
       " Valences:[Frame: Motion, GF: Dep, PT: PP[through], FE: Path, total: 5\n",
       "         , Frame: Motion, GF: Ext, PT: NP, FE: Theme, total: 11\n",
       "         ]\n",
       " LU: meander.v], Total: 1 \n",
       " Valence Patterns: [Total: 1\n",
       " Valences:[Frame: Motion, GF: Dep, PT: PP[through], FE: Path, total: 1\n",
       "         , Frame: Motion, GF: Ext, PT: NP, FE: Theme, total: 1\n",
       "         ]\n",
       " LU: undulate.v], Total: 1 \n",
       " Valence Patterns: [Total: 1\n",
       " Valences:[Frame: Motion, GF: Dep, PT: PP[about], FE: Area, total: 3\n",
       "         , Frame: Motion, GF: Dep, PT: PP[on], FE: Place, total: 1\n",
       "         , Frame: Motion, GF: Ext, PT: NP, FE: Theme, total: 27\n",
       "         ]\n",
       " LU: weave.v], Total: 2 \n",
       " Valence Patterns: [Total: 2\n",
       " Valences:[Frame: Motion, GF: Dep, PT: PP[about], FE: Area, total: 3\n",
       "         , Frame: Motion, GF: Ext, PT: NP, FE: Theme, total: 27\n",
       "         ]\n",
       " LU: weave.v], Total: 1 \n",
       " Valence Patterns: [Total: 1\n",
       " Valences:[Frame: Motion, GF: Dep, PT: PP[towards], FE: Direction, total: 2\n",
       "         , Frame: Motion, GF: Dep, PT: AVP, FE: Manner, total: 4\n",
       "         , Frame: Motion, GF: Ext, PT: NP, FE: Theme, total: 27\n",
       "         ]\n",
       " LU: weave.v], Total: 3 \n",
       " Valence Patterns: [Total: 2\n",
       " Valences:[Frame: Motion, GF: Dep, PT: PP[to], FE: Direction, total: 2\n",
       "         , Frame: Motion, GF: Ext, PT: NP, FE: Theme, total: 27\n",
       "         ]\n",
       " LU: weave.v, Total: 1\n",
       " Valences:[Frame: Motion, GF: Dep, PT: PP[towards], FE: Direction, total: 2\n",
       "         , Frame: Motion, GF: Ext, PT: NP, FE: Theme, total: 27\n",
       "         ]\n",
       " LU: weave.v], Total: 1 \n",
       " Valence Patterns: [Total: 1\n",
       " Valences:[Frame: Motion, GF: Dep, PT: PP[into], FE: Goal, total: 1\n",
       "         , Frame: Motion, GF: Dep, PT: AVP, FE: Manner, total: 4\n",
       "         , Frame: Motion, GF: Dep, PT: PP[across], FE: Path, total: 4\n",
       "         , Frame: Motion, GF: Ext, PT: NP, FE: Theme, total: 27\n",
       "         ]\n",
       " LU: weave.v], Total: 2 \n",
       " Valence Patterns: [Total: 1\n",
       " Valences:[Frame: Motion, GF: Dep, PT: AVP, FE: Manner, total: 4\n",
       "         , Frame: Motion, GF: Dep, PT: PP[along], FE: Path, total: 1\n",
       "         , Frame: Motion, GF: Ext, PT: NP, FE: Theme, total: 27\n",
       "         ]\n",
       " LU: weave.v, Total: 1\n",
       " Valences:[Frame: Motion, GF: Dep, PT: AVP, FE: Manner, total: 4\n",
       "         , Frame: Motion, GF: Dep, PT: PP[around], FE: Path, total: 2\n",
       "         , Frame: Motion, GF: , PT: CNI, FE: Theme, total: 2\n",
       "         ]\n",
       " LU: weave.v], Total: 2 \n",
       " Valence Patterns: [Total: 1\n",
       " Valences:[Frame: Motion, GF: Dep, PT: PP[across], FE: Path, total: 4\n",
       "         , Frame: Motion, GF: Dep, PT: PP[from], FE: Path, total: 2\n",
       "         , Frame: Motion, GF: Ext, PT: NP, FE: Theme, total: 27\n",
       "         ]\n",
       " LU: weave.v, Total: 1\n",
       " Valences:[Frame: Motion, GF: Dep, PT: PP[past], FE: Path, total: 2\n",
       "         , Frame: Motion, GF: Dep, PT: PP[through], FE: Path, total: 5\n",
       "         , Frame: Motion, GF: Ext, PT: NP, FE: Theme, total: 27\n",
       "         ]\n",
       " LU: weave.v], Total: 1 \n",
       " Valence Patterns: [Total: 1\n",
       " Valences:[Frame: Motion, GF: Dep, PT: PP[through], FE: Path, total: 5\n",
       "         , Frame: Motion, GF: Dep, PT: PP[off], FE: Source, total: 1\n",
       "         , Frame: Motion, GF: Ext, PT: NP, FE: Theme, total: 27\n",
       "         ]\n",
       " LU: weave.v], Total: 16 \n",
       " Valence Patterns: [Total: 1\n",
       " Valences:[Frame: Motion, GF: , PT: INI, FE: Path, total: 1\n",
       "         , Frame: Motion, GF: Ext, PT: NP, FE: Theme, total: 27\n",
       "         ]\n",
       " LU: weave.v, Total: 1\n",
       " Valences:[Frame: Motion, GF: Obj, PT: NP, FE: Path, total: 1\n",
       "         , Frame: Motion, GF: Ext, PT: NP, FE: Theme, total: 27\n",
       "         ]\n",
       " LU: weave.v, Total: 2\n",
       " Valences:[Frame: Motion, GF: Dep, PT: PP[across], FE: Path, total: 4\n",
       "         , Frame: Motion, GF: Ext, PT: NP, FE: Theme, total: 27\n",
       "         ]\n",
       " LU: weave.v, Total: 1\n",
       " Valences:[Frame: Motion, GF: Dep, PT: PP[around], FE: Path, total: 2\n",
       "         , Frame: Motion, GF: Ext, PT: NP, FE: Theme, total: 27\n",
       "         ]\n",
       " LU: weave.v, Total: 2\n",
       " Valences:[Frame: Motion, GF: Dep, PT: PP[between], FE: Path, total: 2\n",
       "         , Frame: Motion, GF: Ext, PT: NP, FE: Theme, total: 27\n",
       "         ]\n",
       " LU: weave.v, Total: 1\n",
       " Valences:[Frame: Motion, GF: Dep, PT: PP[from], FE: Path, total: 2\n",
       "         , Frame: Motion, GF: Ext, PT: NP, FE: Theme, total: 27\n",
       "         ]\n",
       " LU: weave.v, Total: 1\n",
       " Valences:[Frame: Motion, GF: Dep, PT: PP[of], FE: Path, total: 1\n",
       "         , Frame: Motion, GF: Ext, PT: NP, FE: Theme, total: 27\n",
       "         ]\n",
       " LU: weave.v, Total: 1\n",
       " Valences:[Frame: Motion, GF: Dep, PT: PP[out], FE: Path, total: 1\n",
       "         , Frame: Motion, GF: , PT: CNI, FE: Theme, total: 2\n",
       "         ]\n",
       " LU: weave.v, Total: 1\n",
       " Valences:[Frame: Motion, GF: Dep, PT: PP[past], FE: Path, total: 2\n",
       "         , Frame: Motion, GF: Ext, PT: NP, FE: Theme, total: 27\n",
       "         ]\n",
       " LU: weave.v, Total: 1\n",
       " Valences:[Frame: Motion, GF: Dep, PT: PP[round], FE: Path, total: 1\n",
       "         , Frame: Motion, GF: Ext, PT: NP, FE: Theme, total: 27\n",
       "         ]\n",
       " LU: weave.v, Total: 3\n",
       " Valences:[Frame: Motion, GF: Dep, PT: PP[through], FE: Path, total: 5\n",
       "         , Frame: Motion, GF: Ext, PT: NP, FE: Theme, total: 27\n",
       "         ]\n",
       " LU: weave.v, Total: 1\n",
       " Valences:[Frame: Motion, GF: Dep, PT: PP[up], FE: Path, total: 1\n",
       "         , Frame: Motion, GF: Ext, PT: NP, FE: Theme, total: 27\n",
       "         ]\n",
       " LU: weave.v], Total: 2 \n",
       " Valence Patterns: [Total: 1\n",
       " Valences:[Frame: Motion, GF: Dep, PT: PP[towards], FE: Direction, total: 2\n",
       "         , Frame: Motion, GF: Dep, PT: PP[along], FE: Path, total: 4\n",
       "         , Frame: Motion, GF: Ext, PT: NP, FE: Theme, total: 8\n",
       "         ]\n",
       " LU: wind.v, Total: 1\n",
       " Valences:[Frame: Motion, GF: Dep, PT: PP[towards], FE: Direction, total: 2\n",
       "         , Frame: Motion, GF: Dep, PT: PP[through], FE: Path, total: 2\n",
       "         , Frame: Motion, GF: Ext, PT: NP, FE: Theme, total: 8\n",
       "         ]\n",
       " LU: wind.v], Total: 1 \n",
       " Valence Patterns: [Total: 1\n",
       " Valences:[Frame: Motion, GF: Dep, PT: AVP, FE: Manner, total: 1\n",
       "         , Frame: Motion, GF: Dep, PT: PP[along], FE: Path, total: 4\n",
       "         , Frame: Motion, GF: Ext, PT: NP, FE: Theme, total: 8\n",
       "         ]\n",
       " LU: wind.v], Total: 5 \n",
       " Valence Patterns: [Total: 1\n",
       " Valences:[Frame: Motion, GF: Dep, PT: PP[across], FE: Path, total: 1\n",
       "         , Frame: Motion, GF: Ext, PT: NP, FE: Theme, total: 8\n",
       "         ]\n",
       " LU: wind.v, Total: 2\n",
       " Valences:[Frame: Motion, GF: Dep, PT: PP[along], FE: Path, total: 4\n",
       "         , Frame: Motion, GF: Ext, PT: NP, FE: Theme, total: 8\n",
       "         ]\n",
       " LU: wind.v, Total: 1\n",
       " Valences:[Frame: Motion, GF: Dep, PT: PP[down], FE: Path, total: 1\n",
       "         , Frame: Motion, GF: Ext, PT: NP, FE: Theme, total: 8\n",
       "         ]\n",
       " LU: wind.v, Total: 1\n",
       " Valences:[Frame: Motion, GF: Dep, PT: PP[through], FE: Path, total: 2\n",
       "         , Frame: Motion, GF: Ext, PT: NP, FE: Theme, total: 8\n",
       "         ]\n",
       " LU: wind.v], Total: 1 \n",
       " Valence Patterns: [Total: 1\n",
       " Valences:[Frame: Motion, GF: Dep, PT: AVP, FE: Goal, total: 1\n",
       "         , Frame: Motion, GF: Dep, PT: PP[via], FE: Path, total: 1\n",
       "         , Frame: Motion, GF: Ext, PT: NP, FE: Theme, total: 12\n",
       "         ]\n",
       " LU: zigzag.v], Total: 1 \n",
       " Valence Patterns: [Total: 1\n",
       " Valences:[Frame: Motion, GF: Dep, PT: AVP, FE: Manner, total: 1\n",
       "         , Frame: Motion, GF: , PT: INI, FE: Path, total: 5\n",
       "         , Frame: Motion, GF: Dep, PT: VPto, FE: Purpose, total: 1\n",
       "         , Frame: Motion, GF: Ext, PT: NP, FE: Theme, total: 12\n",
       "         ]\n",
       " LU: zigzag.v], Total: 1 \n",
       " Valence Patterns: [Total: 1\n",
       " Valences:[Frame: Motion, GF: Dep, PT: Sub, FE: Manner, total: 1\n",
       "         , Frame: Motion, GF: , PT: INI, FE: Path, total: 5\n",
       "         , Frame: Motion, GF: Ext, PT: NP, FE: Theme, total: 12\n",
       "         ]\n",
       " LU: zigzag.v], Total: 1 \n",
       " Valence Patterns: [Total: 1\n",
       " Valences:[Frame: Motion, GF: Dep, PT: PP[like], FE: Manner, total: 1\n",
       "         , Frame: Motion, GF: Dep, PT: PP[through], FE: Path, total: 2\n",
       "         , Frame: Motion, GF: Ext, PT: NP, FE: Theme, total: 12\n",
       "         , Frame: Motion, GF: Ext, PT: NP, FE: Theme, total: 12\n",
       "         ]\n",
       " LU: zigzag.v], Total: 1 \n",
       " Valence Patterns: [Total: 1\n",
       " Valences:[Frame: Motion, GF: Dep, PT: PP[across], FE: Path, total: 2\n",
       "         , Frame: Motion, GF: Dep, PT: PP[from], FE: Path, total: 1\n",
       "         , Frame: Motion, GF: , PT: CNI, FE: Theme, total: 2\n",
       "         ]\n",
       " LU: zigzag.v], Total: 1 \n",
       " Valence Patterns: [Total: 1\n",
       " Valences:[Frame: Motion, GF: Dep, PT: PP[up], FE: Path, total: 1\n",
       "         , Frame: Motion, GF: Dep, PT: PP[on], FE: Place, total: 1\n",
       "         , Frame: Motion, GF: Ext, PT: NP, FE: Theme, total: 12\n",
       "         ]\n",
       " LU: zigzag.v], Total: 6 \n",
       " Valence Patterns: [Total: 1\n",
       " Valences:[Frame: Motion, GF: , PT: INI, FE: Path, total: 5\n",
       "         , Frame: Motion, GF: , PT: CNI, FE: Theme, total: 2\n",
       "         ]\n",
       " LU: zigzag.v, Total: 2\n",
       " Valences:[Frame: Motion, GF: , PT: INI, FE: Path, total: 5\n",
       "         , Frame: Motion, GF: Ext, PT: NP, FE: Theme, total: 12\n",
       "         ]\n",
       " LU: zigzag.v, Total: 1\n",
       " Valences:[Frame: Motion, GF: Dep, PT: PP[across], FE: Path, total: 2\n",
       "         , Frame: Motion, GF: Ext, PT: NP, FE: Theme, total: 12\n",
       "         ]\n",
       " LU: zigzag.v, Total: 1\n",
       " Valences:[Frame: Motion, GF: Dep, PT: PP[around], FE: Path, total: 1\n",
       "         , Frame: Motion, GF: Ext, PT: NP, FE: Theme, total: 12\n",
       "         ]\n",
       " LU: zigzag.v, Total: 1\n",
       " Valences:[Frame: Motion, GF: Dep, PT: PP[through], FE: Path, total: 2\n",
       "         , Frame: Motion, GF: Ext, PT: NP, FE: Theme, total: 12\n",
       "         ]\n",
       " LU: zigzag.v], Total: 2 \n",
       " Valence Patterns: [Total: 1\n",
       " Valences:[Frame: Motion, GF: Dep, PT: PP[away], FE: Source, total: 1\n",
       "         , Frame: Motion, GF: Ext, PT: NP, FE: Theme, total: 12\n",
       "         ]\n",
       " LU: zigzag.v, Total: 1\n",
       " Valences:[Frame: Motion, GF: Dep, PT: PP[out], FE: Source, total: 1\n",
       "         , Frame: Motion, GF: Ext, PT: NP, FE: Theme, total: 12\n",
       "         ]\n",
       " LU: zigzag.v], Total: 1 \n",
       " Valence Patterns: [Total: 1\n",
       " Valences:[Frame: Motion, GF: Dep, PT: AVP, FE: Area, total: 1\n",
       "         , Frame: Motion, GF: Dep, PT: AVP, FE: Distance, total: 2\n",
       "         , Frame: Motion, GF: Dep, PT: AVP, FE: Place, total: 1\n",
       "         , Frame: Motion, GF: Ext, PT: NP, FE: Theme, total: 16\n",
       "         ]\n",
       " LU: circle.v], Total: 1 \n",
       " Valence Patterns: [Total: 1\n",
       " Valences:[Frame: Motion, GF: Dep, PT: PP[in], FE: Area, total: 1\n",
       "         , Frame: Motion, GF: Dep, PT: AVP, FE: Manner, total: 1\n",
       "         , Frame: Motion, GF: Obj, PT: NP, FE: Path, total: 9\n",
       "         , Frame: Motion, GF: Ext, PT: NP, FE: Theme, total: 16\n",
       "         ]\n",
       " LU: circle.v], Total: 1 \n",
       " Valence Patterns: [Total: 1\n",
       " Valences:[Frame: Motion, GF: Dep, PT: PP[in], FE: Carrier, total: 1\n",
       "         , Frame: Motion, GF: Dep, PT: AVP, FE: Direction, total: 2\n",
       "         , Frame: Motion, GF: Head, PT: VPing, FE: Manner, total: 2\n",
       "         , Frame: Motion, GF: , PT: INI, FE: Path, total: 6\n",
       "         , Frame: Motion, GF: Ext, PT: NP, FE: Theme, total: 16\n",
       "         ]\n",
       " LU: circle.v], Total: 1 \n",
       " Valence Patterns: [Total: 1\n",
       " Valences:[Frame: Motion, GF: Head, PT: VPed, FE: Depictive, total: 1\n",
       "         , Frame: Motion, GF: Obj, PT: NP, FE: Path, total: 9\n",
       "         , Frame: Motion, GF: Ext, PT: NP, FE: Theme, total: 16\n",
       "         , Frame: Motion, GF: Dep, PT: PP[for], FE: Time, total: 1\n",
       "         ]\n",
       " LU: circle.v], Total: 1 \n",
       " Valence Patterns: [Total: 1\n",
       " Valences:[Frame: Motion, GF: Dep, PT: AVP, FE: Direction, total: 2\n",
       "         , Frame: Motion, GF: Dep, PT: PP[in], FE: Manner, total: 1\n",
       "         , Frame: Motion, GF: , PT: INI, FE: Path, total: 6\n",
       "         , Frame: Motion, GF: Ext, PT: NP, FE: Theme, total: 16\n",
       "         , Frame: Motion, GF: Dep, PT: Sub, FE: Time, total: 2\n",
       "         ]\n",
       " LU: circle.v], Total: 1 \n",
       " Valence Patterns: [Total: 1\n",
       " Valences:[Frame: Motion, GF: Dep, PT: AVP, FE: Distance, total: 2\n",
       "         , Frame: Motion, GF: , PT: INI, FE: Path, total: 6\n",
       "         , Frame: Motion, GF: Ext, PT: NP, FE: Theme, total: 16\n",
       "         ]\n",
       " LU: circle.v], Total: 1 \n",
       " Valence Patterns: [Total: 1\n",
       " Valences:[Frame: Motion, GF: Head, PT: VPing, FE: Manner, total: 2\n",
       "         , Frame: Motion, GF: , PT: INI, FE: Path, total: 6\n",
       "         , Frame: Motion, GF: Dep, PT: PP[over], FE: Place, total: 1\n",
       "         , Frame: Motion, GF: Ext, PT: NP, FE: Theme, total: 16\n",
       "         ]\n",
       " LU: circle.v], Total: 2 \n",
       " Valence Patterns: [Total: 1\n",
       " Valences:[Frame: Motion, GF: , PT: INI, FE: Path, total: 6\n",
       "         , Frame: Motion, GF: Dep, PT: PP[amongst], FE: Place, total: 1\n",
       "         , Frame: Motion, GF: Ext, PT: NP, FE: Theme, total: 16\n",
       "         ]\n",
       " LU: circle.v, Total: 1\n",
       " Valences:[Frame: Motion, GF: , PT: INI, FE: Path, total: 6\n",
       "         , Frame: Motion, GF: Dep, PT: PP[in], FE: Place, total: 1\n",
       "         , Frame: Motion, GF: Ext, PT: NP, FE: Theme, total: 16\n",
       "         ]\n",
       " LU: circle.v], Total: 2 \n",
       " Valence Patterns: [Total: 1\n",
       " Valences:[Frame: Motion, GF: Obj, PT: NP, FE: Path, total: 9\n",
       "         , Frame: Motion, GF: Dep, PT: PP[for], FE: Purpose, total: 1\n",
       "         , Frame: Motion, GF: Ext, PT: NP, FE: Theme, total: 16\n",
       "         ]\n",
       " LU: circle.v, Total: 1\n",
       " Valences:[Frame: Motion, GF: Obj, PT: NP, FE: Path, total: 9\n",
       "         , Frame: Motion, GF: Head, PT: Sfin, FE: Purpose, total: 1\n",
       "         , Frame: Motion, GF: , PT: CNI, FE: Theme, total: 1\n",
       "         ]\n",
       " LU: circle.v], Total: 1 \n",
       " Valence Patterns: [Total: 1\n",
       " Valences:[Frame: Motion, GF: Obj, PT: NP, FE: Path, total: 9\n",
       "         , Frame: Motion, GF: Head, PT: VPing, FE: Purpose, total: 1\n",
       "         , Frame: Motion, GF: Ext, PT: NP, FE: Theme, total: 16\n",
       "         , Frame: Motion, GF: Dep, PT: NP, FE: Time, total: 1\n",
       "         ]\n",
       " LU: circle.v], Total: 3 \n",
       " Valence Patterns: [Total: 2\n",
       " Valences:[Frame: Motion, GF: Obj, PT: NP, FE: Path, total: 9\n",
       "         , Frame: Motion, GF: Ext, PT: NP, FE: Theme, total: 16\n",
       "         ]\n",
       " LU: circle.v, Total: 1\n",
       " Valences:[Frame: Motion, GF: Dep, PT: PP[between], FE: Path, total: 1\n",
       "         , Frame: Motion, GF: Ext, PT: NP, FE: Theme, total: 16\n",
       "         ]\n",
       " LU: circle.v], Total: 2 \n",
       " Valence Patterns: [Total: 1\n",
       " Valences:[Frame: Motion, GF: Obj, PT: NP, FE: Path, total: 9\n",
       "         , Frame: Motion, GF: Ext, PT: NP, FE: Theme, total: 16\n",
       "         , Frame: Motion, GF: Dep, PT: PP[in], FE: Time, total: 1\n",
       "         ]\n",
       " LU: circle.v, Total: 1\n",
       " Valences:[Frame: Motion, GF: Obj, PT: NP, FE: Path, total: 9\n",
       "         , Frame: Motion, GF: Ext, PT: NP, FE: Theme, total: 16\n",
       "         , Frame: Motion, GF: Dep, PT: Sub, FE: Time, total: 2\n",
       "         ]\n",
       " LU: circle.v], Total: 1 \n",
       " Valence Patterns: [Total: 1\n",
       " Valences:[Frame: Motion, GF: Dep, PT: AVP, FE: Area, total: 1\n",
       "         , Frame: Motion, GF: Dep, PT: AVP, FE: Manner, total: 1\n",
       "         , Frame: Motion, GF: Ext, PT: NP, FE: Theme, total: 3\n",
       "         ]\n",
       " LU: swing.v], Total: 1 \n",
       " Valence Patterns: [Total: 1\n",
       " Valences:[Frame: Motion, GF: Dep, PT: PP[towards], FE: Direction, total: 1\n",
       "         , Frame: Motion, GF: Dep, PT: PP[round], FE: Path, total: 1\n",
       "         , Frame: Motion, GF: Ext, PT: NP, FE: Theme, total: 3\n",
       "         ]\n",
       " LU: swing.v], Total: 1 \n",
       " Valence Patterns: [Total: 1\n",
       " Valences:[Frame: Motion, GF: Dep, PT: PP[to], FE: Goal, total: 1\n",
       "         , Frame: Motion, GF: Dep, PT: PP[from], FE: Source, total: 1\n",
       "         , Frame: Motion, GF: Ext, PT: NP, FE: Theme, total: 3\n",
       "         ]\n",
       " LU: swing.v], Total: 1 \n",
       " Valence Patterns: [Total: 1\n",
       " Valences:[Frame: Motion, GF: Dep, PT: PP[to], FE: Goal, total: 1\n",
       "         , Frame: Motion, GF: Dep, PT: PP[from], FE: Source, total: 1\n",
       "         , Frame: Motion, GF: Ext, PT: NP, FE: Theme, total: 2\n",
       "         ]\n",
       " LU: travel.v], Total: 1 \n",
       " Valence Patterns: [Total: 1\n",
       " Valences:[Frame: Motion, GF: Dep, PT: PP[at], FE: Speed, total: 1\n",
       "         , Frame: Motion, GF: Ext, PT: NP, FE: Theme, total: 2\n",
       "         ]\n",
       " LU: travel.v], Total: 1 \n",
       " Valence Patterns: [Total: 1\n",
       " Valences:[Frame: Motion, GF: Dep, PT: AVP, FE: Direction, total: 1\n",
       "         , Frame: Motion, GF: Dep, PT: PP[to], FE: Goal, total: 1\n",
       "         , Frame: Motion, GF: Dep, PT: Sfin, FE: Purpose, total: 1\n",
       "         , Frame: Motion, GF: Ext, PT: NP, FE: Theme, total: 6\n",
       "         ]\n",
       " LU: come.v], Total: 2 \n",
       " Valence Patterns: [Total: 1\n",
       " Valences:[Frame: Motion, GF: Dep, PT: PP[after], FE: Direction, total: 1\n",
       "         , Frame: Motion, GF: Ext, PT: NP, FE: Theme, total: 6\n",
       "         ]\n",
       " LU: come.v, Total: 1\n",
       " Valences:[Frame: Motion, GF: Dep, PT: PP[out], FE: Direction, total: 1\n",
       "         , Frame: Motion, GF: Ext, PT: NP, FE: Theme, total: 6\n",
       "         ]\n",
       " LU: come.v], Total: 1 \n",
       " Valence Patterns: [Total: 1\n",
       " Valences:[Frame: Motion, GF: Dep, PT: AVP, FE: Distance, total: 1\n",
       "         , Frame: Motion, GF: Ext, PT: NP, FE: Theme, total: 6\n",
       "         ]\n",
       " LU: come.v], Total: 1 \n",
       " Valence Patterns: [Total: 1\n",
       " Valences:[Frame: Motion, GF: Dep, PT: PP[out], FE: Goal, total: 1\n",
       "         , Frame: Motion, GF: Ext, PT: NP, FE: Theme, total: 6\n",
       "         ]\n",
       " LU: come.v], Total: 1 \n",
       " Valence Patterns: [Total: 1\n",
       " Valences:[Frame: Motion, GF: Dep, PT: PP[from], FE: Source, total: 1\n",
       "         , Frame: Motion, GF: Ext, PT: NP, FE: Theme, total: 6\n",
       "         ]\n",
       " LU: come.v]]"
      ]
     },
     "execution_count": 24,
     "metadata": {},
     "output_type": "execute_result"
    }
   ],
   "source": [
    "frame.group_realizations"
   ]
  },
  {
   "cell_type": "markdown",
   "metadata": {},
   "source": [
    "If we want to look at the valence patterns for a given lu, we can do so:"
   ]
  },
  {
   "cell_type": "code",
   "execution_count": 25,
   "metadata": {
    "collapsed": false
   },
   "outputs": [
    {
     "data": {
      "text/plain": [
       "'move.v'"
      ]
     },
     "execution_count": 25,
     "metadata": {},
     "output_type": "execute_result"
    }
   ],
   "source": [
    "lu = frame.lexicalUnits[0]\n",
    "lu.name"
   ]
  },
  {
   "cell_type": "code",
   "execution_count": 26,
   "metadata": {
    "collapsed": false,
    "scrolled": false
   },
   "outputs": [
    {
     "data": {
      "text/plain": [
       "[Frame: Motion, GF: Dep, PT: PP[around], FE: Area, total: 2\n",
       "         , Frame: Motion, GF: Dep, PT: PP[in], FE: Carrier, total: 1\n",
       "         , Frame: Motion, GF: Dep, PT: NP, FE: Depictive, total: 1\n",
       "         , Frame: Motion, GF: Dep, PT: AVP, FE: Direction, total: 1\n",
       "         , Frame: Motion, GF: Dep, PT: NP, FE: Distance, total: 1\n",
       "         , Frame: Motion, GF: Dep, PT: PP[to], FE: Goal, total: 4\n",
       "         , Frame: Motion, GF: , PT: DNI, FE: Goal, total: 1\n",
       "         , Frame: Motion, GF: Dep, PT: PP[in], FE: Goal, total: 1\n",
       "         , Frame: Motion, GF: Dep, PT: AVP, FE: Manner, total: 12\n",
       "         , Frame: Motion, GF: Dep, PT: PP[in], FE: Manner, total: 2\n",
       "         , Frame: Motion, GF: Dep, PT: PP[like], FE: Manner, total: 1\n",
       "         , Frame: Motion, GF: Dep, PT: PP[to], FE: Manner, total: 1\n",
       "         , Frame: Motion, GF: Dep, PT: Sub, FE: Manner, total: 1\n",
       "         , Frame: Motion, GF: , PT: INI, FE: Path, total: 21\n",
       "         , Frame: Motion, GF: Obj, PT: NP, FE: Path, total: 3\n",
       "         , Frame: Motion, GF: Dep, PT: PP[across], FE: Path, total: 8\n",
       "         , Frame: Motion, GF: Dep, PT: PP[through], FE: Path, total: 4\n",
       "         , Frame: Motion, GF: Dep, PT: PP[towards], FE: Path, total: 5\n",
       "         , Frame: Motion, GF: Dep, PT: AVP, FE: Path, total: 5\n",
       "         , Frame: Motion, GF: Dep, PT: PP[against], FE: Path, total: 1\n",
       "         , Frame: Motion, GF: Dep, PT: PP[along], FE: Path, total: 1\n",
       "         , Frame: Motion, GF: Dep, PT: PP[around], FE: Path, total: 2\n",
       "         , Frame: Motion, GF: Dep, PT: PP[in], FE: Path, total: 2\n",
       "         , Frame: Motion, GF: Dep, PT: PP[down], FE: Path, total: 2\n",
       "         , Frame: Motion, GF: Dep, PT: PP[round], FE: Path, total: 1\n",
       "         , Frame: Motion, GF: Dep, PT: PP[past], FE: Path, total: 2\n",
       "         , Frame: Motion, GF: Dep, PT: PP[toward], FE: Path, total: 1\n",
       "         , Frame: Motion, GF: Dep, PT: PP[up], FE: Path, total: 2\n",
       "         , Frame: Motion, GF: Dep, PT: PP[on], FE: Place, total: 1\n",
       "         , Frame: Motion, GF: Dep, PT: VPto, FE: Purpose, total: 2\n",
       "         , Frame: Motion, GF: Dep, PT: PP[from], FE: Source, total: 4\n",
       "         , Frame: Motion, GF: Dep, PT: AVP, FE: Source, total: 2\n",
       "         , Frame: Motion, GF: Dep, PT: PP[off], FE: Source, total: 1\n",
       "         , Frame: Motion, GF: Dep, PT: AVP, FE: Speed, total: 5\n",
       "         , Frame: Motion, GF: Dep, PT: PP[at], FE: Speed, total: 3\n",
       "         , Frame: Motion, GF: Ext, PT: NP, FE: Theme, total: 67\n",
       "         , Frame: Motion, GF: Dep, PT: Sub, FE: Time, total: 1\n",
       "         , Frame: Motion, GF: Dep, PT: PP[in], FE: Time, total: 3\n",
       "         , Frame: Motion, GF: Dep, PT: AVP, FE: Time, total: 2\n",
       "         ]"
      ]
     },
     "execution_count": 26,
     "metadata": {},
     "output_type": "execute_result"
    }
   ],
   "source": [
    "lu.individual_valences"
   ]
  },
  {
   "cell_type": "markdown",
   "metadata": {},
   "source": [
    "## Valences\n",
    "\n",
    "Each LU has a field called `individual_valences` which is bound to a list of `Valence` objects (`framenet.lexical_units`). A valence object contains the following information:\n",
    "\n",
    "- Associated frame\n",
    "- GF (Grammatical Function)\n",
    "- PT (Phrase Type)\n",
    "- FE (Frame Element)\n",
    "- Total (# Annotations)\n",
    "- Annotations (sentences containing this valence unit)"
   ]
  },
  {
   "cell_type": "code",
   "execution_count": 27,
   "metadata": {
    "collapsed": false
   },
   "outputs": [
    {
     "data": {
      "text/plain": [
       "'PP[around]'"
      ]
     },
     "execution_count": 27,
     "metadata": {},
     "output_type": "execute_result"
    }
   ],
   "source": [
    "v1 = lu.individual_valences[0]\n",
    "v1.pt"
   ]
  },
  {
   "cell_type": "code",
   "execution_count": 28,
   "metadata": {
    "collapsed": false
   },
   "outputs": [
    {
     "data": {
      "text/plain": [
       "[Frame: Motion, GF: Dep, PT: PP[around], FE: Area, total: 2\n",
       "         , Frame: Motion, GF: Dep, PT: PP[in], FE: Carrier, total: 1\n",
       "         , Frame: Motion, GF: Dep, PT: NP, FE: Depictive, total: 1\n",
       "         , Frame: Motion, GF: Dep, PT: AVP, FE: Direction, total: 1\n",
       "         , Frame: Motion, GF: Dep, PT: NP, FE: Distance, total: 1\n",
       "         , Frame: Motion, GF: Dep, PT: PP[to], FE: Goal, total: 4\n",
       "         , Frame: Motion, GF: , PT: DNI, FE: Goal, total: 1\n",
       "         , Frame: Motion, GF: Dep, PT: PP[in], FE: Goal, total: 1\n",
       "         , Frame: Motion, GF: Dep, PT: AVP, FE: Manner, total: 12\n",
       "         , Frame: Motion, GF: Dep, PT: PP[in], FE: Manner, total: 2\n",
       "         , Frame: Motion, GF: Dep, PT: PP[like], FE: Manner, total: 1\n",
       "         , Frame: Motion, GF: Dep, PT: PP[to], FE: Manner, total: 1\n",
       "         , Frame: Motion, GF: Dep, PT: Sub, FE: Manner, total: 1\n",
       "         , Frame: Motion, GF: , PT: INI, FE: Path, total: 21\n",
       "         , Frame: Motion, GF: Obj, PT: NP, FE: Path, total: 3\n",
       "         , Frame: Motion, GF: Dep, PT: PP[across], FE: Path, total: 8\n",
       "         , Frame: Motion, GF: Dep, PT: PP[through], FE: Path, total: 4\n",
       "         , Frame: Motion, GF: Dep, PT: PP[towards], FE: Path, total: 5\n",
       "         , Frame: Motion, GF: Dep, PT: AVP, FE: Path, total: 5\n",
       "         , Frame: Motion, GF: Dep, PT: PP[against], FE: Path, total: 1\n",
       "         , Frame: Motion, GF: Dep, PT: PP[along], FE: Path, total: 1\n",
       "         , Frame: Motion, GF: Dep, PT: PP[around], FE: Path, total: 2\n",
       "         , Frame: Motion, GF: Dep, PT: PP[in], FE: Path, total: 2\n",
       "         , Frame: Motion, GF: Dep, PT: PP[down], FE: Path, total: 2\n",
       "         , Frame: Motion, GF: Dep, PT: PP[round], FE: Path, total: 1\n",
       "         , Frame: Motion, GF: Dep, PT: PP[past], FE: Path, total: 2\n",
       "         , Frame: Motion, GF: Dep, PT: PP[toward], FE: Path, total: 1\n",
       "         , Frame: Motion, GF: Dep, PT: PP[up], FE: Path, total: 2\n",
       "         , Frame: Motion, GF: Dep, PT: PP[on], FE: Place, total: 1\n",
       "         , Frame: Motion, GF: Dep, PT: VPto, FE: Purpose, total: 2\n",
       "         , Frame: Motion, GF: Dep, PT: PP[from], FE: Source, total: 4\n",
       "         , Frame: Motion, GF: Dep, PT: AVP, FE: Source, total: 2\n",
       "         , Frame: Motion, GF: Dep, PT: PP[off], FE: Source, total: 1\n",
       "         , Frame: Motion, GF: Dep, PT: AVP, FE: Speed, total: 5\n",
       "         , Frame: Motion, GF: Dep, PT: PP[at], FE: Speed, total: 3\n",
       "         , Frame: Motion, GF: Ext, PT: NP, FE: Theme, total: 67\n",
       "         , Frame: Motion, GF: Dep, PT: Sub, FE: Time, total: 1\n",
       "         , Frame: Motion, GF: Dep, PT: PP[in], FE: Time, total: 3\n",
       "         , Frame: Motion, GF: Dep, PT: AVP, FE: Time, total: 2\n",
       "         ]"
      ]
     },
     "execution_count": 28,
     "metadata": {},
     "output_type": "execute_result"
    }
   ],
   "source": [
    "lu.individual_valences"
   ]
  },
  {
   "cell_type": "code",
   "execution_count": 29,
   "metadata": {
    "collapsed": false
   },
   "outputs": [
    {
     "data": {
      "text/plain": [
       "It 's comfortable and not too restrictive and the box foot gives ample room for your feet to move around freely . "
      ]
     },
     "execution_count": 29,
     "metadata": {},
     "output_type": "execute_result"
    }
   ],
   "source": [
    "v1.annotations[1]"
   ]
  },
  {
   "cell_type": "markdown",
   "metadata": {},
   "source": [
    "Valence objects also have a `lexeme` field:"
   ]
  },
  {
   "cell_type": "code",
   "execution_count": 30,
   "metadata": {
    "collapsed": false
   },
   "outputs": [
    {
     "data": {
      "text/plain": [
       "'move.v'"
      ]
     },
     "execution_count": 30,
     "metadata": {},
     "output_type": "execute_result"
    }
   ],
   "source": [
    "v1.lexeme"
   ]
  },
  {
   "cell_type": "markdown",
   "metadata": {},
   "source": [
    "## Frame Element Realizations\n",
    "\n",
    "Each LU also has a list of FE realizations associated with it. A `FERealization` object (`framenet.lexical_units`) contains the following information:\n",
    "\n",
    "- Frame\n",
    "- Total\n",
    "- Lexeme (lu)\n",
    "- Valences\n",
    "- Frame Element\n",
    "- Annotations\n",
    "\n",
    "The `valences` field maps onto a list of `Valence` objects (see above). This is simply an alternative way of accessing and grouping similar underlying data. One of my goals with the module was to capture all the information available in the XML files, and there are many ways of storing and grouping this information."
   ]
  },
  {
   "cell_type": "code",
   "execution_count": 31,
   "metadata": {
    "collapsed": false
   },
   "outputs": [
    {
     "data": {
      "text/plain": [
       "[Total: 2, lexeme: move.v, fe: Area,\n",
       " Total: 1, lexeme: move.v, fe: Carrier,\n",
       " Total: 1, lexeme: move.v, fe: Depictive,\n",
       " Total: 1, lexeme: move.v, fe: Direction,\n",
       " Total: 1, lexeme: move.v, fe: Distance,\n",
       " Total: 6, lexeme: move.v, fe: Goal,\n",
       " Total: 17, lexeme: move.v, fe: Manner,\n",
       " Total: 56, lexeme: move.v, fe: Path,\n",
       " Total: 1, lexeme: move.v, fe: Place,\n",
       " Total: 2, lexeme: move.v, fe: Purpose,\n",
       " Total: 7, lexeme: move.v, fe: Source,\n",
       " Total: 8, lexeme: move.v, fe: Speed,\n",
       " Total: 67, lexeme: move.v, fe: Theme,\n",
       " Total: 6, lexeme: move.v, fe: Time]"
      ]
     },
     "execution_count": 31,
     "metadata": {},
     "output_type": "execute_result"
    }
   ],
   "source": [
    "lu.fe_realizations"
   ]
  },
  {
   "cell_type": "markdown",
   "metadata": {},
   "source": [
    "You can index into the valences field to view the valences associated with that FE realization. Sometimes, there is only one valence associated with a given FE realization; sometimes, there are many."
   ]
  },
  {
   "cell_type": "code",
   "execution_count": 32,
   "metadata": {
    "collapsed": false
   },
   "outputs": [
    {
     "data": {
      "text/plain": [
       "[Frame: Motion, GF: Dep, PT: PP[around], FE: Area, total: 2\n",
       "         ]"
      ]
     },
     "execution_count": 32,
     "metadata": {},
     "output_type": "execute_result"
    }
   ],
   "source": [
    "lu.fe_realizations[0].valences"
   ]
  },
  {
   "cell_type": "markdown",
   "metadata": {},
   "source": [
    "This is the same valence we viewed above, the first element stored in the individual_valences field. Again, there are multiple ways of accessing this information."
   ]
  },
  {
   "cell_type": "markdown",
   "metadata": {},
   "source": [
    "## Frame Element Group Realizations\n",
    "\n",
    "This is a representation of multiple frame elements occurring together in a particular piece of data (e.g., `Theme` and `Path`). This object (`framenet.lexical_units`) contains:\n",
    "\n",
    "- Frame\n",
    "- Total\n",
    "- Valence Patterns\n",
    "- LU\n",
    "\n",
    "Just as a Frame Element Realization has 1-N associated valences, an FE-Group-Realization can have 1-N associated valence patterns. A valence pattern is a set of valences occurring together. Thus, a group realization has a total, which may or may not be the same as the valence pattern's total."
   ]
  },
  {
   "cell_type": "code",
   "execution_count": 33,
   "metadata": {
    "collapsed": false
   },
   "outputs": [
    {
     "data": {
      "text/plain": [
       "Total: 1 \n",
       "Valence Patterns: [Total: 1\n",
       "Valences:[Frame: Motion, GF: Dep, PT: PP[around], FE: Area, total: 2\n",
       "        , Frame: Motion, GF: Dep, PT: AVP, FE: Manner, total: 12\n",
       "        , Frame: Motion, GF: Ext, PT: NP, FE: Theme, total: 67\n",
       "        ]\n",
       "LU: move.v]"
      ]
     },
     "execution_count": 33,
     "metadata": {},
     "output_type": "execute_result"
    }
   ],
   "source": [
    "group_fe = lu.valences[0]\n",
    "group_fe"
   ]
  },
  {
   "cell_type": "markdown",
   "metadata": {},
   "source": [
    "This is a significant amount of information, but if you look at each part separately, it makes sense. It's saying that there is 1 FE Group realization of the elements:\n",
    "\n",
    "- Area\n",
    "- Manner\n",
    "- Theme"
   ]
  },
  {
   "cell_type": "markdown",
   "metadata": {},
   "source": [
    "Furthermore, there is 1 valence pattern associated with this group realization, and it contains the following valences:\n",
    "\n",
    "- A PP[around] for the Area FE\n",
    "- An AVP for the Manner FE\n",
    "- An NP PT for the Theme FE\n",
    "\n",
    "The valence pattern can be further queried to access the individual valences:"
   ]
  },
  {
   "cell_type": "code",
   "execution_count": 34,
   "metadata": {
    "collapsed": false
   },
   "outputs": [
    {
     "data": {
      "text/plain": [
       "Frame: Motion, GF: Dep, PT: PP[around], FE: Area, total: 2\n",
       "        "
      ]
     },
     "execution_count": 34,
     "metadata": {},
     "output_type": "execute_result"
    }
   ],
   "source": [
    "group_fe.valencePatterns[0].valenceUnits[0]"
   ]
  },
  {
   "cell_type": "markdown",
   "metadata": {},
   "source": [
    "## Annotations\n",
    "\n",
    "The Annotation object now also contains mappings from each excerpt of text to the corresponding valence pattern. Annotations can be accessed from the Frame object:"
   ]
  },
  {
   "cell_type": "code",
   "execution_count": 35,
   "metadata": {
    "collapsed": false
   },
   "outputs": [
    {
     "data": {
      "text/plain": [
       "In Madagascar , geckos lap nectar from palm flowers . "
      ]
     },
     "execution_count": 35,
     "metadata": {},
     "output_type": "execute_result"
    }
   ],
   "source": [
    "frame = fn.get_frame(\"Ingestion\")\n",
    "fnb.build_lus_for_frame(\"Ingestion\", fn)\n",
    "frame.annotations[0]"
   ]
  },
  {
   "cell_type": "markdown",
   "metadata": {},
   "source": [
    "To see the mappings from text to valence pattern, see below:"
   ]
  },
  {
   "cell_type": "code",
   "execution_count": 36,
   "metadata": {
    "collapsed": false
   },
   "outputs": [
    {
     "data": {
      "text/plain": [
       "{'from palm flowers': Frame: Ingestion, GF: Dep, PT: PP[from], FE: Source, total: 1\n",
       "         , 'geckos': Frame: Ingestion, GF: Ext, PT: NP, FE: Ingestor, total: 10\n",
       "         , 'nectar': Frame: Ingestion, GF: Obj, PT: NP, FE: Ingestibles, total: 9\n",
       "         }"
      ]
     },
     "execution_count": 36,
     "metadata": {},
     "output_type": "execute_result"
    }
   ],
   "source": [
    "frame.annotations[0].text_to_valence"
   ]
  },
  {
   "cell_type": "markdown",
   "metadata": {},
   "source": [
    "## Summary of Introduction\n",
    "\n",
    "While the documentation and code contain more in-depth descriptions of the functions and aspects of these objects and fields, here is a \"cheat sheet\" for relevant fields of Frames and Lexical Units, which will probably be the primary \"objects\" of interest.\n",
    "\n",
    "### A Frame object contains the following fields:\n",
    "\n",
    "- Name: `self.name`\n",
    "- List of Frame Elements: `self.elements`\n",
    "- List of lexical units: `self.lexicalUnits`\n",
    "- List of frame relations: `self.relations`\n",
    "- Children: `self.children`\n",
    "- Parents: `self.parents`\n",
    "- List of Frame Element relations: `self.fe_relations`\n",
    "- Frame definition: `self.definition`\n",
    "- ID: `self.ID`\n",
    "- List of individual Valences associated with frame: `self.individual_valences`\n",
    "- List of FE group realizations: `self.group_realizations`\n",
    "- List of FE realizations: `self.fe_realizations`\n",
    "- List of annotations: `self.annotations` \n",
    "\n",
    "**Note**: the last four fields are empty lists, by default, until the lexical units for the frame have been built, using:\n",
    "\n",
    "        fnb.build_lus_for_frame(\"{Frame_name}\", fn)\n",
    "\n",
    "### A Lexical Unit object contains the following fields:\n",
    "\n",
    "- POS: `self.pos`\n",
    "- Name: `self.name`\n",
    "- Frame name: `self.frame`\n",
    "- ID: `self.ID`\n",
    "- Definition: `self.definition`\n",
    "- Group FE Realizations: `self.valences`\n",
    "- Semtype (if applicable): `self.semtype`\n",
    "- FE Realizations: `self.fe_realizations`\n",
    "- Individual valences: `self.individual_valences`\n",
    "- Lexeme: `self.lexeme`\n",
    "- Annotations: `self.annotations`\n",
    "\n",
    "## More Advanced Queries\n",
    "\n",
    "While the built-in methods and classes provide useful tools for querying FrameNet data, combining these methods with some relatively simple Python tools will greatly enhance their effectiveness. I have included a number of built-in scripts (scripts.py), many of which can be modified or used as a base for expanding more functions and manipulations of the data.\n",
    "\n",
    "### Using List Comprehensions\n",
    "\n",
    "A particularly useful tool in Python is the list comprehension. This is a way to define and construct a list or set of data-points in a single line of code. The link provided gives excellent examples of everyday applications of the list comprehension.\n",
    "\n",
    "A list comprehension could be used for something as simple as collecting all the frames that inherit directly from \"Cause_motion\" (note that this could also be done by accessing the children field of the Cause_motion frame):"
   ]
  },
  {
   "cell_type": "code",
   "execution_count": 37,
   "metadata": {
    "collapsed": false
   },
   "outputs": [],
   "source": [
    "inherit = [frame for frame in fn.frames if \"Cause_motion\" in frame.parents]"
   ]
  },
  {
   "cell_type": "markdown",
   "metadata": {},
   "source": [
    "Note that if all you want are the frame names, as opposed to the objects, you can store that data-point instead:"
   ]
  },
  {
   "cell_type": "code",
   "execution_count": 38,
   "metadata": {
    "collapsed": false
   },
   "outputs": [
    {
     "data": {
      "text/plain": [
       "['Cause_fluidic_motion', 'Passing', 'Shoot_projectiles']"
      ]
     },
     "execution_count": 38,
     "metadata": {},
     "output_type": "execute_result"
    }
   ],
   "source": [
    "inherit = [frame.name for frame in fn.frames if \"Cause_motion\" in frame.parents]\n",
    "inherit"
   ]
  },
  {
   "cell_type": "markdown",
   "metadata": {},
   "source": [
    "We can compare this against the children of `Cause_motion` to make sure we're correct:"
   ]
  },
  {
   "cell_type": "code",
   "execution_count": 39,
   "metadata": {
    "collapsed": false
   },
   "outputs": [
    {
     "data": {
      "text/plain": [
       "[]"
      ]
     },
     "execution_count": 39,
     "metadata": {},
     "output_type": "execute_result"
    }
   ],
   "source": [
    "fn.get_frame(\"Cause_motion\").children"
   ]
  },
  {
   "cell_type": "markdown",
   "metadata": {},
   "source": [
    "List comprehensions can also be embedded within each other, just as \"for-loops\" can be embedded normally. Perhaps we are interested in all the frame names of frames that contain the \"Interlocutors\" Frame Element:"
   ]
  },
  {
   "cell_type": "code",
   "execution_count": 40,
   "metadata": {
    "collapsed": false
   },
   "outputs": [
    {
     "data": {
      "text/plain": [
       "['Chatting', 'Discussion']"
      ]
     },
     "execution_count": 40,
     "metadata": {},
     "output_type": "execute_result"
    }
   ],
   "source": [
    "list_frames = [frame.name for frame in fn.frames \n",
    "               if \"Interlocutors\" in [element.name for element in frame.elements]]\n",
    "list_frames"
   ]
  },
  {
   "cell_type": "markdown",
   "metadata": {},
   "source": [
    "### Individual Valences\n",
    "\n",
    "These list comprehensions are especially useful for querying valence patterns in a given frame (or set of frames). For example, if you're interested in recovering all of the valences with a \"DNI\" (definite null instantiation) phrase type in a frame, you can use the following list comprehension:"
   ]
  },
  {
   "cell_type": "code",
   "execution_count": 41,
   "metadata": {
    "collapsed": false
   },
   "outputs": [
    {
     "name": "stdout",
     "output_type": "stream",
     "text": [
      "These lexical units have already been built.\n"
     ]
    },
    {
     "data": {
      "text/plain": [
       "[Frame: Motion, GF: , PT: DNI, FE: Goal, total: 1\n",
       "         , Frame: Motion, GF: , PT: DNI, FE: Goal, total: 2\n",
       "         , Frame: Motion, GF: , PT: DNI, FE: Source, total: 1\n",
       "         , Frame: Motion, GF: , PT: DNI, FE: Area, total: 1\n",
       "         , Frame: Motion, GF: , PT: DNI, FE: Area, total: 1\n",
       "         ]"
      ]
     },
     "execution_count": 41,
     "metadata": {},
     "output_type": "execute_result"
    }
   ],
   "source": [
    "frame = fn.get_frame(\"Motion\")\n",
    "fnb.build_lus_for_frame(\"Motion\", fn)\n",
    "dni = [valence for valence in frame.individual_valences if valence.pt == \"DNI\"]\n",
    "dni"
   ]
  },
  {
   "cell_type": "markdown",
   "metadata": {},
   "source": [
    "You can then inspect the list of `DNI` valences:"
   ]
  },
  {
   "cell_type": "code",
   "execution_count": 42,
   "metadata": {
    "collapsed": false
   },
   "outputs": [
    {
     "data": {
      "text/plain": [
       "Frame: Motion, GF: , PT: DNI, FE: Goal, total: 1\n",
       "        "
      ]
     },
     "execution_count": 42,
     "metadata": {},
     "output_type": "execute_result"
    }
   ],
   "source": [
    "dni[0]"
   ]
  },
  {
   "cell_type": "code",
   "execution_count": 43,
   "metadata": {
    "collapsed": false
   },
   "outputs": [
    {
     "data": {
      "text/plain": [
       "[To counter this , the populations moved from their homes on the coast and built settlements inland , out of sight of the raiding parties .]"
      ]
     },
     "execution_count": 43,
     "metadata": {},
     "output_type": "execute_result"
    }
   ],
   "source": [
    "dni[0].annotations"
   ]
  },
  {
   "cell_type": "code",
   "execution_count": 44,
   "metadata": {
    "collapsed": false
   },
   "outputs": [
    {
     "data": {
      "text/plain": [
       "'snake.v'"
      ]
     },
     "execution_count": 44,
     "metadata": {},
     "output_type": "execute_result"
    }
   ],
   "source": [
    "dni[4].lexeme"
   ]
  },
  {
   "cell_type": "code",
   "execution_count": 45,
   "metadata": {
    "collapsed": false
   },
   "outputs": [
    {
     "data": {
      "text/plain": [
       "[The palm groves were full of brick kilns and trails of black smoke snaked between the trees . ]"
      ]
     },
     "execution_count": 45,
     "metadata": {},
     "output_type": "execute_result"
    }
   ],
   "source": [
    "dni[4].annotations"
   ]
  },
  {
   "cell_type": "markdown",
   "metadata": {},
   "source": [
    "If you're interested in which Frame Elements are DNI, you can filter out just that information as well:"
   ]
  },
  {
   "cell_type": "code",
   "execution_count": 46,
   "metadata": {
    "collapsed": false
   },
   "outputs": [
    {
     "data": {
      "text/plain": [
       "['Goal', 'Goal', 'Source', 'Area', 'Area']"
      ]
     },
     "execution_count": 46,
     "metadata": {},
     "output_type": "execute_result"
    }
   ],
   "source": [
    "dni_fe = [v.fe for v in dni]\n",
    "dni_fe"
   ]
  },
  {
   "cell_type": "markdown",
   "metadata": {},
   "source": [
    "You can use the Python Counter module to count the unique occurrences of each FE:"
   ]
  },
  {
   "cell_type": "code",
   "execution_count": 47,
   "metadata": {
    "collapsed": false
   },
   "outputs": [
    {
     "data": {
      "text/plain": [
       "Counter({'Area': 2, 'Goal': 2, 'Source': 1})"
      ]
     },
     "execution_count": 47,
     "metadata": {},
     "output_type": "execute_result"
    }
   ],
   "source": [
    "from collections import Counter\n",
    "Counter(dni_fe)"
   ]
  },
  {
   "cell_type": "markdown",
   "metadata": {},
   "source": [
    "### FE Group Realizations\n",
    "\n",
    "If you're interested in FE Group Realizations — data on which frame elements show up together in which constructional patterns — you can also use list comprehensions to extract relevant information. \n",
    "\n",
    "For example, if you're interested in FE Group Realizations containing both the `Theme` and `Path` elements in the `Motion` frame, you can query the group_realizations field:"
   ]
  },
  {
   "cell_type": "code",
   "execution_count": 48,
   "metadata": {
    "collapsed": false
   },
   "outputs": [
    {
     "name": "stdout",
     "output_type": "stream",
     "text": [
      "These lexical units have already been built.\n"
     ]
    }
   ],
   "source": [
    "frame = fn.get_frame(\"Motion\")\n",
    "fnb.build_lus_for_frame(\"Motion\", fn)\n",
    "theme_path = [r for r in frame.group_realizations \n",
    "              if set(['Theme', 'Path']).issubset(r.elements)]"
   ]
  },
  {
   "cell_type": "code",
   "execution_count": 49,
   "metadata": {
    "collapsed": false
   },
   "outputs": [
    {
     "data": {
      "text/plain": [
       "['Carrier', 'Manner', 'Path', 'Theme']"
      ]
     },
     "execution_count": 49,
     "metadata": {},
     "output_type": "execute_result"
    }
   ],
   "source": [
    "theme_path[0].elements"
   ]
  },
  {
   "cell_type": "code",
   "execution_count": null,
   "metadata": {
    "collapsed": false
   },
   "outputs": [
    {
     "data": {
      "text/plain": [
       "[In the garden the leaves shone in the sunlight , and the flowers moved gently in the summer wind . ]"
      ]
     },
     "execution_count": 50,
     "metadata": {},
     "output_type": "execute_result"
    }
   ],
   "source": [
    "theme_path[0].annotations"
   ]
  },
  {
   "cell_type": "markdown",
   "metadata": {},
   "source": [
    "(Path, in the annotation above, is classified as an \"indefinite null instantiation\".)"
   ]
  },
  {
   "cell_type": "markdown",
   "metadata": {},
   "source": [
    "## Annotations and Valences for all Frames\n",
    "\n",
    "If you'd like to view and query annotation and valence data across all FrameNet frames, you can simply use the build_lus_for_frame function on each frame:"
   ]
  },
  {
   "cell_type": "code",
   "execution_count": null,
   "metadata": {
    "collapsed": false
   },
   "outputs": [
    {
     "name": "stdout",
     "output_type": "stream",
     "text": [
      "These lexical units have already been built.\n"
     ]
    }
   ],
   "source": [
    "for frame in fn.frames:\n",
    "    fnb.build_lus_for_frame(frame.name, fn)"
   ]
  },
  {
   "cell_type": "markdown",
   "metadata": {
    "collapsed": false
   },
   "source": [
    "This takes some more time (~5-10 minutes), but afterwards, you'll have access to all of the frame exemplar annotation data, which you can use to make interesting queries."
   ]
  },
  {
   "cell_type": "code",
   "execution_count": null,
   "metadata": {
    "collapsed": true
   },
   "outputs": [],
   "source": []
  }
 ],
 "metadata": {
  "kernelspec": {
   "display_name": "Python 3",
   "language": "python",
   "name": "python3"
  },
  "language_info": {
   "codemirror_mode": {
    "name": "ipython",
    "version": 3
   },
   "file_extension": ".py",
   "mimetype": "text/x-python",
   "name": "python",
   "nbconvert_exporter": "python",
   "pygments_lexer": "ipython3",
   "version": "3.6.0"
  }
 },
 "nbformat": 4,
 "nbformat_minor": 0
}
