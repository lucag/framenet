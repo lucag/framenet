{
 "cells": [
  {
   "cell_type": "code",
   "execution_count": 4,
   "metadata": {
    "collapsed": false
   },
   "outputs": [],
   "source": [
    "from framenet.builder import build\n",
    "\n",
    "fn, fnb = build()"
   ]
  },
  {
   "cell_type": "code",
   "execution_count": 5,
   "metadata": {
    "collapsed": true
   },
   "outputs": [],
   "source": [
    "cm = fn.get_frame('Cause_motion')"
   ]
  },
  {
   "cell_type": "code",
   "execution_count": 6,
   "metadata": {
    "collapsed": false
   },
   "outputs": [
    {
     "data": {
      "text/plain": [
       "Frame(name=Cause_motion, ID=55, relations=[Inherits from: ['Transitive_action'], Is Inherited by: ['Cause_fluidic_motion', 'Shoot_projectiles', 'Passing'], Is Used by: ['Bringing', 'Gathering_up', 'Ingestion', 'Excreting'], Has Subframe(s): ['Placing', 'Removing'], Is Causative of: ['Motion'], See also: ['Bringing', 'Filling', 'Placing', 'Removing', 'Emptying']], elements=[FrameElement(frame_name=Cause_motion, name=Agent, ID=228, coreType=Core, semtype=Sentient), FrameElement(frame_name=Cause_motion, name=Theme, ID=229, coreType=Core, semtype=Physical_object), FrameElement(frame_name=Cause_motion, name=Source, ID=230, coreType=Core, semtype=Source), FrameElement(frame_name=Cause_motion, name=Path, ID=231, coreType=Core, semtype=None), FrameElement(frame_name=Cause_motion, name=Goal, ID=232, coreType=Core, semtype=Goal), FrameElement(frame_name=Cause_motion, name=Distance, ID=233, coreType=Peripheral, semtype=None), FrameElement(frame_name=Cause_motion, name=Area, ID=234, coreType=Core, semtype=None), FrameElement(frame_name=Cause_motion, name=Depictive, ID=2099, coreType=Extra-Thematic, semtype=None), FrameElement(frame_name=Cause_motion, name=Degree, ID=2102, coreType=Extra-Thematic, semtype=Degree), FrameElement(frame_name=Cause_motion, name=Means, ID=3665, coreType=Peripheral, semtype=State_of_affairs), FrameElement(frame_name=Cause_motion, name=Manner, ID=3666, coreType=Peripheral, semtype=Manner), FrameElement(frame_name=Cause_motion, name=Subregion, ID=4990, coreType=Extra-Thematic, semtype=Locative_relation), FrameElement(frame_name=Cause_motion, name=Cause, ID=4991, coreType=Core, semtype=None), FrameElement(frame_name=Cause_motion, name=Instrument, ID=5388, coreType=Peripheral, semtype=Physical_entity), FrameElement(frame_name=Cause_motion, name=Place, ID=5389, coreType=Peripheral, semtype=Locative_relation), FrameElement(frame_name=Cause_motion, name=Time, ID=5390, coreType=Peripheral, semtype=Time), FrameElement(frame_name=Cause_motion, name=Result, ID=5532, coreType=Core, semtype=None), FrameElement(frame_name=Cause_motion, name=Handle, ID=5533, coreType=Extra-Thematic, semtype=None), FrameElement(frame_name=Cause_motion, name=Initial_state, ID=7031, coreType=Core, semtype=None), FrameElement(frame_name=Cause_motion, name=Explanation, ID=12756, coreType=Extra-Thematic, semtype=None)])"
      ]
     },
     "execution_count": 6,
     "metadata": {},
     "output_type": "execute_result"
    }
   ],
   "source": [
    "cm"
   ]
  },
  {
   "cell_type": "code",
   "execution_count": null,
   "metadata": {
    "collapsed": true
   },
   "outputs": [],
   "source": []
  }
 ],
 "metadata": {
  "kernelspec": {
   "display_name": "Python 3",
   "language": "python",
   "name": "python3"
  },
  "language_info": {
   "codemirror_mode": {
    "name": "ipython",
    "version": 3
   },
   "file_extension": ".py",
   "mimetype": "text/x-python",
   "name": "python",
   "nbconvert_exporter": "python",
   "pygments_lexer": "ipython3",
   "version": "3.6.0"
  }
 },
 "nbformat": 4,
 "nbformat_minor": 2
}
