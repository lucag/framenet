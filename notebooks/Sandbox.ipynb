{
 "cells": [
  {
   "cell_type": "code",
   "execution_count": 12,
   "metadata": {
    "collapsed": true
   },
   "outputs": [],
   "source": [
    "import xml.etree.ElementTree as et\n",
    "import re, string, yaml, os\n",
    "\n",
    "from os.path        import join\n",
    "from framenet.util  import curry, singleton, update\n",
    "from abc            import ABC, abstractmethod\n",
    "from collections    import OrderedDict\n",
    "from pprint         import pprint\n",
    "\n",
    "FN_HOME = os.getenv('FN_HOME')\n",
    "\n",
    "class Tree(ABC):\n",
    "#     @property\n",
    "    @abstractmethod\n",
    "    def children(self): pass\n",
    "    \n",
    "#     @property\n",
    "    @abstractmethod\n",
    "    def items(self): pass\n",
    "    \n",
    "    def __repr__(self):\n",
    "        ii, cc = self.items(), list(self.children())\n",
    "        cname  = self.__class__.__name__\n",
    "        if not cc: \n",
    "            return '{0}: {1}'.format(cname, ii)\n",
    "        else:\n",
    "            return '{0}: {1} {2}'.format(cname, ii, repr(cc))\n",
    "\n",
    "class TestTree(Tree):\n",
    "    def __init__(self, items, children=[]):\n",
    "        update(self, _items=items, _children=children)\n",
    "#     @property\n",
    "    def items(self): \n",
    "        return self._items\n",
    "#     @property\n",
    "    def children(self):\n",
    "        return self._children"
   ]
  },
  {
   "cell_type": "markdown",
   "metadata": {},
   "source": [
    "# A catamorphism\n",
    "\n",
    "    data Tree a = Node a [Tree a] deriving (Show) \n",
    "    \n",
    "    cat :: (a -> [b] -> b) -> Tree a -> b\n",
    "    cat f (Node root children) = f root (map (cat f) children)"
   ]
  },
  {
   "cell_type": "code",
   "execution_count": 13,
   "metadata": {
    "collapsed": false
   },
   "outputs": [],
   "source": [
    "@curry\n",
    "def cat(f, tree):\n",
    "    \"A catamorphism. See above.\"\n",
    "    return f(tree.items(), map(cat(f), tree.children()))"
   ]
  },
  {
   "cell_type": "code",
   "execution_count": 14,
   "metadata": {
    "collapsed": false
   },
   "outputs": [
    {
     "data": {
      "text/plain": [
       "TestTree: 2 [TestTree: 3, TestTree: 4]"
      ]
     },
     "execution_count": 14,
     "metadata": {},
     "output_type": "execute_result"
    }
   ],
   "source": [
    "TT = TestTree\n",
    "\n",
    "t = TT(1, [TT(2), TT(3)])\n",
    "\n",
    "def f(items, children):\n",
    "    return TestTree(items + 1, children)\n",
    "\n",
    "cat(f, t)"
   ]
  },
  {
   "cell_type": "code",
   "execution_count": 7,
   "metadata": {
    "collapsed": false
   },
   "outputs": [],
   "source": [
    "def is_whitespace(s):\n",
    "    for c in s:\n",
    "        if not c in string.whitespace:\n",
    "            return False\n",
    "    return True\n",
    "\n",
    "class EtTree(Tree):\n",
    "    def __init__(self, et_root):\n",
    "        self.et_root = et_root\n",
    "\n",
    "    def items(self):\n",
    "        r = self.et_root\n",
    "        if r.text and not is_whitespace(r.text):\n",
    "            return ('text', r.text) + r.items()\n",
    "        else:\n",
    "            return r.items()\n",
    "    \n",
    "    def children(self):\n",
    "        return map(EtTree, self.et_root.getchildren())"
   ]
  },
  {
   "cell_type": "code",
   "execution_count": 9,
   "metadata": {
    "collapsed": false
   },
   "outputs": [],
   "source": [
    "t = EtTree(et.parse(join(FN_HOME, 'frRelation.xml')).getroot())\n",
    "\n",
    "def to_dict(items, children):\n",
    "    cc = list(children)\n",
    "    return dict((k, v) for k, v in items + [('contents', cc)] if v)\n",
    "\n",
    "d = cat(to_dict, t)\n",
    "\n",
    "with open('../data/frRelation.yml', 'w+') as sout:\n",
    "    yaml.dump(d, sout, default_flow_style=False)"
   ]
  },
  {
   "cell_type": "code",
   "execution_count": 15,
   "metadata": {
    "collapsed": false
   },
   "outputs": [
    {
     "data": {
      "text/plain": [
       "Frame(name=Achieving_first, ID=403, relations=[Inherits from: ['Intentionally_create'], Uses: ['First_experience'], Subframe of: ['Product_development_scenario'], Precedes: ['Product_development']], elements=[FrameElement(frame_name=Achieving_first, name=Cognizer, ID=3725, coreType=Core, semtype=Sentient), FrameElement(frame_name=Achieving_first, name=New_idea, ID=3726, coreType=Core, semtype=None), FrameElement(frame_name=Achieving_first, name=Time, ID=3727, coreType=Peripheral, semtype=Time), FrameElement(frame_name=Achieving_first, name=Place, ID=3728, coreType=Peripheral, semtype=Locative_relation), FrameElement(frame_name=Achieving_first, name=Means, ID=3729, coreType=Peripheral, semtype=State_of_affairs), FrameElement(frame_name=Achieving_first, name=Purpose, ID=3730, coreType=Peripheral, semtype=State_of_affairs), FrameElement(frame_name=Achieving_first, name=Explanation, ID=3731, coreType=Extra-Thematic, semtype=State_of_affairs), FrameElement(frame_name=Achieving_first, name=Field, ID=3755, coreType=Peripheral, semtype=None), FrameElement(frame_name=Achieving_first, name=Instrument, ID=4896, coreType=Peripheral, semtype=Physical_entity), FrameElement(frame_name=Achieving_first, name=Manner, ID=4897, coreType=Peripheral, semtype=Manner), FrameElement(frame_name=Achieving_first, name=Basis, ID=4899, coreType=Peripheral, semtype=None), FrameElement(frame_name=Achieving_first, name=Location_of_appearance, ID=12778, coreType=Extra-Thematic, semtype=None)])"
      ]
     },
     "execution_count": 15,
     "metadata": {},
     "output_type": "execute_result"
    }
   ],
   "source": [
    "from framenet.main import main\n",
    "\n",
    "fn, fb = main(FN_HOME)\n",
    "fn.frames[10]"
   ]
  },
  {
   "cell_type": "code",
   "execution_count": 1,
   "metadata": {
    "collapsed": false
   },
   "outputs": [
    {
     "name": "stdout",
     "output_type": "stream",
     "text": [
      "a ⟷ b\n"
     ]
    }
   ],
   "source": [
    "print('a \\u27f7 b')"
   ]
  },
  {
   "cell_type": "code",
   "execution_count": 9,
   "metadata": {
    "collapsed": false
   },
   "outputs": [
    {
     "data": {
      "text/plain": [
       "Frame(Event) [187]"
      ]
     },
     "execution_count": 9,
     "metadata": {},
     "output_type": "execute_result"
    }
   ],
   "source": [
    "fn.get_frame('Event')"
   ]
  },
  {
   "cell_type": "code",
   "execution_count": 11,
   "metadata": {
    "collapsed": false
   },
   "outputs": [
    {
     "data": {
      "text/plain": [
       "[]"
      ]
     },
     "execution_count": 11,
     "metadata": {},
     "output_type": "execute_result"
    }
   ],
   "source": [
    "motion = fn.get_frame('Motion')\n",
    "motion.individual_valences"
   ]
  },
  {
   "cell_type": "code",
   "execution_count": 40,
   "metadata": {
    "collapsed": false
   },
   "outputs": [],
   "source": [
    "fb.build_lus_for_frame(\"Motion\", fn)"
   ]
  },
  {
   "cell_type": "code",
   "execution_count": 19,
   "metadata": {
    "collapsed": false
   },
   "outputs": [],
   "source": [
    "from IPython.display import HTML\n",
    "\n",
    "class H:\n",
    "    def _repr_html_(self):\n",
    "        return '<h1>This is H!</h1>'\n",
    "\n",
    "    def _repr_json_(self):\n",
    "        return {'this': ['is H!']}"
   ]
  },
  {
   "cell_type": "code",
   "execution_count": 18,
   "metadata": {
    "collapsed": false
   },
   "outputs": [
    {
     "data": {
      "application/json": {
       "this": [
        "is H!"
       ]
      },
      "text/html": [
       "<h1>This is H!</h1>"
      ],
      "text/plain": [
       "<__main__.H at 0x109c03550>"
      ]
     },
     "execution_count": 18,
     "metadata": {},
     "output_type": "execute_result"
    }
   ],
   "source": [
    "H()"
   ]
  },
  {
   "cell_type": "code",
   "execution_count": 2,
   "metadata": {
    "collapsed": true
   },
   "outputs": [],
   "source": [
    "from collections import namedtuple as _namedtuple\n",
    "from abc import ABCMeta, abstractproperty\n",
    "from functools import wraps\n",
    "from sys import version_info\n",
    "\n",
    "__all__ = ('namedtuple',)\n",
    "\n",
    "\n",
    "class _NamedTupleABCMeta(ABCMeta):\n",
    "    '''The metaclass for the abstract base class + mix-in for named tuples.'''\n",
    "    def __new__(mcls, name, bases, namespace):\n",
    "        fields = namespace.get('_fields')\n",
    "        for base in bases:\n",
    "            if fields is not None:\n",
    "                break\n",
    "            fields = getattr(base, '_fields', None)\n",
    "        if not isinstance(fields, abstractproperty):\n",
    "            basetuple = _namedtuple(name, fields)\n",
    "            bases = (basetuple,) + bases\n",
    "            namespace.pop('_fields', None)\n",
    "            namespace.setdefault('__doc__', basetuple.__doc__)\n",
    "            namespace.setdefault('__slots__', ())\n",
    "        return ABCMeta.__new__(mcls, name, bases, namespace)\n",
    "\n",
    "\n",
    "exec(\n",
    "    # Python 2.x metaclass declaration syntax\n",
    "    \"\"\"class _NamedTupleABC(object):\n",
    "        '''The abstract base class + mix-in for named tuples.'''\n",
    "        __metaclass__ = _NamedTupleABCMeta\n",
    "        _fields = abstractproperty()\"\"\" if version_info[0] < 3 else\n",
    "    # Python 3.x metaclass declaration syntax\n",
    "    \"\"\"class _NamedTupleABC(metaclass=_NamedTupleABCMeta):\n",
    "        '''The abstract base class + mix-in for named tuples.'''\n",
    "        _fields = abstractproperty()\"\"\"\n",
    ")\n",
    "\n",
    "\n",
    "_namedtuple.abc = _NamedTupleABC\n",
    "#_NamedTupleABC.register(type(version_info))  # (and similar, in the future...)\n",
    "\n",
    "@wraps(_namedtuple)\n",
    "def namedtuple(*args, **kwargs):\n",
    "    '''Named tuple factory with namedtuple.abc subclass registration.'''\n",
    "    cls = _namedtuple(*args, **kwargs)\n",
    "    _NamedTupleABC.register(cls)\n",
    "    return cls"
   ]
  },
  {
   "cell_type": "code",
   "execution_count": 4,
   "metadata": {
    "collapsed": false
   },
   "outputs": [
    {
     "data": {
      "text/plain": [
       "I'm your new MyRecord NT!"
      ]
     },
     "execution_count": 4,
     "metadata": {},
     "output_type": "execute_result"
    }
   ],
   "source": [
    "class MyRecord(namedtuple.abc):\n",
    "        _fields = 'x y z'  # such form will be transformed into ('x', 'y', 'z')\n",
    "        def __repr__(self):\n",
    "            return \"I'm your new MyRecord NT!\"\n",
    "        \n",
    "r = MyRecord(1, 2, 3)\n",
    "r"
   ]
  },
  {
   "cell_type": "code",
   "execution_count": 12,
   "metadata": {
    "collapsed": true
   },
   "outputs": [
    {
     "data": {
      "text/plain": [
       "['__abstractmethods__',\n",
       " '__add__',\n",
       " '__class__',\n",
       " '__contains__',\n",
       " '__delattr__',\n",
       " '__dict__',\n",
       " '__dir__',\n",
       " '__doc__',\n",
       " '__eq__',\n",
       " '__format__',\n",
       " '__ge__',\n",
       " '__getattribute__',\n",
       " '__getitem__',\n",
       " '__getnewargs__',\n",
       " '__gt__',\n",
       " '__hash__',\n",
       " '__init__',\n",
       " '__iter__',\n",
       " '__le__',\n",
       " '__len__',\n",
       " '__lt__',\n",
       " '__module__',\n",
       " '__mul__',\n",
       " '__ne__',\n",
       " '__new__',\n",
       " '__reduce__',\n",
       " '__reduce_ex__',\n",
       " '__repr__',\n",
       " '__rmul__',\n",
       " '__setattr__',\n",
       " '__sizeof__',\n",
       " '__slots__',\n",
       " '__str__',\n",
       " '__subclasshook__',\n",
       " '__weakref__',\n",
       " '_abc_cache',\n",
       " '_abc_negative_cache',\n",
       " '_abc_negative_cache_version',\n",
       " '_abc_registry',\n",
       " '_asdict',\n",
       " '_fields',\n",
       " '_make',\n",
       " '_replace',\n",
       " '_source',\n",
       " 'count',\n",
       " 'index',\n",
       " 'x',\n",
       " 'y',\n",
       " 'z']"
      ]
     },
     "execution_count": 12,
     "metadata": {},
     "output_type": "execute_result"
    }
   ],
   "source": [
    "dir(r)"
   ]
  },
  {
   "cell_type": "code",
   "execution_count": 11,
   "metadata": {
    "collapsed": false
   },
   "outputs": [
    {
     "data": {
      "text/plain": [
       "{}"
      ]
     },
     "execution_count": 11,
     "metadata": {},
     "output_type": "execute_result"
    }
   ],
   "source": [
    "r.__dict__"
   ]
  },
  {
   "cell_type": "code",
   "execution_count": 10,
   "metadata": {
    "collapsed": false
   },
   "outputs": [],
   "source": [
    "del r.__dict__"
   ]
  },
  {
   "cell_type": "code",
   "execution_count": 3,
   "metadata": {
    "collapsed": false
   },
   "outputs": [
    {
     "ename": "ImportError",
     "evalue": "No module named 'framenet.utils'",
     "output_type": "error",
     "traceback": [
      "\u001b[0;31m---------------------------------------------------------------------------\u001b[0m",
      "\u001b[0;31mImportError\u001b[0m                               Traceback (most recent call last)",
      "\u001b[0;32m<ipython-input-3-d91f9c3eb255>\u001b[0m in \u001b[0;36m<module>\u001b[0;34m()\u001b[0m\n\u001b[1;32m      3\u001b[0m \u001b[0;32mimport\u001b[0m \u001b[0mnumpy\u001b[0m                 \u001b[0;32mas\u001b[0m \u001b[0mnp\u001b[0m\u001b[0;34m\u001b[0m\u001b[0m\n\u001b[1;32m      4\u001b[0m \u001b[0;34m\u001b[0m\u001b[0m\n\u001b[0;32m----> 5\u001b[0;31m \u001b[0;32mfrom\u001b[0m \u001b[0mframenet\u001b[0m\u001b[0;34m.\u001b[0m\u001b[0mutils\u001b[0m \u001b[0;32mimport\u001b[0m \u001b[0mtake\u001b[0m\u001b[0;34m,\u001b[0m \u001b[0mdrop\u001b[0m\u001b[0;34m,\u001b[0m \u001b[0mcurry\u001b[0m\u001b[0;34m,\u001b[0m \u001b[0miget\u001b[0m\u001b[0;34m,\u001b[0m \u001b[0mflatmap\u001b[0m\u001b[0;34m\u001b[0m\u001b[0m\n\u001b[0m\u001b[1;32m      6\u001b[0m \u001b[0;32mfrom\u001b[0m \u001b[0mos\u001b[0m\u001b[0;34m.\u001b[0m\u001b[0mpath\u001b[0m        \u001b[0;32mimport\u001b[0m \u001b[0mjoin\u001b[0m\u001b[0;34m\u001b[0m\u001b[0m\n\u001b[1;32m      7\u001b[0m \u001b[0;32mfrom\u001b[0m \u001b[0mglob\u001b[0m           \u001b[0;32mimport\u001b[0m \u001b[0mglob\u001b[0m\u001b[0;34m,\u001b[0m \u001b[0miglob\u001b[0m\u001b[0;34m\u001b[0m\u001b[0m\n",
      "\u001b[0;31mImportError\u001b[0m: No module named 'framenet.utils'"
     ]
    }
   ],
   "source": [
    "import xml.etree.ElementTree as et\n",
    "import pandas                as pd\n",
    "import numpy                 as np\n",
    "\n",
    "from framenet.utils import take, drop, curry, iget, flatmap\n",
    "from os.path        import join\n",
    "from glob           import glob, iglob\n",
    "\n",
    "@curry\n",
    "def et_loader(base, path):\n",
    "#     *start, last = path\n",
    "    fname = '%s.xml' % path if not path.endswith('.xml') else path\n",
    "    return et.parse(join(base, fname)).getroot()\n",
    "\n",
    "URI          = 'http://framenet.icsi.berkeley.edu'\n",
    "NS           = {'fn': URI} \n",
    "base_dir     = os.getenv('FN_HOME')\n",
    "frame_dir    = join(base_dir, 'frame')\n",
    "frame_root   = et_loader(frame_dir)\n",
    "rel_root     = et_loader(base_dir)\n",
    "\n",
    "def frame_element_relation(uri, root):\n",
    "    rtypes  = root.iter('{%s}frameRelationType' % uri)\n",
    "    cap     = lambda s: s[0].upper() + s[1:]\n",
    "    items   = lambda fer, fr, rt: dict(\n",
    "        fer.items() \n",
    "        + [('relationType', rt.get('name'))]\n",
    "        + [('relation%s' % cap(k), v) for k, v in fr.items()])\n",
    "    return [items(fer, fr, rt) for rt in rtypes for fr in rt for fer in fr]\n",
    "\n",
    "@curry\n",
    "def frame_element(uri, root):\n",
    "    fs    = root.iter('{%s}frame' % uri)\n",
    "    items = lambda fe: [(k, v) for k, v in fe.items() if k in 'ID coreType name'.split()]\n",
    "    return [dict(items(fe) + [('frameID', f.get('ID'))]) \n",
    "            for f in fs\n",
    "            for fe in f.iter('{%s}FE' % uri)]"
   ]
  },
  {
   "cell_type": "code",
   "execution_count": 4,
   "metadata": {
    "collapsed": false,
    "scrolled": false
   },
   "outputs": [],
   "source": [
    "fer_df = pd.DataFrame(frame_element_relation(URI, rel_root('frRelation')))"
   ]
  },
  {
   "cell_type": "code",
   "execution_count": 5,
   "metadata": {
    "collapsed": false
   },
   "outputs": [],
   "source": [
    "et_roots = (frame_root(fname) for fname in glob('%s/*.xml' % frame_dir))\n",
    "\n",
    "def frames(uri, roots):\n",
    "    return flatmap(frame_element(uri), roots)"
   ]
  },
  {
   "cell_type": "code",
   "execution_count": 6,
   "metadata": {
    "collapsed": true
   },
   "outputs": [],
   "source": [
    "frames_df = pd.DataFrame(list(frames(URI, et_roots)))"
   ]
  },
  {
   "cell_type": "code",
   "execution_count": 7,
   "metadata": {
    "collapsed": false
   },
   "outputs": [],
   "source": [
    "import qgrid\n",
    "qgrid.nbinstall(overwrite=True)"
   ]
  },
  {
   "cell_type": "code",
   "execution_count": 38,
   "metadata": {
    "collapsed": false
   },
   "outputs": [],
   "source": [
    "qgrid.show_grid(fer_df, grid_options={'forceFitColumns': False, 'defaultColumnWidth': 200})"
   ]
  },
  {
   "cell_type": "code",
   "execution_count": 33,
   "metadata": {
    "collapsed": false
   },
   "outputs": [
    {
     "data": {
      "text/plain": [
       "[('{http://framenet.icsi.berkeley.edu}FE',\n",
       "  '{http://framenet.icsi.berkeley.edu}frame'),\n",
       " ('{http://framenet.icsi.berkeley.edu}FE',\n",
       "  '{http://framenet.icsi.berkeley.edu}frame'),\n",
       " ('{http://framenet.icsi.berkeley.edu}FE',\n",
       "  '{http://framenet.icsi.berkeley.edu}frame'),\n",
       " ('{http://framenet.icsi.berkeley.edu}FE',\n",
       "  '{http://framenet.icsi.berkeley.edu}frame'),\n",
       " ('{http://framenet.icsi.berkeley.edu}FE',\n",
       "  '{http://framenet.icsi.berkeley.edu}frame'),\n",
       " ('{http://framenet.icsi.berkeley.edu}FE',\n",
       "  '{http://framenet.icsi.berkeley.edu}frame'),\n",
       " ('{http://framenet.icsi.berkeley.edu}FE',\n",
       "  '{http://framenet.icsi.berkeley.edu}frame'),\n",
       " ('{http://framenet.icsi.berkeley.edu}FE',\n",
       "  '{http://framenet.icsi.berkeley.edu}frame'),\n",
       " ('{http://framenet.icsi.berkeley.edu}FE',\n",
       "  '{http://framenet.icsi.berkeley.edu}frame'),\n",
       " ('{http://framenet.icsi.berkeley.edu}FE',\n",
       "  '{http://framenet.icsi.berkeley.edu}frame'),\n",
       " ('{http://framenet.icsi.berkeley.edu}FE',\n",
       "  '{http://framenet.icsi.berkeley.edu}frame'),\n",
       " ('{http://framenet.icsi.berkeley.edu}FE',\n",
       "  '{http://framenet.icsi.berkeley.edu}frame'),\n",
       " ('{http://framenet.icsi.berkeley.edu}FE',\n",
       "  '{http://framenet.icsi.berkeley.edu}frame'),\n",
       " ('{http://framenet.icsi.berkeley.edu}FE',\n",
       "  '{http://framenet.icsi.berkeley.edu}frame')]"
      ]
     },
     "execution_count": 33,
     "metadata": {},
     "output_type": "execute_result"
    }
   ],
   "source": [
    "from itertools import chain\n",
    "attrs = 'ID coreType name'.split()\n",
    "pairs = lambda f, fe: chain(\n",
    "    [(k, v) for k, v in fe.items() if k in attrs],\n",
    "    [('frameID', f.get('ID'))])\n",
    "\n",
    "from framenet.ecg import it\n",
    "[(fe.tag, f.tag) for f in it(frame_root('Intentionally_act'), 'frame') for fe in it(f, 'FE')]"
   ]
  },
  {
   "cell_type": "code",
   "execution_count": 34,
   "metadata": {
    "collapsed": false
   },
   "outputs": [
    {
     "data": {
      "text/plain": [
       "[{'ID': '1609',\n",
       "  'coreType': 'Core-Unexpressed',\n",
       "  'frameID': '198',\n",
       "  'name': 'Act'},\n",
       " {'ID': '1610', 'coreType': 'Core', 'frameID': '198', 'name': 'Agent'},\n",
       " {'ID': '1613', 'coreType': 'Peripheral', 'frameID': '198', 'name': 'Place'},\n",
       " {'ID': '1614', 'coreType': 'Peripheral', 'frameID': '198', 'name': 'Purpose'},\n",
       " {'ID': '1616', 'coreType': 'Peripheral', 'frameID': '198', 'name': 'Time'},\n",
       " {'ID': '2573', 'coreType': 'Peripheral', 'frameID': '198', 'name': 'Means'},\n",
       " {'ID': '2574', 'coreType': 'Peripheral', 'frameID': '198', 'name': 'Manner'},\n",
       " {'ID': '7982',\n",
       "  'coreType': 'Extra-Thematic',\n",
       "  'frameID': '198',\n",
       "  'name': 'Domain'},\n",
       " {'ID': '7983',\n",
       "  'coreType': 'Extra-Thematic',\n",
       "  'frameID': '198',\n",
       "  'name': 'Frequency'},\n",
       " {'ID': '11078',\n",
       "  'coreType': 'Extra-Thematic',\n",
       "  'frameID': '198',\n",
       "  'name': 'Period_of_iterations'},\n",
       " {'ID': '11079',\n",
       "  'coreType': 'Extra-Thematic',\n",
       "  'frameID': '198',\n",
       "  'name': 'Result'},\n",
       " {'ID': '11863',\n",
       "  'coreType': 'Extra-Thematic',\n",
       "  'frameID': '198',\n",
       "  'name': 'Particular_iteration'},\n",
       " {'ID': '11991',\n",
       "  'coreType': 'Extra-Thematic',\n",
       "  'frameID': '198',\n",
       "  'name': 'Explanation'},\n",
       " {'ID': '12001',\n",
       "  'coreType': 'Extra-Thematic',\n",
       "  'frameID': '198',\n",
       "  'name': 'Event_description'}]"
      ]
     },
     "execution_count": 34,
     "metadata": {},
     "output_type": "execute_result"
    }
   ],
   "source": [
    "[dict(pairs(f, fe)) \n",
    " for f in it(frame_root('Intentionally_act'), 'frame') \n",
    " for fe in f \n",
    " if 'FE' in fe.tag]"
   ]
  },
  {
   "cell_type": "code",
   "execution_count": 4,
   "metadata": {
    "collapsed": true
   },
   "outputs": [],
   "source": [
    "import pandas as pd\n",
    "import numpy as np"
   ]
  },
  {
   "cell_type": "code",
   "execution_count": 1,
   "metadata": {
    "collapsed": false
   },
   "outputs": [
    {
     "data": {
      "text/html": [
       "<div>\n",
       "<table border=\"1\" class=\"dataframe\">\n",
       "  <thead>\n",
       "    <tr style=\"text-align: right;\">\n",
       "      <th></th>\n",
       "      <th>annotationSet.ID</th>\n",
       "      <th>annotationSet.status</th>\n",
       "      <th>label.feID</th>\n",
       "      <th>label.itype</th>\n",
       "      <th>label.name</th>\n",
       "      <th>label.span</th>\n",
       "      <th>layer.name</th>\n",
       "      <th>layer.rank</th>\n",
       "      <th>sentence.ID</th>\n",
       "      <th>sentence.aPos</th>\n",
       "      <th>sentence.corpID</th>\n",
       "      <th>sentence.docID</th>\n",
       "      <th>sentence.paragNo</th>\n",
       "      <th>sentence.sentNo</th>\n",
       "      <th>text.contents</th>\n",
       "    </tr>\n",
       "  </thead>\n",
       "  <tbody>\n",
       "    <tr>\n",
       "      <th>count</th>\n",
       "      <td>7618695</td>\n",
       "      <td>7618695</td>\n",
       "      <td>447475</td>\n",
       "      <td>51037</td>\n",
       "      <td>6737095</td>\n",
       "      <td>6737095</td>\n",
       "      <td>7618695</td>\n",
       "      <td>7618695</td>\n",
       "      <td>7618695</td>\n",
       "      <td>7618695</td>\n",
       "      <td>3201763</td>\n",
       "      <td>3201763</td>\n",
       "      <td>3201763</td>\n",
       "      <td>7618695</td>\n",
       "      <td>7618695</td>\n",
       "    </tr>\n",
       "    <tr>\n",
       "      <th>unique</th>\n",
       "      <td>369745</td>\n",
       "      <td>4</td>\n",
       "      <td>7790</td>\n",
       "      <td>4</td>\n",
       "      <td>1403</td>\n",
       "      <td>77917</td>\n",
       "      <td>17</td>\n",
       "      <td>3</td>\n",
       "      <td>173757</td>\n",
       "      <td>149291</td>\n",
       "      <td>14</td>\n",
       "      <td>3391</td>\n",
       "      <td>3390</td>\n",
       "      <td>452</td>\n",
       "      <td>166707</td>\n",
       "    </tr>\n",
       "    <tr>\n",
       "      <th>top</th>\n",
       "      <td>6545999</td>\n",
       "      <td>UNANN</td>\n",
       "      <td>285</td>\n",
       "      <td>INI</td>\n",
       "      <td>NT</td>\n",
       "      <td>(0, 2)</td>\n",
       "      <td>BNC</td>\n",
       "      <td>1</td>\n",
       "      <td>4102241</td>\n",
       "      <td>0</td>\n",
       "      <td>111</td>\n",
       "      <td>421</td>\n",
       "      <td>5</td>\n",
       "      <td>0</td>\n",
       "      <td>Well if I - I saw on one of the talk shows thi...</td>\n",
       "    </tr>\n",
       "    <tr>\n",
       "      <th>freq</th>\n",
       "      <td>5880</td>\n",
       "      <td>5642629</td>\n",
       "      <td>6522</td>\n",
       "      <td>19143</td>\n",
       "      <td>625730</td>\n",
       "      <td>71854</td>\n",
       "      <td>2751250</td>\n",
       "      <td>7613043</td>\n",
       "      <td>6232</td>\n",
       "      <td>2388890</td>\n",
       "      <td>1136420</td>\n",
       "      <td>1043425</td>\n",
       "      <td>150975</td>\n",
       "      <td>4399651</td>\n",
       "      <td>6232</td>\n",
       "    </tr>\n",
       "  </tbody>\n",
       "</table>\n",
       "</div>"
      ],
      "text/plain": [
       "       annotationSet.ID annotationSet.status label.feID label.itype  \\\n",
       "count           7618695              7618695     447475       51037   \n",
       "unique           369745                    4       7790           4   \n",
       "top             6545999                UNANN        285         INI   \n",
       "freq               5880              5642629       6522       19143   \n",
       "\n",
       "       label.name label.span layer.name layer.rank sentence.ID sentence.aPos  \\\n",
       "count     6737095    6737095    7618695    7618695     7618695       7618695   \n",
       "unique       1403      77917         17          3      173757        149291   \n",
       "top            NT     (0, 2)        BNC          1     4102241             0   \n",
       "freq       625730      71854    2751250    7613043        6232       2388890   \n",
       "\n",
       "       sentence.corpID sentence.docID sentence.paragNo sentence.sentNo  \\\n",
       "count          3201763        3201763          3201763         7618695   \n",
       "unique              14           3391             3390             452   \n",
       "top                111            421                5               0   \n",
       "freq           1136420        1043425           150975         4399651   \n",
       "\n",
       "                                            text.contents  \n",
       "count                                             7618695  \n",
       "unique                                             166707  \n",
       "top     Well if I - I saw on one of the talk shows thi...  \n",
       "freq                                                 6232  "
      ]
     },
     "execution_count": 1,
     "metadata": {},
     "output_type": "execute_result"
    }
   ],
   "source": [
    "lu_df = pd.read_pickle('lu.pkl')\n",
    "lu_df.describe()"
   ]
  },
  {
   "cell_type": "code",
   "execution_count": 6,
   "metadata": {
    "collapsed": false
   },
   "outputs": [
    {
     "data": {
      "text/html": [
       "<div>\n",
       "<table border=\"1\" class=\"dataframe\">\n",
       "  <thead>\n",
       "    <tr>\n",
       "      <th></th>\n",
       "      <th>exp</th>\n",
       "      <th>A</th>\n",
       "      <th colspan=\"2\" halign=\"left\">B</th>\n",
       "      <th>A</th>\n",
       "    </tr>\n",
       "    <tr>\n",
       "      <th></th>\n",
       "      <th>animal</th>\n",
       "      <th>cat</th>\n",
       "      <th>dog</th>\n",
       "      <th>cat</th>\n",
       "      <th>dog</th>\n",
       "    </tr>\n",
       "    <tr>\n",
       "      <th>first</th>\n",
       "      <th>second</th>\n",
       "      <th></th>\n",
       "      <th></th>\n",
       "      <th></th>\n",
       "      <th></th>\n",
       "    </tr>\n",
       "  </thead>\n",
       "  <tbody>\n",
       "    <tr>\n",
       "      <th rowspan=\"2\" valign=\"top\">bar</th>\n",
       "      <th>one</th>\n",
       "      <td>-0.435827</td>\n",
       "      <td>-0.061351</td>\n",
       "      <td>-0.670579</td>\n",
       "      <td>0.147002</td>\n",
       "    </tr>\n",
       "    <tr>\n",
       "      <th>two</th>\n",
       "      <td>-0.806055</td>\n",
       "      <td>-1.694736</td>\n",
       "      <td>-0.160833</td>\n",
       "      <td>-0.983085</td>\n",
       "    </tr>\n",
       "    <tr>\n",
       "      <th rowspan=\"2\" valign=\"top\">baz</th>\n",
       "      <th>one</th>\n",
       "      <td>0.697155</td>\n",
       "      <td>0.157056</td>\n",
       "      <td>0.096714</td>\n",
       "      <td>-1.335713</td>\n",
       "    </tr>\n",
       "    <tr>\n",
       "      <th>two</th>\n",
       "      <td>0.278984</td>\n",
       "      <td>0.394231</td>\n",
       "      <td>0.679809</td>\n",
       "      <td>0.296236</td>\n",
       "    </tr>\n",
       "    <tr>\n",
       "      <th rowspan=\"2\" valign=\"top\">foo</th>\n",
       "      <th>one</th>\n",
       "      <td>-1.830128</td>\n",
       "      <td>-1.755675</td>\n",
       "      <td>-0.330606</td>\n",
       "      <td>0.270147</td>\n",
       "    </tr>\n",
       "    <tr>\n",
       "      <th>two</th>\n",
       "      <td>1.053411</td>\n",
       "      <td>1.456888</td>\n",
       "      <td>0.359551</td>\n",
       "      <td>0.236067</td>\n",
       "    </tr>\n",
       "    <tr>\n",
       "      <th rowspan=\"2\" valign=\"top\">qux</th>\n",
       "      <th>one</th>\n",
       "      <td>-0.930444</td>\n",
       "      <td>0.461257</td>\n",
       "      <td>0.096407</td>\n",
       "      <td>-0.359314</td>\n",
       "    </tr>\n",
       "    <tr>\n",
       "      <th>two</th>\n",
       "      <td>2.615287</td>\n",
       "      <td>-0.064862</td>\n",
       "      <td>1.272340</td>\n",
       "      <td>1.040811</td>\n",
       "    </tr>\n",
       "  </tbody>\n",
       "</table>\n",
       "</div>"
      ],
      "text/plain": [
       "exp                  A         B                   A\n",
       "animal             cat       dog       cat       dog\n",
       "first second                                        \n",
       "bar   one    -0.435827 -0.061351 -0.670579  0.147002\n",
       "      two    -0.806055 -1.694736 -0.160833 -0.983085\n",
       "baz   one     0.697155  0.157056  0.096714 -1.335713\n",
       "      two     0.278984  0.394231  0.679809  0.296236\n",
       "foo   one    -1.830128 -1.755675 -0.330606  0.270147\n",
       "      two     1.053411  1.456888  0.359551  0.236067\n",
       "qux   one    -0.930444  0.461257  0.096407 -0.359314\n",
       "      two     2.615287 -0.064862  1.272340  1.040811"
      ]
     },
     "execution_count": 6,
     "metadata": {},
     "output_type": "execute_result"
    }
   ],
   "source": [
    "columns = pd.MultiIndex.from_tuples([('A', 'cat'), ('B', 'dog'),\n",
    "                                     ('B', 'cat'), ('A', 'dog')],\n",
    "                                    names=['exp', 'animal'])\n",
    "\n",
    "index = pd.MultiIndex.from_product([('bar', 'baz', 'foo', 'qux'),\n",
    "                                    ('one', 'two')],\n",
    "                                   names=['first', 'second'])\n",
    "\n",
    "df = pd.DataFrame(np.random.randn(8, 4), index=index, columns=columns)\n",
    "df"
   ]
  },
  {
   "cell_type": "code",
   "execution_count": 10,
   "metadata": {
    "collapsed": false
   },
   "outputs": [
    {
     "data": {
      "text/html": [
       "<div>\n",
       "<table border=\"1\" class=\"dataframe\">\n",
       "  <thead>\n",
       "    <tr style=\"text-align: right;\">\n",
       "      <th></th>\n",
       "      <th></th>\n",
       "      <th>exp</th>\n",
       "      <th>A</th>\n",
       "      <th>B</th>\n",
       "    </tr>\n",
       "    <tr>\n",
       "      <th>first</th>\n",
       "      <th>second</th>\n",
       "      <th>animal</th>\n",
       "      <th></th>\n",
       "      <th></th>\n",
       "    </tr>\n",
       "  </thead>\n",
       "  <tbody>\n",
       "    <tr>\n",
       "      <th rowspan=\"4\" valign=\"top\">bar</th>\n",
       "      <th rowspan=\"2\" valign=\"top\">one</th>\n",
       "      <th>cat</th>\n",
       "      <td>-0.435827</td>\n",
       "      <td>-0.670579</td>\n",
       "    </tr>\n",
       "    <tr>\n",
       "      <th>dog</th>\n",
       "      <td>0.147002</td>\n",
       "      <td>-0.061351</td>\n",
       "    </tr>\n",
       "    <tr>\n",
       "      <th rowspan=\"2\" valign=\"top\">two</th>\n",
       "      <th>cat</th>\n",
       "      <td>-0.806055</td>\n",
       "      <td>-0.160833</td>\n",
       "    </tr>\n",
       "    <tr>\n",
       "      <th>dog</th>\n",
       "      <td>-0.983085</td>\n",
       "      <td>-1.694736</td>\n",
       "    </tr>\n",
       "    <tr>\n",
       "      <th rowspan=\"4\" valign=\"top\">baz</th>\n",
       "      <th rowspan=\"2\" valign=\"top\">one</th>\n",
       "      <th>cat</th>\n",
       "      <td>0.697155</td>\n",
       "      <td>0.096714</td>\n",
       "    </tr>\n",
       "    <tr>\n",
       "      <th>dog</th>\n",
       "      <td>-1.335713</td>\n",
       "      <td>0.157056</td>\n",
       "    </tr>\n",
       "    <tr>\n",
       "      <th rowspan=\"2\" valign=\"top\">two</th>\n",
       "      <th>cat</th>\n",
       "      <td>0.278984</td>\n",
       "      <td>0.679809</td>\n",
       "    </tr>\n",
       "    <tr>\n",
       "      <th>dog</th>\n",
       "      <td>0.296236</td>\n",
       "      <td>0.394231</td>\n",
       "    </tr>\n",
       "    <tr>\n",
       "      <th rowspan=\"4\" valign=\"top\">foo</th>\n",
       "      <th rowspan=\"2\" valign=\"top\">one</th>\n",
       "      <th>cat</th>\n",
       "      <td>-1.830128</td>\n",
       "      <td>-0.330606</td>\n",
       "    </tr>\n",
       "    <tr>\n",
       "      <th>dog</th>\n",
       "      <td>0.270147</td>\n",
       "      <td>-1.755675</td>\n",
       "    </tr>\n",
       "    <tr>\n",
       "      <th rowspan=\"2\" valign=\"top\">two</th>\n",
       "      <th>cat</th>\n",
       "      <td>1.053411</td>\n",
       "      <td>0.359551</td>\n",
       "    </tr>\n",
       "    <tr>\n",
       "      <th>dog</th>\n",
       "      <td>0.236067</td>\n",
       "      <td>1.456888</td>\n",
       "    </tr>\n",
       "    <tr>\n",
       "      <th rowspan=\"4\" valign=\"top\">qux</th>\n",
       "      <th rowspan=\"2\" valign=\"top\">one</th>\n",
       "      <th>cat</th>\n",
       "      <td>-0.930444</td>\n",
       "      <td>0.096407</td>\n",
       "    </tr>\n",
       "    <tr>\n",
       "      <th>dog</th>\n",
       "      <td>-0.359314</td>\n",
       "      <td>0.461257</td>\n",
       "    </tr>\n",
       "    <tr>\n",
       "      <th rowspan=\"2\" valign=\"top\">two</th>\n",
       "      <th>cat</th>\n",
       "      <td>2.615287</td>\n",
       "      <td>1.272340</td>\n",
       "    </tr>\n",
       "    <tr>\n",
       "      <th>dog</th>\n",
       "      <td>1.040811</td>\n",
       "      <td>-0.064862</td>\n",
       "    </tr>\n",
       "  </tbody>\n",
       "</table>\n",
       "</div>"
      ],
      "text/plain": [
       "exp                         A         B\n",
       "first second animal                    \n",
       "bar   one    cat    -0.435827 -0.670579\n",
       "             dog     0.147002 -0.061351\n",
       "      two    cat    -0.806055 -0.160833\n",
       "             dog    -0.983085 -1.694736\n",
       "baz   one    cat     0.697155  0.096714\n",
       "             dog    -1.335713  0.157056\n",
       "      two    cat     0.278984  0.679809\n",
       "             dog     0.296236  0.394231\n",
       "foo   one    cat    -1.830128 -0.330606\n",
       "             dog     0.270147 -1.755675\n",
       "      two    cat     1.053411  0.359551\n",
       "             dog     0.236067  1.456888\n",
       "qux   one    cat    -0.930444  0.096407\n",
       "             dog    -0.359314  0.461257\n",
       "      two    cat     2.615287  1.272340\n",
       "             dog     1.040811 -0.064862"
      ]
     },
     "execution_count": 10,
     "metadata": {},
     "output_type": "execute_result"
    }
   ],
   "source": [
    "df.stack()"
   ]
  },
  {
   "cell_type": "code",
   "execution_count": 11,
   "metadata": {
    "collapsed": false
   },
   "outputs": [
    {
     "data": {
      "text/plain": [
       "first  second  animal\n",
       "bar    one     cat      -0.553203\n",
       "               dog       0.042826\n",
       "       two     cat      -0.483444\n",
       "               dog      -1.338910\n",
       "baz    one     cat       0.396935\n",
       "               dog      -0.589328\n",
       "       two     cat       0.479397\n",
       "               dog       0.345233\n",
       "foo    one     cat      -1.080367\n",
       "               dog      -0.742764\n",
       "       two     cat       0.706481\n",
       "               dog       0.846478\n",
       "qux    one     cat      -0.417018\n",
       "               dog       0.050972\n",
       "       two     cat       1.943814\n",
       "               dog       0.487974\n",
       "dtype: float64"
      ]
     },
     "execution_count": 11,
     "metadata": {},
     "output_type": "execute_result"
    }
   ],
   "source": [
    "df.stack().mean(1)"
   ]
  },
  {
   "cell_type": "code",
   "execution_count": 12,
   "metadata": {
    "collapsed": false
   },
   "outputs": [
    {
     "data": {
      "text/html": [
       "<div>\n",
       "<table border=\"1\" class=\"dataframe\">\n",
       "  <thead>\n",
       "    <tr style=\"text-align: right;\">\n",
       "      <th></th>\n",
       "      <th>animal</th>\n",
       "      <th>cat</th>\n",
       "      <th>dog</th>\n",
       "    </tr>\n",
       "    <tr>\n",
       "      <th>first</th>\n",
       "      <th>second</th>\n",
       "      <th></th>\n",
       "      <th></th>\n",
       "    </tr>\n",
       "  </thead>\n",
       "  <tbody>\n",
       "    <tr>\n",
       "      <th rowspan=\"2\" valign=\"top\">bar</th>\n",
       "      <th>one</th>\n",
       "      <td>-0.553203</td>\n",
       "      <td>0.042826</td>\n",
       "    </tr>\n",
       "    <tr>\n",
       "      <th>two</th>\n",
       "      <td>-0.483444</td>\n",
       "      <td>-1.338910</td>\n",
       "    </tr>\n",
       "    <tr>\n",
       "      <th rowspan=\"2\" valign=\"top\">baz</th>\n",
       "      <th>one</th>\n",
       "      <td>0.396935</td>\n",
       "      <td>-0.589328</td>\n",
       "    </tr>\n",
       "    <tr>\n",
       "      <th>two</th>\n",
       "      <td>0.479397</td>\n",
       "      <td>0.345233</td>\n",
       "    </tr>\n",
       "    <tr>\n",
       "      <th rowspan=\"2\" valign=\"top\">foo</th>\n",
       "      <th>one</th>\n",
       "      <td>-1.080367</td>\n",
       "      <td>-0.742764</td>\n",
       "    </tr>\n",
       "    <tr>\n",
       "      <th>two</th>\n",
       "      <td>0.706481</td>\n",
       "      <td>0.846478</td>\n",
       "    </tr>\n",
       "    <tr>\n",
       "      <th rowspan=\"2\" valign=\"top\">qux</th>\n",
       "      <th>one</th>\n",
       "      <td>-0.417018</td>\n",
       "      <td>0.050972</td>\n",
       "    </tr>\n",
       "    <tr>\n",
       "      <th>two</th>\n",
       "      <td>1.943814</td>\n",
       "      <td>0.487974</td>\n",
       "    </tr>\n",
       "  </tbody>\n",
       "</table>\n",
       "</div>"
      ],
      "text/plain": [
       "animal             cat       dog\n",
       "first second                    \n",
       "bar   one    -0.553203  0.042826\n",
       "      two    -0.483444 -1.338910\n",
       "baz   one     0.396935 -0.589328\n",
       "      two     0.479397  0.345233\n",
       "foo   one    -1.080367 -0.742764\n",
       "      two     0.706481  0.846478\n",
       "qux   one    -0.417018  0.050972\n",
       "      two     1.943814  0.487974"
      ]
     },
     "execution_count": 12,
     "metadata": {},
     "output_type": "execute_result"
    }
   ],
   "source": [
    "df.stack().mean(1).unstack()"
   ]
  },
  {
   "cell_type": "code",
   "execution_count": 14,
   "metadata": {
    "collapsed": false
   },
   "outputs": [
    {
     "data": {
      "text/html": [
       "<div>\n",
       "<table border=\"1\" class=\"dataframe\">\n",
       "  <thead>\n",
       "    <tr style=\"text-align: right;\">\n",
       "      <th>animal</th>\n",
       "      <th>cat</th>\n",
       "      <th>dog</th>\n",
       "    </tr>\n",
       "    <tr>\n",
       "      <th>exp</th>\n",
       "      <th></th>\n",
       "      <th></th>\n",
       "    </tr>\n",
       "  </thead>\n",
       "  <tbody>\n",
       "    <tr>\n",
       "      <th>A</th>\n",
       "      <td>0.080298</td>\n",
       "      <td>-0.085981</td>\n",
       "    </tr>\n",
       "    <tr>\n",
       "      <th>B</th>\n",
       "      <td>0.167850</td>\n",
       "      <td>-0.138399</td>\n",
       "    </tr>\n",
       "  </tbody>\n",
       "</table>\n",
       "</div>"
      ],
      "text/plain": [
       "animal       cat       dog\n",
       "exp                       \n",
       "A       0.080298 -0.085981\n",
       "B       0.167850 -0.138399"
      ]
     },
     "execution_count": 14,
     "metadata": {},
     "output_type": "execute_result"
    }
   ],
   "source": [
    "df.mean().unstack()"
   ]
  },
  {
   "cell_type": "code",
   "execution_count": 15,
   "metadata": {
    "collapsed": false
   },
   "outputs": [
    {
     "data": {
      "text/html": [
       "<div>\n",
       "<table border=\"1\" class=\"dataframe\">\n",
       "  <thead>\n",
       "    <tr>\n",
       "      <th></th>\n",
       "      <th>exp</th>\n",
       "      <th>A</th>\n",
       "      <th colspan=\"2\" halign=\"left\">B</th>\n",
       "      <th>A</th>\n",
       "    </tr>\n",
       "    <tr>\n",
       "      <th></th>\n",
       "      <th>animal</th>\n",
       "      <th>cat</th>\n",
       "      <th>dog</th>\n",
       "      <th>cat</th>\n",
       "      <th>dog</th>\n",
       "    </tr>\n",
       "    <tr>\n",
       "      <th>first</th>\n",
       "      <th>second</th>\n",
       "      <th></th>\n",
       "      <th></th>\n",
       "      <th></th>\n",
       "      <th></th>\n",
       "    </tr>\n",
       "  </thead>\n",
       "  <tbody>\n",
       "    <tr>\n",
       "      <th rowspan=\"2\" valign=\"top\">bar</th>\n",
       "      <th>one</th>\n",
       "      <td>-0.435827</td>\n",
       "      <td>-0.061351</td>\n",
       "      <td>-0.670579</td>\n",
       "      <td>0.147002</td>\n",
       "    </tr>\n",
       "    <tr>\n",
       "      <th>two</th>\n",
       "      <td>-0.806055</td>\n",
       "      <td>-1.694736</td>\n",
       "      <td>-0.160833</td>\n",
       "      <td>-0.983085</td>\n",
       "    </tr>\n",
       "    <tr>\n",
       "      <th rowspan=\"2\" valign=\"top\">baz</th>\n",
       "      <th>one</th>\n",
       "      <td>0.697155</td>\n",
       "      <td>0.157056</td>\n",
       "      <td>0.096714</td>\n",
       "      <td>-1.335713</td>\n",
       "    </tr>\n",
       "    <tr>\n",
       "      <th>two</th>\n",
       "      <td>0.278984</td>\n",
       "      <td>0.394231</td>\n",
       "      <td>0.679809</td>\n",
       "      <td>0.296236</td>\n",
       "    </tr>\n",
       "    <tr>\n",
       "      <th rowspan=\"2\" valign=\"top\">foo</th>\n",
       "      <th>one</th>\n",
       "      <td>-1.830128</td>\n",
       "      <td>-1.755675</td>\n",
       "      <td>-0.330606</td>\n",
       "      <td>0.270147</td>\n",
       "    </tr>\n",
       "    <tr>\n",
       "      <th>two</th>\n",
       "      <td>1.053411</td>\n",
       "      <td>1.456888</td>\n",
       "      <td>0.359551</td>\n",
       "      <td>0.236067</td>\n",
       "    </tr>\n",
       "    <tr>\n",
       "      <th rowspan=\"2\" valign=\"top\">qux</th>\n",
       "      <th>one</th>\n",
       "      <td>-0.930444</td>\n",
       "      <td>0.461257</td>\n",
       "      <td>0.096407</td>\n",
       "      <td>-0.359314</td>\n",
       "    </tr>\n",
       "    <tr>\n",
       "      <th>two</th>\n",
       "      <td>2.615287</td>\n",
       "      <td>-0.064862</td>\n",
       "      <td>1.272340</td>\n",
       "      <td>1.040811</td>\n",
       "    </tr>\n",
       "  </tbody>\n",
       "</table>\n",
       "</div>"
      ],
      "text/plain": [
       "exp                  A         B                   A\n",
       "animal             cat       dog       cat       dog\n",
       "first second                                        \n",
       "bar   one    -0.435827 -0.061351 -0.670579  0.147002\n",
       "      two    -0.806055 -1.694736 -0.160833 -0.983085\n",
       "baz   one     0.697155  0.157056  0.096714 -1.335713\n",
       "      two     0.278984  0.394231  0.679809  0.296236\n",
       "foo   one    -1.830128 -1.755675 -0.330606  0.270147\n",
       "      two     1.053411  1.456888  0.359551  0.236067\n",
       "qux   one    -0.930444  0.461257  0.096407 -0.359314\n",
       "      two     2.615287 -0.064862  1.272340  1.040811"
      ]
     },
     "execution_count": 15,
     "metadata": {},
     "output_type": "execute_result"
    }
   ],
   "source": [
    "df"
   ]
  },
  {
   "cell_type": "code",
   "execution_count": 18,
   "metadata": {
    "collapsed": false
   },
   "outputs": [
    {
     "ename": "KeyError",
     "evalue": "'animal'",
     "output_type": "error",
     "traceback": [
      "\u001b[0;31m---------------------------------------------------------------------------\u001b[0m",
      "\u001b[0;31mKeyError\u001b[0m                                  Traceback (most recent call last)",
      "\u001b[0;32m/usr/local/lib/python3.5/site-packages/pandas/indexes/base.py\u001b[0m in \u001b[0;36mget_loc\u001b[0;34m(self, key, method, tolerance)\u001b[0m\n\u001b[1;32m   2103\u001b[0m             \u001b[0;32mtry\u001b[0m\u001b[0;34m:\u001b[0m\u001b[0;34m\u001b[0m\u001b[0m\n\u001b[0;32m-> 2104\u001b[0;31m                 \u001b[0;32mreturn\u001b[0m \u001b[0mself\u001b[0m\u001b[0;34m.\u001b[0m\u001b[0m_engine\u001b[0m\u001b[0;34m.\u001b[0m\u001b[0mget_loc\u001b[0m\u001b[0;34m(\u001b[0m\u001b[0mkey\u001b[0m\u001b[0;34m)\u001b[0m\u001b[0;34m\u001b[0m\u001b[0m\n\u001b[0m\u001b[1;32m   2105\u001b[0m             \u001b[0;32mexcept\u001b[0m \u001b[0mKeyError\u001b[0m\u001b[0;34m:\u001b[0m\u001b[0;34m\u001b[0m\u001b[0m\n",
      "\u001b[0;32mpandas/index.pyx\u001b[0m in \u001b[0;36mpandas.index.IndexEngine.get_loc (pandas/index.c:4160)\u001b[0;34m()\u001b[0m\n",
      "\u001b[0;32mpandas/index.pyx\u001b[0m in \u001b[0;36mpandas.index.IndexEngine.get_loc (pandas/index.c:4024)\u001b[0;34m()\u001b[0m\n",
      "\u001b[0;32mpandas/src/hashtable_class_helper.pxi\u001b[0m in \u001b[0;36mpandas.hashtable.PyObjectHashTable.get_item (pandas/hashtable.c:13161)\u001b[0;34m()\u001b[0m\n",
      "\u001b[0;32mpandas/src/hashtable_class_helper.pxi\u001b[0m in \u001b[0;36mpandas.hashtable.PyObjectHashTable.get_item (pandas/hashtable.c:13115)\u001b[0;34m()\u001b[0m\n",
      "\u001b[0;31mKeyError\u001b[0m: 'animal'",
      "\nDuring handling of the above exception, another exception occurred:\n",
      "\u001b[0;31mKeyError\u001b[0m                                  Traceback (most recent call last)",
      "\u001b[0;32m<ipython-input-18-c582a5355e37>\u001b[0m in \u001b[0;36m<module>\u001b[0;34m()\u001b[0m\n\u001b[0;32m----> 1\u001b[0;31m \u001b[0mdf\u001b[0m\u001b[0;34m.\u001b[0m\u001b[0mgroupby\u001b[0m\u001b[0;34m(\u001b[0m\u001b[0;34m'animal'\u001b[0m\u001b[0;34m)\u001b[0m\u001b[0;34m\u001b[0m\u001b[0m\n\u001b[0m",
      "\u001b[0;32m/usr/local/lib/python3.5/site-packages/pandas/core/generic.py\u001b[0m in \u001b[0;36mgroupby\u001b[0;34m(self, by, axis, level, as_index, sort, group_keys, squeeze, **kwargs)\u001b[0m\n\u001b[1;32m   3972\u001b[0m         return groupby(self, by=by, axis=axis, level=level, as_index=as_index,\n\u001b[1;32m   3973\u001b[0m                        \u001b[0msort\u001b[0m\u001b[0;34m=\u001b[0m\u001b[0msort\u001b[0m\u001b[0;34m,\u001b[0m \u001b[0mgroup_keys\u001b[0m\u001b[0;34m=\u001b[0m\u001b[0mgroup_keys\u001b[0m\u001b[0;34m,\u001b[0m \u001b[0msqueeze\u001b[0m\u001b[0;34m=\u001b[0m\u001b[0msqueeze\u001b[0m\u001b[0;34m,\u001b[0m\u001b[0;34m\u001b[0m\u001b[0m\n\u001b[0;32m-> 3974\u001b[0;31m                        **kwargs)\n\u001b[0m\u001b[1;32m   3975\u001b[0m \u001b[0;34m\u001b[0m\u001b[0m\n\u001b[1;32m   3976\u001b[0m     \u001b[0;32mdef\u001b[0m \u001b[0masfreq\u001b[0m\u001b[0;34m(\u001b[0m\u001b[0mself\u001b[0m\u001b[0;34m,\u001b[0m \u001b[0mfreq\u001b[0m\u001b[0;34m,\u001b[0m \u001b[0mmethod\u001b[0m\u001b[0;34m=\u001b[0m\u001b[0;32mNone\u001b[0m\u001b[0;34m,\u001b[0m \u001b[0mhow\u001b[0m\u001b[0;34m=\u001b[0m\u001b[0;32mNone\u001b[0m\u001b[0;34m,\u001b[0m \u001b[0mnormalize\u001b[0m\u001b[0;34m=\u001b[0m\u001b[0;32mFalse\u001b[0m\u001b[0;34m)\u001b[0m\u001b[0;34m:\u001b[0m\u001b[0;34m\u001b[0m\u001b[0m\n",
      "\u001b[0;32m/usr/local/lib/python3.5/site-packages/pandas/core/groupby.py\u001b[0m in \u001b[0;36mgroupby\u001b[0;34m(obj, by, **kwds)\u001b[0m\n\u001b[1;32m   1499\u001b[0m         \u001b[0;32mraise\u001b[0m \u001b[0mTypeError\u001b[0m\u001b[0;34m(\u001b[0m\u001b[0;34m'invalid type: %s'\u001b[0m \u001b[0;34m%\u001b[0m \u001b[0mtype\u001b[0m\u001b[0;34m(\u001b[0m\u001b[0mobj\u001b[0m\u001b[0;34m)\u001b[0m\u001b[0;34m)\u001b[0m\u001b[0;34m\u001b[0m\u001b[0m\n\u001b[1;32m   1500\u001b[0m \u001b[0;34m\u001b[0m\u001b[0m\n\u001b[0;32m-> 1501\u001b[0;31m     \u001b[0;32mreturn\u001b[0m \u001b[0mklass\u001b[0m\u001b[0;34m(\u001b[0m\u001b[0mobj\u001b[0m\u001b[0;34m,\u001b[0m \u001b[0mby\u001b[0m\u001b[0;34m,\u001b[0m \u001b[0;34m**\u001b[0m\u001b[0mkwds\u001b[0m\u001b[0;34m)\u001b[0m\u001b[0;34m\u001b[0m\u001b[0m\n\u001b[0m\u001b[1;32m   1502\u001b[0m \u001b[0;34m\u001b[0m\u001b[0m\n\u001b[1;32m   1503\u001b[0m \u001b[0;34m\u001b[0m\u001b[0m\n",
      "\u001b[0;32m/usr/local/lib/python3.5/site-packages/pandas/core/groupby.py\u001b[0m in \u001b[0;36m__init__\u001b[0;34m(self, obj, keys, axis, level, grouper, exclusions, selection, as_index, sort, group_keys, squeeze, **kwargs)\u001b[0m\n\u001b[1;32m    368\u001b[0m                                                     \u001b[0mlevel\u001b[0m\u001b[0;34m=\u001b[0m\u001b[0mlevel\u001b[0m\u001b[0;34m,\u001b[0m\u001b[0;34m\u001b[0m\u001b[0m\n\u001b[1;32m    369\u001b[0m                                                     \u001b[0msort\u001b[0m\u001b[0;34m=\u001b[0m\u001b[0msort\u001b[0m\u001b[0;34m,\u001b[0m\u001b[0;34m\u001b[0m\u001b[0m\n\u001b[0;32m--> 370\u001b[0;31m                                                     mutated=self.mutated)\n\u001b[0m\u001b[1;32m    371\u001b[0m \u001b[0;34m\u001b[0m\u001b[0m\n\u001b[1;32m    372\u001b[0m         \u001b[0mself\u001b[0m\u001b[0;34m.\u001b[0m\u001b[0mobj\u001b[0m \u001b[0;34m=\u001b[0m \u001b[0mobj\u001b[0m\u001b[0;34m\u001b[0m\u001b[0m\n",
      "\u001b[0;32m/usr/local/lib/python3.5/site-packages/pandas/core/groupby.py\u001b[0m in \u001b[0;36m_get_grouper\u001b[0;34m(obj, key, axis, level, sort, mutated)\u001b[0m\n\u001b[1;32m   2471\u001b[0m \u001b[0;34m\u001b[0m\u001b[0m\n\u001b[1;32m   2472\u001b[0m         \u001b[0;32melif\u001b[0m \u001b[0mis_in_axis\u001b[0m\u001b[0;34m(\u001b[0m\u001b[0mgpr\u001b[0m\u001b[0;34m)\u001b[0m\u001b[0;34m:\u001b[0m  \u001b[0;31m# df.groupby('name')\u001b[0m\u001b[0;34m\u001b[0m\u001b[0m\n\u001b[0;32m-> 2473\u001b[0;31m             \u001b[0min_axis\u001b[0m\u001b[0;34m,\u001b[0m \u001b[0mname\u001b[0m\u001b[0;34m,\u001b[0m \u001b[0mgpr\u001b[0m \u001b[0;34m=\u001b[0m \u001b[0;32mTrue\u001b[0m\u001b[0;34m,\u001b[0m \u001b[0mgpr\u001b[0m\u001b[0;34m,\u001b[0m \u001b[0mobj\u001b[0m\u001b[0;34m[\u001b[0m\u001b[0mgpr\u001b[0m\u001b[0;34m]\u001b[0m\u001b[0;34m\u001b[0m\u001b[0m\n\u001b[0m\u001b[1;32m   2474\u001b[0m             \u001b[0mexclusions\u001b[0m\u001b[0;34m.\u001b[0m\u001b[0mappend\u001b[0m\u001b[0;34m(\u001b[0m\u001b[0mname\u001b[0m\u001b[0;34m)\u001b[0m\u001b[0;34m\u001b[0m\u001b[0m\n\u001b[1;32m   2475\u001b[0m \u001b[0;34m\u001b[0m\u001b[0m\n",
      "\u001b[0;32m/usr/local/lib/python3.5/site-packages/pandas/core/frame.py\u001b[0m in \u001b[0;36m__getitem__\u001b[0;34m(self, key)\u001b[0m\n\u001b[1;32m   2053\u001b[0m             \u001b[0;32mreturn\u001b[0m \u001b[0mself\u001b[0m\u001b[0;34m.\u001b[0m\u001b[0m_getitem_frame\u001b[0m\u001b[0;34m(\u001b[0m\u001b[0mkey\u001b[0m\u001b[0;34m)\u001b[0m\u001b[0;34m\u001b[0m\u001b[0m\n\u001b[1;32m   2054\u001b[0m         \u001b[0;32melif\u001b[0m \u001b[0mis_mi_columns\u001b[0m\u001b[0;34m:\u001b[0m\u001b[0;34m\u001b[0m\u001b[0m\n\u001b[0;32m-> 2055\u001b[0;31m             \u001b[0;32mreturn\u001b[0m \u001b[0mself\u001b[0m\u001b[0;34m.\u001b[0m\u001b[0m_getitem_multilevel\u001b[0m\u001b[0;34m(\u001b[0m\u001b[0mkey\u001b[0m\u001b[0;34m)\u001b[0m\u001b[0;34m\u001b[0m\u001b[0m\n\u001b[0m\u001b[1;32m   2056\u001b[0m         \u001b[0;32melse\u001b[0m\u001b[0;34m:\u001b[0m\u001b[0;34m\u001b[0m\u001b[0m\n\u001b[1;32m   2057\u001b[0m             \u001b[0;32mreturn\u001b[0m \u001b[0mself\u001b[0m\u001b[0;34m.\u001b[0m\u001b[0m_getitem_column\u001b[0m\u001b[0;34m(\u001b[0m\u001b[0mkey\u001b[0m\u001b[0;34m)\u001b[0m\u001b[0;34m\u001b[0m\u001b[0m\n",
      "\u001b[0;32m/usr/local/lib/python3.5/site-packages/pandas/core/frame.py\u001b[0m in \u001b[0;36m_getitem_multilevel\u001b[0;34m(self, key)\u001b[0m\n\u001b[1;32m   2097\u001b[0m \u001b[0;34m\u001b[0m\u001b[0m\n\u001b[1;32m   2098\u001b[0m     \u001b[0;32mdef\u001b[0m \u001b[0m_getitem_multilevel\u001b[0m\u001b[0;34m(\u001b[0m\u001b[0mself\u001b[0m\u001b[0;34m,\u001b[0m \u001b[0mkey\u001b[0m\u001b[0;34m)\u001b[0m\u001b[0;34m:\u001b[0m\u001b[0;34m\u001b[0m\u001b[0m\n\u001b[0;32m-> 2099\u001b[0;31m         \u001b[0mloc\u001b[0m \u001b[0;34m=\u001b[0m \u001b[0mself\u001b[0m\u001b[0;34m.\u001b[0m\u001b[0mcolumns\u001b[0m\u001b[0;34m.\u001b[0m\u001b[0mget_loc\u001b[0m\u001b[0;34m(\u001b[0m\u001b[0mkey\u001b[0m\u001b[0;34m)\u001b[0m\u001b[0;34m\u001b[0m\u001b[0m\n\u001b[0m\u001b[1;32m   2100\u001b[0m         \u001b[0;32mif\u001b[0m \u001b[0misinstance\u001b[0m\u001b[0;34m(\u001b[0m\u001b[0mloc\u001b[0m\u001b[0;34m,\u001b[0m \u001b[0;34m(\u001b[0m\u001b[0mslice\u001b[0m\u001b[0;34m,\u001b[0m \u001b[0mSeries\u001b[0m\u001b[0;34m,\u001b[0m \u001b[0mnp\u001b[0m\u001b[0;34m.\u001b[0m\u001b[0mndarray\u001b[0m\u001b[0;34m,\u001b[0m \u001b[0mIndex\u001b[0m\u001b[0;34m)\u001b[0m\u001b[0;34m)\u001b[0m\u001b[0;34m:\u001b[0m\u001b[0;34m\u001b[0m\u001b[0m\n\u001b[1;32m   2101\u001b[0m             \u001b[0mnew_columns\u001b[0m \u001b[0;34m=\u001b[0m \u001b[0mself\u001b[0m\u001b[0;34m.\u001b[0m\u001b[0mcolumns\u001b[0m\u001b[0;34m[\u001b[0m\u001b[0mloc\u001b[0m\u001b[0;34m]\u001b[0m\u001b[0;34m\u001b[0m\u001b[0m\n",
      "\u001b[0;32m/usr/local/lib/python3.5/site-packages/pandas/indexes/multi.py\u001b[0m in \u001b[0;36mget_loc\u001b[0;34m(self, key, method)\u001b[0m\n\u001b[1;32m   1595\u001b[0m \u001b[0;34m\u001b[0m\u001b[0m\n\u001b[1;32m   1596\u001b[0m         \u001b[0;32mif\u001b[0m \u001b[0;32mnot\u001b[0m \u001b[0misinstance\u001b[0m\u001b[0;34m(\u001b[0m\u001b[0mkey\u001b[0m\u001b[0;34m,\u001b[0m \u001b[0mtuple\u001b[0m\u001b[0;34m)\u001b[0m\u001b[0;34m:\u001b[0m\u001b[0;34m\u001b[0m\u001b[0m\n\u001b[0;32m-> 1597\u001b[0;31m             \u001b[0mloc\u001b[0m \u001b[0;34m=\u001b[0m \u001b[0mself\u001b[0m\u001b[0;34m.\u001b[0m\u001b[0m_get_level_indexer\u001b[0m\u001b[0;34m(\u001b[0m\u001b[0mkey\u001b[0m\u001b[0;34m,\u001b[0m \u001b[0mlevel\u001b[0m\u001b[0;34m=\u001b[0m\u001b[0;36m0\u001b[0m\u001b[0;34m)\u001b[0m\u001b[0;34m\u001b[0m\u001b[0m\n\u001b[0m\u001b[1;32m   1598\u001b[0m             \u001b[0;32mreturn\u001b[0m \u001b[0m_maybe_to_slice\u001b[0m\u001b[0;34m(\u001b[0m\u001b[0mloc\u001b[0m\u001b[0;34m)\u001b[0m\u001b[0;34m\u001b[0m\u001b[0m\n\u001b[1;32m   1599\u001b[0m \u001b[0;34m\u001b[0m\u001b[0m\n",
      "\u001b[0;32m/usr/local/lib/python3.5/site-packages/pandas/indexes/multi.py\u001b[0m in \u001b[0;36m_get_level_indexer\u001b[0;34m(self, key, level, indexer)\u001b[0m\n\u001b[1;32m   1857\u001b[0m         \u001b[0;32melse\u001b[0m\u001b[0;34m:\u001b[0m\u001b[0;34m\u001b[0m\u001b[0m\n\u001b[1;32m   1858\u001b[0m \u001b[0;34m\u001b[0m\u001b[0m\n\u001b[0;32m-> 1859\u001b[0;31m             \u001b[0mloc\u001b[0m \u001b[0;34m=\u001b[0m \u001b[0mlevel_index\u001b[0m\u001b[0;34m.\u001b[0m\u001b[0mget_loc\u001b[0m\u001b[0;34m(\u001b[0m\u001b[0mkey\u001b[0m\u001b[0;34m)\u001b[0m\u001b[0;34m\u001b[0m\u001b[0m\n\u001b[0m\u001b[1;32m   1860\u001b[0m             \u001b[0;32mif\u001b[0m \u001b[0mlevel\u001b[0m \u001b[0;34m>\u001b[0m \u001b[0;36m0\u001b[0m \u001b[0;32mor\u001b[0m \u001b[0mself\u001b[0m\u001b[0;34m.\u001b[0m\u001b[0mlexsort_depth\u001b[0m \u001b[0;34m==\u001b[0m \u001b[0;36m0\u001b[0m\u001b[0;34m:\u001b[0m\u001b[0;34m\u001b[0m\u001b[0m\n\u001b[1;32m   1861\u001b[0m                 \u001b[0;32mreturn\u001b[0m \u001b[0mnp\u001b[0m\u001b[0;34m.\u001b[0m\u001b[0marray\u001b[0m\u001b[0;34m(\u001b[0m\u001b[0mlabels\u001b[0m \u001b[0;34m==\u001b[0m \u001b[0mloc\u001b[0m\u001b[0;34m,\u001b[0m \u001b[0mdtype\u001b[0m\u001b[0;34m=\u001b[0m\u001b[0mbool\u001b[0m\u001b[0;34m)\u001b[0m\u001b[0;34m\u001b[0m\u001b[0m\n",
      "\u001b[0;32m/usr/local/lib/python3.5/site-packages/pandas/indexes/base.py\u001b[0m in \u001b[0;36mget_loc\u001b[0;34m(self, key, method, tolerance)\u001b[0m\n\u001b[1;32m   2104\u001b[0m                 \u001b[0;32mreturn\u001b[0m \u001b[0mself\u001b[0m\u001b[0;34m.\u001b[0m\u001b[0m_engine\u001b[0m\u001b[0;34m.\u001b[0m\u001b[0mget_loc\u001b[0m\u001b[0;34m(\u001b[0m\u001b[0mkey\u001b[0m\u001b[0;34m)\u001b[0m\u001b[0;34m\u001b[0m\u001b[0m\n\u001b[1;32m   2105\u001b[0m             \u001b[0;32mexcept\u001b[0m \u001b[0mKeyError\u001b[0m\u001b[0;34m:\u001b[0m\u001b[0;34m\u001b[0m\u001b[0m\n\u001b[0;32m-> 2106\u001b[0;31m                 \u001b[0;32mreturn\u001b[0m \u001b[0mself\u001b[0m\u001b[0;34m.\u001b[0m\u001b[0m_engine\u001b[0m\u001b[0;34m.\u001b[0m\u001b[0mget_loc\u001b[0m\u001b[0;34m(\u001b[0m\u001b[0mself\u001b[0m\u001b[0;34m.\u001b[0m\u001b[0m_maybe_cast_indexer\u001b[0m\u001b[0;34m(\u001b[0m\u001b[0mkey\u001b[0m\u001b[0;34m)\u001b[0m\u001b[0;34m)\u001b[0m\u001b[0;34m\u001b[0m\u001b[0m\n\u001b[0m\u001b[1;32m   2107\u001b[0m \u001b[0;34m\u001b[0m\u001b[0m\n\u001b[1;32m   2108\u001b[0m         \u001b[0mindexer\u001b[0m \u001b[0;34m=\u001b[0m \u001b[0mself\u001b[0m\u001b[0;34m.\u001b[0m\u001b[0mget_indexer\u001b[0m\u001b[0;34m(\u001b[0m\u001b[0;34m[\u001b[0m\u001b[0mkey\u001b[0m\u001b[0;34m]\u001b[0m\u001b[0;34m,\u001b[0m \u001b[0mmethod\u001b[0m\u001b[0;34m=\u001b[0m\u001b[0mmethod\u001b[0m\u001b[0;34m,\u001b[0m \u001b[0mtolerance\u001b[0m\u001b[0;34m=\u001b[0m\u001b[0mtolerance\u001b[0m\u001b[0;34m)\u001b[0m\u001b[0;34m\u001b[0m\u001b[0m\n",
      "\u001b[0;32mpandas/index.pyx\u001b[0m in \u001b[0;36mpandas.index.IndexEngine.get_loc (pandas/index.c:4160)\u001b[0;34m()\u001b[0m\n",
      "\u001b[0;32mpandas/index.pyx\u001b[0m in \u001b[0;36mpandas.index.IndexEngine.get_loc (pandas/index.c:4024)\u001b[0;34m()\u001b[0m\n",
      "\u001b[0;32mpandas/src/hashtable_class_helper.pxi\u001b[0m in \u001b[0;36mpandas.hashtable.PyObjectHashTable.get_item (pandas/hashtable.c:13161)\u001b[0;34m()\u001b[0m\n",
      "\u001b[0;32mpandas/src/hashtable_class_helper.pxi\u001b[0m in \u001b[0;36mpandas.hashtable.PyObjectHashTable.get_item (pandas/hashtable.c:13115)\u001b[0;34m()\u001b[0m\n",
      "\u001b[0;31mKeyError\u001b[0m: 'animal'"
     ]
    }
   ],
   "source": [
    "df.groupby('animal')"
   ]
  },
  {
   "cell_type": "code",
   "execution_count": 1,
   "metadata": {
    "collapsed": true
   },
   "outputs": [],
   "source": [
    "from numba import jit"
   ]
  },
  {
   "cell_type": "code",
   "execution_count": null,
   "metadata": {
    "collapsed": true
   },
   "outputs": [],
   "source": []
  }
 ],
 "metadata": {
  "kernelspec": {
   "display_name": "Python 3",
   "language": "python",
   "name": "python3"
  },
  "language_info": {
   "codemirror_mode": {
    "name": "ipython",
    "version": 3
   },
   "file_extension": ".py",
   "mimetype": "text/x-python",
   "name": "python",
   "nbconvert_exporter": "python",
   "pygments_lexer": "ipython3",
   "version": "3.6.0"
  }
 },
 "nbformat": 4,
 "nbformat_minor": 1
}
