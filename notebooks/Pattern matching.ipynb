{
 "cells": [
  {
   "cell_type": "code",
   "execution_count": 1,
   "metadata": {
    "collapsed": false,
    "run_control": {
     "frozen": false,
     "read_only": false
    }
   },
   "outputs": [
    {
     "name": "stdout",
     "output_type": "stream",
     "text": [
      "['Ext', 'Target', 'Obj', 'Dep', 'Dep']\n"
     ]
    }
   ],
   "source": [
    "vertices = Ext, Target, Obj, Dep = ['Ext', 'Target', 'Obj', 'Dep']\n",
    "links    = ((Ext, Target),\n",
    "            (Target, Obj), \n",
    "            (Obj, Dep),\n",
    "            (Dep, Dep))\n",
    "\n",
    "next_state = dict(links)\n",
    "\n",
    "from multipledispatch import dispatch\n",
    "from collections      import Sequence, namedtuple\n",
    "from framenet.util    import compose, groupwise, unique, juxt, aget, reduceby, iget\n",
    "from pprint           import pprint\n",
    "\n",
    "gf_tgt = compose(iget('GF', 'Target', default=None), \n",
    "                 iget(1))\n",
    "\n",
    "def gf_or_tgt(group):\n",
    "    f, s = gf_tgt(group) \n",
    "    return f or s\n",
    "\n",
    "# Test\n",
    "g1 = [(0,  {'FE': 'Agent', 'GF': 'Ext', 'PT': 'NP'}),\n",
    "      (2,  {'Target': 'Target'}),\n",
    "      (13, {'FE': 'Theme', 'GF': 'Obj', 'PT': 'NP'}),\n",
    "      (29, {'FE': 'Path',  'GF': 'Dep', 'PT': 'PP'}),\n",
    "      (50, {'FE': 'Goal',  'GF': 'Dep', 'PT': 'PP'})]    \n",
    "\n",
    "pprint(list(map(gf_or_tgt, g1)))\n",
    "    \n",
    "def match(group):\n",
    "    vs = map(gf_or_tgt, group)\n",
    "    s  = Ext\n",
    "    for v in vs:\n",
    "        if v == s:\n",
    "            s = next_state[s]\n",
    "        else:\n",
    "            return False\n",
    "\n",
    "    return True"
   ]
  },
  {
   "cell_type": "code",
   "execution_count": 29,
   "metadata": {
    "collapsed": false,
    "run_control": {
     "frozen": false,
     "read_only": false
    }
   },
   "outputs": [],
   "source": [
    "from framenet.util import compose, juxt, ident, flatten\n",
    "from functools     import reduce\n",
    "from itertools     import tee\n",
    "\n",
    "def symbol(s):\n",
    "    def _symbol(xs): \n",
    "#         print('s:', s, 'xs:', xs)\n",
    "        return [xs[1:]] if xs and s == xs[0] else []\n",
    "    return _symbol\n",
    "\n",
    "def seq(a, b):\n",
    "    return lambda xs: reduce(union, map(b, a(xs)), [])\n",
    "    \n",
    "def union(xs, ys):\n",
    "    return [x for x in xs if x not in ys] + ys\n",
    "\n",
    "def alt(a, b):\n",
    "    return lambda xs: union(*juxt(a, b)(xs))\n",
    "\n",
    "epsilon = lambda xs: [xs]\n",
    "\n",
    "def star(a):\n",
    "    return alt(epsilon, lambda xs: seq(a, star(a))(xs))\n",
    "    \n",
    "def opt(a):\n",
    "    return alt(a, epsilon)"
   ]
  },
  {
   "cell_type": "code",
   "execution_count": 30,
   "metadata": {
    "collapsed": false,
    "run_control": {
     "frozen": false,
     "read_only": false
    }
   },
   "outputs": [],
   "source": [
    "ext, target, obj, dep = [symbol(s) for s in vertices]"
   ]
  },
  {
   "cell_type": "code",
   "execution_count": 31,
   "metadata": {
    "collapsed": false,
    "run_control": {
     "frozen": false,
     "read_only": false
    }
   },
   "outputs": [
    {
     "data": {
      "text/plain": [
       "[['Obj', 'Dep']]"
      ]
     },
     "execution_count": 31,
     "metadata": {},
     "output_type": "execute_result"
    }
   ],
   "source": [
    "ext(['Ext', 'Obj', 'Dep'])"
   ]
  },
  {
   "cell_type": "code",
   "execution_count": 32,
   "metadata": {
    "collapsed": false,
    "run_control": {
     "frozen": false,
     "read_only": false
    }
   },
   "outputs": [
    {
     "data": {
      "text/plain": [
       "[['Target']]"
      ]
     },
     "execution_count": 32,
     "metadata": {},
     "output_type": "execute_result"
    }
   ],
   "source": [
    "alt(ext, target)(['Ext', 'Target'])"
   ]
  },
  {
   "cell_type": "code",
   "execution_count": 33,
   "metadata": {
    "collapsed": false,
    "run_control": {
     "frozen": false,
     "read_only": false
    }
   },
   "outputs": [
    {
     "data": {
      "text/plain": [
       "[['Ext', 'Dep']]"
      ]
     },
     "execution_count": 33,
     "metadata": {},
     "output_type": "execute_result"
    }
   ],
   "source": [
    "alt(ext, target)(['Target', 'Ext', 'Dep'])"
   ]
  },
  {
   "cell_type": "code",
   "execution_count": 34,
   "metadata": {
    "collapsed": false,
    "run_control": {
     "frozen": false,
     "read_only": false
    }
   },
   "outputs": [
    {
     "data": {
      "text/plain": [
       "[['Ext', 'Obj'], ['Dep', 'Ext', 'Obj']]"
      ]
     },
     "execution_count": 34,
     "metadata": {},
     "output_type": "execute_result"
    }
   ],
   "source": [
    "opt(dep)(['Dep', 'Ext', 'Obj'])"
   ]
  },
  {
   "cell_type": "code",
   "execution_count": 35,
   "metadata": {
    "collapsed": false,
    "run_control": {
     "frozen": false,
     "read_only": false
    }
   },
   "outputs": [
    {
     "data": {
      "text/plain": [
       "[['Obj']]"
      ]
     },
     "execution_count": 35,
     "metadata": {},
     "output_type": "execute_result"
    }
   ],
   "source": [
    "seq(ext, target)(['Ext', 'Target', 'Obj'])"
   ]
  },
  {
   "cell_type": "code",
   "execution_count": 36,
   "metadata": {
    "collapsed": false,
    "run_control": {
     "frozen": false,
     "read_only": false
    }
   },
   "outputs": [
    {
     "data": {
      "text/plain": [
       "[['Dep', 'Dep', 'Dep', 'Obj'], ['Dep', 'Dep', 'Obj'], ['Dep', 'Obj'], ['Obj']]"
      ]
     },
     "execution_count": 36,
     "metadata": {},
     "output_type": "execute_result"
    }
   ],
   "source": [
    "star(dep)(['Dep', 'Dep', 'Dep', 'Obj'])"
   ]
  },
  {
   "cell_type": "code",
   "execution_count": null,
   "metadata": {
    "collapsed": true
   },
   "outputs": [],
   "source": []
  }
 ],
 "metadata": {
  "kernelspec": {
   "display_name": "Python 3",
   "language": "python",
   "name": "python3"
  },
  "language_info": {
   "codemirror_mode": {
    "name": "ipython",
    "version": 3
   },
   "file_extension": ".py",
   "mimetype": "text/x-python",
   "name": "python",
   "nbconvert_exporter": "python",
   "pygments_lexer": "ipython3",
   "version": "3.5.2"
  }
 },
 "nbformat": 4,
 "nbformat_minor": 1
}
