{
 "cells": [
  {
   "cell_type": "code",
   "execution_count": 32,
   "metadata": {
    "collapsed": false
   },
   "outputs": [],
   "source": [
    "import functools, inspect\n",
    "\n",
    "class object_proxy(object): \n",
    "\n",
    "    def __init__(self, wrapped):\n",
    "        self.wrapped = wrapped\n",
    "        try:\n",
    "            self.__name__= wrapped.__name__\n",
    "        except AttributeError:\n",
    "            pass \n",
    "\n",
    "    @property\n",
    "    def __class__(self):\n",
    "        return self.wrapped.__class__  \n",
    "\n",
    "    def __getattr__(self, name):\n",
    "        return getattr(self.wrapped, name)\n",
    "    \n",
    "    \n",
    "class bound_function_wrapper(object_proxy): \n",
    "\n",
    "    def __init__(self, wrapped, instance, wrapper, binding, parent):\n",
    "        super(bound_function_wrapper, self).__init__(wrapped)\n",
    "        self.instance = instance\n",
    "        self.wrapper  = wrapper\n",
    "        self.binding  = binding\n",
    "        self.parent   = parent \n",
    "\n",
    "    def __call__(self, *args, **kwargs):\n",
    "        if self.binding == 'function':\n",
    "            if self.instance is None:\n",
    "                instance, args = args[0], args[1:]\n",
    "                wrapped = functools.partial(self.wrapped, instance)\n",
    "                return self.wrapper(wrapped, instance, args, kwargs)\n",
    "            else:\n",
    "                return self.wrapper(self.wrapped, self.instance, args, kwargs)\n",
    "        else:\n",
    "            instance = getattr(self.wrapped, '__self__', None)\n",
    "            return self.wrapper(self.wrapped, instance, args, kwargs) \n",
    "\n",
    "    def __get__(self, instance, owner):\n",
    "        if self.instance is None and self.binding == 'function':\n",
    "            descriptor = self.parent.wrapped.__get__(instance, owner)\n",
    "            return bound_function_wrapper(descriptor, instance, self.wrapper,\n",
    "                    self.binding, self.parent)\n",
    "        return self \n",
    "\n",
    "    \n",
    "class function_wrapper(object_proxy): \n",
    "\n",
    "    def __init__(self, wrapped, wrapper):\n",
    "        super(function_wrapper, self).__init__(wrapped)\n",
    "        self.wrapper = wrapper\n",
    "        if isinstance(wrapped, classmethod):\n",
    "            self.binding = 'classmethod'\n",
    "        elif isinstance(wrapped, staticmethod):\n",
    "            self.binding = 'staticmethod'\n",
    "        else:\n",
    "            self.binding = 'function' \n",
    "\n",
    "    def __get__(self, instance, owner):\n",
    "        wrapped = self.wrapped.__get__(instance, owner)\n",
    "        return bound_function_wrapper(wrapped, instance, self.wrapper, self.binding, self) \n",
    "\n",
    "    def __call__(self, *args, **kwargs):\n",
    "        return self.wrapper(self.wrapped, None, args, kwargs)\n",
    "    \n",
    "    \n",
    "def decorator(wrapper):\n",
    "    @functools.wraps(wrapper)\n",
    "    def _decorator(wrapped):\n",
    "        return function_wrapper(wrapped, wrapper)\n",
    "    return _decorator\n",
    "\n",
    "@decorator\n",
    "def universal(wrapped, instance, args, kwargs):\n",
    "    if instance is None:\n",
    "        if inspect.isclass(wrapped):\n",
    "            # Decorator was applied to a class.\n",
    "            return wrapped(*args, **kwargs)\n",
    "        else:\n",
    "            # Decorator was applied to a function or staticmethod.\n",
    "            return wrapped(*args, **kwargs)\n",
    "    else:\n",
    "        if inspect.isclass(instance):\n",
    "            # Decorator was applied to a classmethod.\n",
    "            return wrapped(*args, **kwargs)\n",
    "        else:\n",
    "            # Decorator was applied to an instancemethod.\n",
    "            return wrapped(*args, **kwargs)"
   ]
  },
  {
   "cell_type": "code",
   "execution_count": 28,
   "metadata": {
    "collapsed": false
   },
   "outputs": [],
   "source": [
    "@decorator\n",
    "def my_function_wrapper(wrapped, instance, args, kwargs):\n",
    "    print('WRAPPED',  wrapped)\n",
    "    print('INSTANCE', instance)\n",
    "    print('ARGS',     args)\n",
    "    return wrapped(*args, **kwargs) \n",
    "\n",
    "@my_function_wrapper\n",
    "def function(a, b):\n",
    "    pass \n",
    "\n",
    "class Class(object):\n",
    "    @my_function_wrapper\n",
    "    def function_im(self, a, b):\n",
    "        pass "
   ]
  },
  {
   "cell_type": "code",
   "execution_count": 29,
   "metadata": {
    "collapsed": false
   },
   "outputs": [
    {
     "name": "stdout",
     "output_type": "stream",
     "text": [
      "WRAPPED <function function at 0x10326a488>\n",
      "INSTANCE None\n",
      "ARGS (1, 2)\n"
     ]
    }
   ],
   "source": [
    "function(1, 2)"
   ]
  },
  {
   "cell_type": "code",
   "execution_count": 30,
   "metadata": {
    "collapsed": false
   },
   "outputs": [
    {
     "name": "stdout",
     "output_type": "stream",
     "text": [
      "WRAPPED <bound method Class.function_im of <__main__.Class object at 0x1032589b0>>\n",
      "INSTANCE <__main__.Class object at 0x1032589b0>\n",
      "ARGS (1, 2)\n"
     ]
    }
   ],
   "source": [
    "c = Class()\n",
    "c.function_im(1, 2)"
   ]
  },
  {
   "cell_type": "code",
   "execution_count": 31,
   "metadata": {
    "collapsed": false
   },
   "outputs": [
    {
     "name": "stdout",
     "output_type": "stream",
     "text": [
      "WRAPPED functools.partial(<function Class.function_im at 0x10326aea0>, <__main__.Class object at 0x1032589b0>)\n",
      "INSTANCE <__main__.Class object at 0x1032589b0>\n",
      "ARGS (1, 2)\n"
     ]
    }
   ],
   "source": [
    "Class.function_im(c, 1, 2)"
   ]
  },
  {
   "cell_type": "code",
   "execution_count": 38,
   "metadata": {
    "collapsed": false
   },
   "outputs": [
    {
     "name": "stdout",
     "output_type": "stream",
     "text": [
      "WRAPPED <class '__main__.Class'>\n",
      "INSTANCE None\n",
      "ARGS ()\n"
     ]
    }
   ],
   "source": [
    "@my_function_wrapper\n",
    "class Class(object):\n",
    "\n",
    "    @my_function_wrapper\n",
    "    def function_im(self, a, b):\n",
    "        pass\n",
    "\n",
    "    @my_function_wrapper\n",
    "    @classmethod\n",
    "    def function_cm(self, a, b):\n",
    "        pass\n",
    "\n",
    "    @my_function_wrapper\n",
    "    @staticmethod\n",
    "    def function_sm(a, b):\n",
    "        pass \n",
    "\n",
    "c = Class()"
   ]
  },
  {
   "cell_type": "code",
   "execution_count": 39,
   "metadata": {
    "collapsed": false
   },
   "outputs": [
    {
     "name": "stdout",
     "output_type": "stream",
     "text": [
      "WRAPPED <bound method Class.function_im of <__main__.Class object at 0x1032a0748>>\n",
      "INSTANCE <__main__.Class object at 0x1032a0748>\n",
      "ARGS (1, 2)\n"
     ]
    }
   ],
   "source": [
    "c.function_im(1,2)"
   ]
  },
  {
   "cell_type": "code",
   "execution_count": 40,
   "metadata": {
    "collapsed": false
   },
   "outputs": [
    {
     "name": "stdout",
     "output_type": "stream",
     "text": [
      "WRAPPED functools.partial(<function Class.function_im at 0x103147510>, <__main__.Class object at 0x1032a0748>)\n",
      "INSTANCE <__main__.Class object at 0x1032a0748>\n",
      "ARGS (1, 2)\n"
     ]
    }
   ],
   "source": [
    "Class.function_im(c, 1, 2)"
   ]
  },
  {
   "cell_type": "code",
   "execution_count": 41,
   "metadata": {
    "collapsed": false
   },
   "outputs": [
    {
     "name": "stdout",
     "output_type": "stream",
     "text": [
      "WRAPPED <bound method Class.function_cm of <class '__main__.Class'>>\n",
      "INSTANCE <class '__main__.Class'>\n",
      "ARGS (1, 2)\n"
     ]
    }
   ],
   "source": [
    "c.function_cm(1,2)"
   ]
  },
  {
   "cell_type": "code",
   "execution_count": 42,
   "metadata": {
    "collapsed": false
   },
   "outputs": [
    {
     "name": "stdout",
     "output_type": "stream",
     "text": [
      "WRAPPED <bound method Class.function_cm of <class '__main__.Class'>>\n",
      "INSTANCE <class '__main__.Class'>\n",
      "ARGS (1, 2)\n"
     ]
    }
   ],
   "source": [
    "Class.function_cm(1, 2)"
   ]
  },
  {
   "cell_type": "code",
   "execution_count": 43,
   "metadata": {
    "collapsed": false
   },
   "outputs": [
    {
     "name": "stdout",
     "output_type": "stream",
     "text": [
      "WRAPPED <function Class.function_sm at 0x1031478c8>\n",
      "INSTANCE None\n",
      "ARGS (1, 2)\n"
     ]
    }
   ],
   "source": [
    "c.function_sm(1,2)"
   ]
  },
  {
   "cell_type": "code",
   "execution_count": 44,
   "metadata": {
    "collapsed": false
   },
   "outputs": [
    {
     "name": "stdout",
     "output_type": "stream",
     "text": [
      "WRAPPED <function Class.function_sm at 0x1031478c8>\n",
      "INSTANCE None\n",
      "ARGS (1, 2)\n"
     ]
    }
   ],
   "source": [
    "Class.function_sm(1, 2)"
   ]
  },
  {
   "cell_type": "code",
   "execution_count": 45,
   "metadata": {
    "collapsed": true
   },
   "outputs": [],
   "source": [
    "def optional_arguments(wrapped=None, arg=1):\n",
    "    if wrapped is None:\n",
    "        return functools.partial(optional_arguments, arg=arg) \n",
    "\n",
    "    @decorator\n",
    "    def _wrapper(wrapped, instance, args, kwargs):\n",
    "        return wrapped(*args, **kwargs)\n",
    "\n",
    "    return _wrapper(wrapped) \n",
    "\n",
    "@optional_arguments(arg=2)\n",
    "def function1():\n",
    "    pass\n",
    "\n",
    "@optional_arguments\n",
    "def function2():\n",
    "    pass "
   ]
  },
  {
   "cell_type": "code",
   "execution_count": 47,
   "metadata": {
    "collapsed": true
   },
   "outputs": [],
   "source": [
    "function2()"
   ]
  },
  {
   "cell_type": "code",
   "execution_count": null,
   "metadata": {
    "collapsed": true
   },
   "outputs": [],
   "source": []
  }
 ],
 "metadata": {
  "kernelspec": {
   "display_name": "Python 3",
   "language": "python",
   "name": "python3"
  },
  "language_info": {
   "codemirror_mode": {
    "name": "ipython",
    "version": 3
   },
   "file_extension": ".py",
   "mimetype": "text/x-python",
   "name": "python",
   "nbconvert_exporter": "python",
   "pygments_lexer": "ipython3",
   "version": "3.5.2"
  }
 },
 "nbformat": 4,
 "nbformat_minor": 1
}
