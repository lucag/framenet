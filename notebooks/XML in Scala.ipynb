{
 "cells": [
  {
   "cell_type": "code",
   "execution_count": 1,
   "metadata": {},
   "outputs": [],
   "source": [
    "interp.load.ivy(\"org.scala-lang.modules\" %% \"scala-xml\"     % \"1.0.6\")\n",
    "interp.load.ivy(\"com.github.pathikrit\"   %% \"better-files\"  % \"3.0.0\")"
   ]
  },
  {
   "cell_type": "code",
   "execution_count": 2,
   "metadata": {},
   "outputs": [
    {
     "data": {
      "text/plain": [
       "\u001b[32mimport \u001b[39m\u001b[36mxml._, better.files._\u001b[39m"
      ]
     },
     "execution_count": 2,
     "metadata": {},
     "output_type": "execute_result"
    }
   ],
   "source": [
    "import xml._, better.files._"
   ]
  },
  {
   "cell_type": "code",
   "execution_count": 3,
   "metadata": {},
   "outputs": [
    {
     "data": {
      "text/plain": [
       "\u001b[36mfn\u001b[39m: \u001b[32mFile\u001b[39m = /Users/lucag/opt/var/data/fndata-1.6\n",
       "\u001b[36mluIndex\u001b[39m: \u001b[32mElem\u001b[39m = \u001b[33mElem\u001b[39m(\n",
       "  <luIndex xsi:schemaLocation=\"schema/luIndex.xsd\" xmlns:xsi=\"http://www.w3.org/2001/XMLSchema-instance\" xmlns=\"http://framenet.icsi.berkeley.edu\">\n",
       "    <legend>\n",
       "        <statusType name=\"New\" description=\"LU defined and sentences ready for annotation\"/>\n",
       "        <statusType name=\"Created\" description=\"LU defined in frame, but sentences not yet extracted from corpus\"/>\n",
       "        <statusType name=\"FN1_Sent\" description=\"LexUnit was created during FrameNet I and has some annotation\"/>\n",
       "        <statusType name=\"FN1_NoSent\" description=\"LU was defined in frame during FrameNet I, but contains no sentences\"/>\n",
       "\u001b[33m...\u001b[39m"
      ]
     },
     "execution_count": 3,
     "metadata": {},
     "output_type": "execute_result"
    }
   ],
   "source": [
    "val fn = File(sys.env(\"FN_HOME\"))\n",
    "val luIndex = XML.loadFile((fn / \"luIndex.xml\").toString)"
   ]
  },
  {
   "cell_type": "code",
   "execution_count": 4,
   "metadata": {},
   "outputs": [
    {
     "data": {
      "text/plain": [
       "\u001b[36mres3\u001b[39m: \u001b[32mcollection\u001b[39m.\u001b[32mimmutable\u001b[39m.\u001b[32mSeq\u001b[39m[(\u001b[32mString\u001b[39m, \u001b[32mString\u001b[39m)] = \u001b[33mList\u001b[39m(\n",
       "  (\u001b[32m\"drop in.v\"\u001b[39m, \u001b[32m\"14445\"\u001b[39m),\n",
       "  (\u001b[32m\"drop.v\"\u001b[39m, \u001b[32m\"74\"\u001b[39m),\n",
       "  (\u001b[32m\"drop.v\"\u001b[39m, \u001b[32m\"1060\"\u001b[39m),\n",
       "  (\u001b[32m\"drop.v\"\u001b[39m, \u001b[32m\"1954\"\u001b[39m),\n",
       "  (\u001b[32m\"drop.v\"\u001b[39m, \u001b[32m\"5164\"\u001b[39m),\n",
       "  (\u001b[32m\"drop.v\"\u001b[39m, \u001b[32m\"6250\"\u001b[39m),\n",
       "  (\u001b[32m\"drop.v\"\u001b[39m, \u001b[32m\"12860\"\u001b[39m),\n",
       "  (\u001b[32m\"drop.v\"\u001b[39m, \u001b[32m\"17561\"\u001b[39m),\n",
       "  (\u001b[32m\"drop.v\"\u001b[39m, \u001b[32m\"17646\"\u001b[39m),\n",
       "  (\u001b[32m\"eavesdrop.v\"\u001b[39m, \u001b[32m\"1294\"\u001b[39m),\n",
       "  (\u001b[32m\"jaw-dropping.a\"\u001b[39m, \u001b[32m\"6459\"\u001b[39m)\n",
       "\u001b[33m...\u001b[39m"
      ]
     },
     "execution_count": 4,
     "metadata": {},
     "output_type": "execute_result"
    }
   ],
   "source": [
    "luIndex \\\\ \"lu\" map (e => (e \\@ \"name\", e \\@ \"ID\")) filter(_._1 contains \"drop\")"
   ]
  },
  {
   "cell_type": "code",
   "execution_count": null,
   "metadata": {
    "collapsed": true
   },
   "outputs": [],
   "source": []
  }
 ],
 "metadata": {
  "kernelspec": {
   "display_name": " Jupyter Scala 2.12",
   "language": "scala",
   "name": "scala-2.12"
  },
  "language_info": {
   "codemirror_mode": "text/x-scala",
   "file_extension": ".scala",
   "mimetype": "text/x-scala",
   "name": "scala212",
   "nbconvert_exporter": "script",
   "pygments_lexer": "scala",
   "version": "2.12.1"
  }
 },
 "nbformat": 4,
 "nbformat_minor": 2
}
