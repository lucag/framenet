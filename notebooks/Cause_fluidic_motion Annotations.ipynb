{
 "cells": [
  {
   "cell_type": "code",
   "execution_count": 16,
   "metadata": {
    "collapsed": false,
    "run_control": {
     "frozen": false,
     "read_only": false
    }
   },
   "outputs": [
    {
     "name": "stdout",
     "output_type": "stream",
     "text": [
      "These lexical units have already been built.\n",
      "CPU times: user 3.46 s, sys: 1.95 s, total: 5.41 s\n",
      "Wall time: 5.89 s\n"
     ]
    }
   ],
   "source": [
    "import os, os.path, qgrid, math\n",
    "import pandas as pd\n",
    "\n",
    "from framenet.builder         import build\n",
    "from framenet.ecg.generation  import unstack_all\n",
    "from framenet.util            import (aget, iget, compose, groupby, curry, \n",
    "                                      groupwise, remove, reduceby, flatmap, merge, isnan)\n",
    "from framenet.data.annotation import (annoset_for, to_list, Pattern, Graph, \n",
    "                                      make_groups, to_layers, to_node)\n",
    "# from collections             import defaultdict\n",
    "from pprint                   import pprint, pformat\n",
    "from collections              import namedtuple\n",
    "\n",
    "\n",
    "def lus_for(frame_name):\n",
    "    \"\"\"LUs for `frame` as a pd.DataFrame.\n",
    "    \"\"\"\n",
    "    cs    = ('annotationSet.ID', 'annotationSet.LU')\n",
    "    lu    = aget('ID', 'lu')\n",
    "    fn, _ = build()\n",
    "    frame = fn.get_frame(frame_name)\n",
    "    return pd.DataFrame([dict(zip(cs, lu(ann))) for ann in frame.annotations])\n",
    "    \n",
    "\n",
    "def core_FE_for(frame_name):\n",
    "    fn, _ = build()\n",
    "    frame = fn.get_frame(frame_name)\n",
    "    return set(int(e.ID) for e in frame.elements if e.coreType == 'Core')\n",
    "    \n",
    "    \n",
    "def get_frame_df(frame_name):\n",
    "    \"\"\"Get pd.DataFrame for `frame_name`, normalize by adding Target LUs using the above.\n",
    "    \"\"\"\n",
    "    lu_df       = get_lu_df()\n",
    "    aset_ids    = annoset_for(frame_name)\n",
    "    core_fe_ids = core_FE_for(frame_name)\n",
    "    selected    = lu_df.loc[lu_df['annotationSet.ID'].isin(aset_ids)]\n",
    "    merged      = pd.merge(selected, lus_for(frame_name), how='outer', on='annotationSet.ID')\n",
    "    merged.loc[\n",
    "        merged['label.name'] == 'Target', \n",
    "        'label.name'\n",
    "    ] = merged['annotationSet.LU']\n",
    "#     merged.loc[\n",
    "#         merged['label.start'].isnull(),\n",
    "#         'label.start'\n",
    "#     ] = 9999\n",
    "    merged.loc[\n",
    "        merged['label.feID'].isin(core_fe_ids),\n",
    "        'label.coreFE'\n",
    "    ] = True\n",
    "    return merged\n",
    "\n",
    "\n",
    "def get_lu_df(base='.'):\n",
    "    \"\"\"Return LU records as a pd.DataFrame.\n",
    "    \"\"\"\n",
    "    LU_PICKLE      = 'lu.pkl'\n",
    "    lu_pickle_path = os.path.join(base, LU_PICKLE)\n",
    "    if os.access(lu_pickle_path, os.R_OK):\n",
    "        # Read lu_df back in\n",
    "        lu_df = pd.read_pickle(lu_pickle_path)\n",
    "        return lu_df\n",
    "    else:\n",
    "        # Save to a file in the current directory\n",
    "        lu_df = pd.DataFrame(list(unstack_all(lu_sents())))\n",
    "        lu_df.to_pickle(lu_pickle_path)\n",
    "        return lu_df\n",
    "\n",
    "\n",
    "def test_get_frame_df(frame_name='Cause_motion', count=10788):\n",
    "    cm_df = get_frame_df(frame_name)\n",
    "    assert len(cm_df) == 10788, 'Test falied: %d' % len(cm_df)\n",
    "    \n",
    "%time test_get_frame_df()"
   ]
  },
  {
   "cell_type": "code",
   "execution_count": 2,
   "metadata": {
    "collapsed": false,
    "run_control": {
     "frozen": false,
     "read_only": false
    }
   },
   "outputs": [],
   "source": [
    "cm_df = get_frame_df('Cause_fluidic_motion')"
   ]
  },
  {
   "cell_type": "code",
   "execution_count": 7,
   "metadata": {
    "collapsed": false,
    "run_control": {
     "frozen": false,
     "read_only": false
    }
   },
   "outputs": [],
   "source": [
    "qgrid.show_grid(cm_df, grid_options={'forceFitColumns': False, 'defaultColumnWidth': 100})"
   ]
  },
  {
   "cell_type": "code",
   "execution_count": 5,
   "metadata": {
    "collapsed": false,
    "run_control": {
     "frozen": false,
     "read_only": false
    }
   },
   "outputs": [],
   "source": [
    "gs = make_groups(cm_df.to_dict(orient='records'))"
   ]
  },
  {
   "cell_type": "code",
   "execution_count": 7,
   "metadata": {
    "collapsed": true,
    "run_control": {
     "frozen": false,
     "read_only": false
    }
   },
   "outputs": [
    {
     "data": {
      "text/plain": [
       "[[{'annotationSet.ID': 143329,\n",
       "   'annotationSet.LU': 'splatter.v',\n",
       "   'annotationSet.status': 'MANUAL',\n",
       "   'label.coreFE': True,\n",
       "   'label.end': 103.0,\n",
       "   'label.feID': 5802.0,\n",
       "   'label.itype': nan,\n",
       "   'label.name': 'Agent',\n",
       "   'label.start': 103.0,\n",
       "   'layer.name': 'FE',\n",
       "   'layer.rank': 1,\n",
       "   'sentence.ID': 248787,\n",
       "   'sentence.aPos': 32640926,\n",
       "   'sentence.corpID': nan,\n",
       "   'sentence.docID': nan,\n",
       "   'sentence.paragNo': nan,\n",
       "   'sentence.sentNo': 0,\n",
       "   'text.contents': 'Brandon then told one of the other group : ` Order your food and leave if you do n\\'t want trouble , or I \\'ll splatter your face across the road . \"'},\n",
       "  {'annotationSet.ID': 143329,\n",
       "   'annotationSet.LU': 'splatter.v',\n",
       "   'annotationSet.status': 'MANUAL',\n",
       "   'label.coreFE': nan,\n",
       "   'label.end': 103.0,\n",
       "   'label.feID': nan,\n",
       "   'label.itype': nan,\n",
       "   'label.name': 'Ext',\n",
       "   'label.start': 103.0,\n",
       "   'layer.name': 'GF',\n",
       "   'layer.rank': 1,\n",
       "   'sentence.ID': 248787,\n",
       "   'sentence.aPos': 32640926,\n",
       "   'sentence.corpID': nan,\n",
       "   'sentence.docID': nan,\n",
       "   'sentence.paragNo': nan,\n",
       "   'sentence.sentNo': 0,\n",
       "   'text.contents': 'Brandon then told one of the other group : ` Order your food and leave if you do n\\'t want trouble , or I \\'ll splatter your face across the road . \"'},\n",
       "  {'annotationSet.ID': 143329,\n",
       "   'annotationSet.LU': 'splatter.v',\n",
       "   'annotationSet.status': 'MANUAL',\n",
       "   'label.coreFE': nan,\n",
       "   'label.end': 103.0,\n",
       "   'label.feID': nan,\n",
       "   'label.itype': nan,\n",
       "   'label.name': 'NP',\n",
       "   'label.start': 103.0,\n",
       "   'layer.name': 'PT',\n",
       "   'layer.rank': 1,\n",
       "   'sentence.ID': 248787,\n",
       "   'sentence.aPos': 32640926,\n",
       "   'sentence.corpID': nan,\n",
       "   'sentence.docID': nan,\n",
       "   'sentence.paragNo': nan,\n",
       "   'sentence.sentNo': 0,\n",
       "   'text.contents': 'Brandon then told one of the other group : ` Order your food and leave if you do n\\'t want trouble , or I \\'ll splatter your face across the road . \"'}],\n",
       " [{'annotationSet.ID': 143329,\n",
       "   'annotationSet.LU': 'splatter.v',\n",
       "   'annotationSet.status': 'MANUAL',\n",
       "   'label.coreFE': nan,\n",
       "   'label.end': 116.0,\n",
       "   'label.feID': nan,\n",
       "   'label.itype': nan,\n",
       "   'label.name': 'splatter.v',\n",
       "   'label.start': 109.0,\n",
       "   'layer.name': 'Target',\n",
       "   'layer.rank': 1,\n",
       "   'sentence.ID': 248787,\n",
       "   'sentence.aPos': 32640926,\n",
       "   'sentence.corpID': nan,\n",
       "   'sentence.docID': nan,\n",
       "   'sentence.paragNo': nan,\n",
       "   'sentence.sentNo': 0,\n",
       "   'text.contents': 'Brandon then told one of the other group : ` Order your food and leave if you do n\\'t want trouble , or I \\'ll splatter your face across the road . \"'}],\n",
       " [{'annotationSet.ID': 143329,\n",
       "   'annotationSet.LU': 'splatter.v',\n",
       "   'annotationSet.status': 'MANUAL',\n",
       "   'label.coreFE': True,\n",
       "   'label.end': 126.0,\n",
       "   'label.feID': 5804.0,\n",
       "   'label.itype': nan,\n",
       "   'label.name': 'Fluid',\n",
       "   'label.start': 118.0,\n",
       "   'layer.name': 'FE',\n",
       "   'layer.rank': 1,\n",
       "   'sentence.ID': 248787,\n",
       "   'sentence.aPos': 32640926,\n",
       "   'sentence.corpID': nan,\n",
       "   'sentence.docID': nan,\n",
       "   'sentence.paragNo': nan,\n",
       "   'sentence.sentNo': 0,\n",
       "   'text.contents': 'Brandon then told one of the other group : ` Order your food and leave if you do n\\'t want trouble , or I \\'ll splatter your face across the road . \"'},\n",
       "  {'annotationSet.ID': 143329,\n",
       "   'annotationSet.LU': 'splatter.v',\n",
       "   'annotationSet.status': 'MANUAL',\n",
       "   'label.coreFE': nan,\n",
       "   'label.end': 126.0,\n",
       "   'label.feID': nan,\n",
       "   'label.itype': nan,\n",
       "   'label.name': 'Obj',\n",
       "   'label.start': 118.0,\n",
       "   'layer.name': 'GF',\n",
       "   'layer.rank': 1,\n",
       "   'sentence.ID': 248787,\n",
       "   'sentence.aPos': 32640926,\n",
       "   'sentence.corpID': nan,\n",
       "   'sentence.docID': nan,\n",
       "   'sentence.paragNo': nan,\n",
       "   'sentence.sentNo': 0,\n",
       "   'text.contents': 'Brandon then told one of the other group : ` Order your food and leave if you do n\\'t want trouble , or I \\'ll splatter your face across the road . \"'},\n",
       "  {'annotationSet.ID': 143329,\n",
       "   'annotationSet.LU': 'splatter.v',\n",
       "   'annotationSet.status': 'MANUAL',\n",
       "   'label.coreFE': nan,\n",
       "   'label.end': 126.0,\n",
       "   'label.feID': nan,\n",
       "   'label.itype': nan,\n",
       "   'label.name': 'NP',\n",
       "   'label.start': 118.0,\n",
       "   'layer.name': 'PT',\n",
       "   'layer.rank': 1,\n",
       "   'sentence.ID': 248787,\n",
       "   'sentence.aPos': 32640926,\n",
       "   'sentence.corpID': nan,\n",
       "   'sentence.docID': nan,\n",
       "   'sentence.paragNo': nan,\n",
       "   'sentence.sentNo': 0,\n",
       "   'text.contents': 'Brandon then told one of the other group : ` Order your food and leave if you do n\\'t want trouble , or I \\'ll splatter your face across the road . \"'}],\n",
       " [{'annotationSet.ID': 143329,\n",
       "   'annotationSet.LU': 'splatter.v',\n",
       "   'annotationSet.status': 'MANUAL',\n",
       "   'label.coreFE': True,\n",
       "   'label.end': 142.0,\n",
       "   'label.feID': 5806.0,\n",
       "   'label.itype': nan,\n",
       "   'label.name': 'Goal',\n",
       "   'label.start': 128.0,\n",
       "   'layer.name': 'FE',\n",
       "   'layer.rank': 1,\n",
       "   'sentence.ID': 248787,\n",
       "   'sentence.aPos': 32640926,\n",
       "   'sentence.corpID': nan,\n",
       "   'sentence.docID': nan,\n",
       "   'sentence.paragNo': nan,\n",
       "   'sentence.sentNo': 0,\n",
       "   'text.contents': 'Brandon then told one of the other group : ` Order your food and leave if you do n\\'t want trouble , or I \\'ll splatter your face across the road . \"'},\n",
       "  {'annotationSet.ID': 143329,\n",
       "   'annotationSet.LU': 'splatter.v',\n",
       "   'annotationSet.status': 'MANUAL',\n",
       "   'label.coreFE': nan,\n",
       "   'label.end': 142.0,\n",
       "   'label.feID': nan,\n",
       "   'label.itype': nan,\n",
       "   'label.name': 'Dep',\n",
       "   'label.start': 128.0,\n",
       "   'layer.name': 'GF',\n",
       "   'layer.rank': 1,\n",
       "   'sentence.ID': 248787,\n",
       "   'sentence.aPos': 32640926,\n",
       "   'sentence.corpID': nan,\n",
       "   'sentence.docID': nan,\n",
       "   'sentence.paragNo': nan,\n",
       "   'sentence.sentNo': 0,\n",
       "   'text.contents': 'Brandon then told one of the other group : ` Order your food and leave if you do n\\'t want trouble , or I \\'ll splatter your face across the road . \"'},\n",
       "  {'annotationSet.ID': 143329,\n",
       "   'annotationSet.LU': 'splatter.v',\n",
       "   'annotationSet.status': 'MANUAL',\n",
       "   'label.coreFE': nan,\n",
       "   'label.end': 142.0,\n",
       "   'label.feID': nan,\n",
       "   'label.itype': nan,\n",
       "   'label.name': 'PP',\n",
       "   'label.start': 128.0,\n",
       "   'layer.name': 'PT',\n",
       "   'layer.rank': 1,\n",
       "   'sentence.ID': 248787,\n",
       "   'sentence.aPos': 32640926,\n",
       "   'sentence.corpID': nan,\n",
       "   'sentence.docID': nan,\n",
       "   'sentence.paragNo': nan,\n",
       "   'sentence.sentNo': 0,\n",
       "   'text.contents': 'Brandon then told one of the other group : ` Order your food and leave if you do n\\'t want trouble , or I \\'ll splatter your face across the road . \"'}],\n",
       " [{'annotationSet.ID': 143329,\n",
       "   'annotationSet.LU': 'splatter.v',\n",
       "   'annotationSet.status': 'MANUAL',\n",
       "   'label.coreFE': nan,\n",
       "   'label.end': nan,\n",
       "   'label.feID': nan,\n",
       "   'label.itype': nan,\n",
       "   'label.name': nan,\n",
       "   'label.start': nan,\n",
       "   'layer.name': 'Sent',\n",
       "   'layer.rank': 1,\n",
       "   'sentence.ID': 248787,\n",
       "   'sentence.aPos': 32640926,\n",
       "   'sentence.corpID': nan,\n",
       "   'sentence.docID': nan,\n",
       "   'sentence.paragNo': nan,\n",
       "   'sentence.sentNo': 0,\n",
       "   'text.contents': 'Brandon then told one of the other group : ` Order your food and leave if you do n\\'t want trouble , or I \\'ll splatter your face across the road . \"'}],\n",
       " [{'annotationSet.ID': 143329,\n",
       "   'annotationSet.LU': 'splatter.v',\n",
       "   'annotationSet.status': 'MANUAL',\n",
       "   'label.coreFE': nan,\n",
       "   'label.end': nan,\n",
       "   'label.feID': nan,\n",
       "   'label.itype': nan,\n",
       "   'label.name': nan,\n",
       "   'label.start': nan,\n",
       "   'layer.name': 'Other',\n",
       "   'layer.rank': 1,\n",
       "   'sentence.ID': 248787,\n",
       "   'sentence.aPos': 32640926,\n",
       "   'sentence.corpID': nan,\n",
       "   'sentence.docID': nan,\n",
       "   'sentence.paragNo': nan,\n",
       "   'sentence.sentNo': 0,\n",
       "   'text.contents': 'Brandon then told one of the other group : ` Order your food and leave if you do n\\'t want trouble , or I \\'ll splatter your face across the road . \"'}],\n",
       " [{'annotationSet.ID': 143329,\n",
       "   'annotationSet.LU': 'splatter.v',\n",
       "   'annotationSet.status': 'MANUAL',\n",
       "   'label.coreFE': nan,\n",
       "   'label.end': nan,\n",
       "   'label.feID': nan,\n",
       "   'label.itype': nan,\n",
       "   'label.name': nan,\n",
       "   'label.start': nan,\n",
       "   'layer.name': 'Verb',\n",
       "   'layer.rank': 1,\n",
       "   'sentence.ID': 248787,\n",
       "   'sentence.aPos': 32640926,\n",
       "   'sentence.corpID': nan,\n",
       "   'sentence.docID': nan,\n",
       "   'sentence.paragNo': nan,\n",
       "   'sentence.sentNo': 0,\n",
       "   'text.contents': 'Brandon then told one of the other group : ` Order your food and leave if you do n\\'t want trouble , or I \\'ll splatter your face across the road . \"'}]]"
      ]
     },
     "execution_count": 7,
     "metadata": {},
     "output_type": "execute_result"
    }
   ],
   "source": [
    "# pprint([layers(g) for g in gs][:10])\n",
    "# gs[7], to_layers(gs[7])\n",
    "# ll = [to_layers(g) for g in gs]\n",
    "# len(gs[0])\n",
    "gs[0]"
   ]
  },
  {
   "cell_type": "markdown",
   "metadata": {
    "run_control": {
     "frozen": false,
     "read_only": false
    }
   },
   "source": [
    "## Patterns"
   ]
  },
  {
   "cell_type": "code",
   "execution_count": 9,
   "metadata": {
    "collapsed": false,
    "run_control": {
     "frozen": false,
     "read_only": false
    }
   },
   "outputs": [],
   "source": [
    "# Ext T Obj Dep+\n",
    "\n",
    "gf_tgt = compose(iget('GF', 'Target', default=None))\n",
    "\n",
    "def gf_or_target(group):\n",
    "    \"Turn a group into a pattern.\"\n",
    "    f, s = gf_tgt(group) \n",
    "    return f or s\n",
    "\n",
    "# Test\n",
    "g1 = [{'FE': 'Agent', 'GF': 'Ext', 'PT': 'NP'},\n",
    "      {'Target': 'catapult.v'},\n",
    "      {'FE': 'Theme', 'GF': 'Obj', 'PT': 'NP'},\n",
    "      {'FE': 'Path',  'GF': 'Dep', 'PT': 'PP'},\n",
    "      {'FE': 'Goal',  'GF': 'Dep', 'PT': 'PP'}]    \n",
    "assert list(map(gf_or_target, g1)) == ['Ext', 'catapult.v', 'Obj', 'Dep', 'Dep']\n",
    "\n",
    "\n",
    "# g0 = to_layers(gs[0])\n",
    "# assert list(map(gf_or_target, g0)) == ['Ext', 'catapult.v', 'Obj', 'Dep', 'Dep']\n",
    "\n",
    "    \n",
    "def get_matcher(vertices):\n",
    "    ps = groupwise(2)(vertices)\n",
    "    def edge(ps):\n",
    "        a, b = ps\n",
    "        if b == '+':\n",
    "            return a, [a]\n",
    "        else:\n",
    "            return a, [b]\n",
    "    \n",
    "    es = list(map(edge, ps))\n",
    "#     print(es)\n",
    "    return Pattern(Graph(vertices=vertices, edges=es))\n",
    "\n",
    "\n",
    "matcher = get_matcher(['Ext', '_', 'Obj', 'Dep', '+'])\n",
    "\n",
    "@curry\n",
    "def match(matcher, group):\n",
    "#     pprint(group)\n",
    "    return matcher.match(map(gf_or_target, group))\n",
    "\n",
    "# assert match(matcher, g0)\n",
    "assert match(matcher, g1)\n",
    "\n",
    "g3 = [{'FE': 'Theme'},\n",
    "      {'FE': 'Source'},\n",
    "      {'FE': 'Agent'},\n",
    "      {'GF': 'Ext', 'PT': 'NP'},\n",
    "      {'GF': 'Dep', 'PT': 'PP'}],"
   ]
  },
  {
   "cell_type": "markdown",
   "metadata": {
    "run_control": {
     "frozen": false,
     "read_only": false
    }
   },
   "source": [
    "## $Pattern_1$: `Ext _ Obj Dep+`"
   ]
  },
  {
   "cell_type": "code",
   "execution_count": 12,
   "metadata": {
    "collapsed": false,
    "run_control": {
     "frozen": false,
     "read_only": false
    },
    "scrolled": true
   },
   "outputs": [
    {
     "name": "stdout",
     "output_type": "stream",
     "text": [
      "For ['Ext', '_', 'Obj', 'Dep', '+']: 65, 45.45%\n"
     ]
    }
   ],
   "source": [
    "vertices1 = ['Ext', '_', 'Obj', 'Dep', '+']\n",
    "pattern1  = get_matcher(vertices1)\n",
    "matching1 = [g for g in gs if match(pattern1, to_layers(g))] \n",
    "count_matching1 = len(matching1)\n",
    "\n",
    "print('For %s: %d, %.2f%%' % (vertices1, count_matching1, 100.0 * count_matching1 / len(gs)))"
   ]
  },
  {
   "cell_type": "code",
   "execution_count": 13,
   "metadata": {
    "collapsed": false,
    "run_control": {
     "frozen": false,
     "read_only": false
    }
   },
   "outputs": [
    {
     "name": "stdout",
     "output_type": "stream",
     "text": [
      "[(Link(source=Node(id='0:Agent', FE='Agent', GF='Ext', core=True), target=Node(id='1:Fluid', FE='Fluid', GF='Obj', core=True)),\n",
      "  49),\n",
      " (Link(source=Node(id='0:Agent', FE='Agent', GF='Ext', core=True), target=Node(id='1:Goal', FE='Goal', GF='Obj', core=True)),\n",
      "  3),\n",
      " (Link(source=Node(id='0:Cause', FE='Cause', GF='Ext', core=True), target=Node(id='1:Area', FE='Area', GF='Obj', core=True)),\n",
      "  1),\n",
      " (Link(source=Node(id='0:Cause', FE='Cause', GF='Ext', core=True), target=Node(id='1:Fluid', FE='Fluid', GF='Obj', core=True)),\n",
      "  4),\n",
      " (Link(source=Node(id='0:Cause', FE='Cause', GF='Ext', core=True), target=Node(id='1:Goal', FE='Goal', GF='Obj', core=True)),\n",
      "  1),\n",
      " (Link(source=Node(id='1:Area', FE='Area', GF='Obj', core=True), target=Node(id='2:Fluid', FE='Fluid', GF='Dep', core=True)),\n",
      "  1),\n",
      " (Link(source=Node(id='1:Fluid', FE='Fluid', GF='Obj', core=True), target=Node(id='2:Area', FE='Area', GF='Dep', core=True)),\n",
      "  3),\n",
      " (Link(source=Node(id='1:Fluid', FE='Fluid', GF='Obj', core=True), target=Node(id='2:Goal', FE='Goal', GF='Dep', core=True)),\n",
      "  43),\n",
      " (Link(source=Node(id='1:Fluid', FE='Fluid', GF='Obj', core=True), target=Node(id='2:Path', FE='Path', GF='Dep', core=True)),\n",
      "  3),\n",
      " (Link(source=Node(id='1:Fluid', FE='Fluid', GF='Obj', core=True), target=Node(id='2:Source', FE='Source', GF='Dep', core=True)),\n",
      "  4),\n",
      " (Link(source=Node(id='1:Goal', FE='Goal', GF='Obj', core=True), target=Node(id='2:Fluid', FE='Fluid', GF='Dep', core=True)),\n",
      "  4),\n",
      " (Link(source=Node(id='2:Goal', FE='Goal', GF='Dep', core=True), target=Node(id='3:Source', FE='Source', GF='Dep', core=True)),\n",
      "  1),\n",
      " (Link(source=Node(id='2:Path', FE='Path', GF='Dep', core=True), target=Node(id='3:Goal', FE='Goal', GF='Dep', core=True)),\n",
      "  1),\n",
      " (Link(source=Node(id='2:Source', FE='Source', GF='Dep', core=True), target=Node(id='3:Goal', FE='Goal', GF='Dep', core=True)),\n",
      "  2)]\n",
      "Written 13 records.\n"
     ]
    }
   ],
   "source": [
    "from framenet.data.annotation import write_csv\n",
    "\n",
    "write_csv('Cfm_pattern_1_core', matching1)"
   ]
  },
  {
   "cell_type": "markdown",
   "metadata": {
    "run_control": {
     "frozen": false,
     "read_only": false
    }
   },
   "source": [
    "## $Pattern_2$: `Ext _ Dep+`"
   ]
  },
  {
   "cell_type": "code",
   "execution_count": 14,
   "metadata": {
    "collapsed": false,
    "run_control": {
     "frozen": false,
     "read_only": false
    }
   },
   "outputs": [
    {
     "name": "stdout",
     "output_type": "stream",
     "text": [
      "For ['Ext', '_', 'Dep']: 27, 18.88%\n"
     ]
    }
   ],
   "source": [
    "vertices2 = ['Ext', '_', 'Dep']\n",
    "edges2    = (\n",
    "    ('Ext', ['_']),\n",
    "    ('_', ['Dep']),\n",
    "    ('Dep', ['Dep', None, 'INI', 'CNI', 'DNI']),\n",
    "    ('CNI', ['INI', 'CNI', 'DNI', None]),\n",
    "    ('DNI', ['INI', 'CNI', 'DNI', None]),\n",
    "    ('INI', ['INI', 'CNI', 'DNI', None]),\n",
    "    (None, ['INI', 'CNI', 'DNI', None]),\n",
    ")\n",
    "pattern2        = Pattern(Graph(vertices2, edges2))\n",
    "matching2       = [g for g in gs if match(pattern2, to_layers(g))] \n",
    "count_matching2 = len(matching2)\n",
    "\n",
    "print('For %s: %d, %.2f%%' % (vertices2, count_matching2, 100.0 * count_matching2 / len(gs)))"
   ]
  },
  {
   "cell_type": "code",
   "execution_count": 29,
   "metadata": {
    "collapsed": false,
    "run_control": {
     "frozen": false,
     "read_only": false
    }
   },
   "outputs": [
    {
     "name": "stdout",
     "output_type": "stream",
     "text": [
      "Written 16 records.\n"
     ]
    }
   ],
   "source": [
    "write_csv('Cfm_pattern_2_core', matching2, noncore=False)"
   ]
  },
  {
   "cell_type": "code",
   "execution_count": 17,
   "metadata": {
    "collapsed": false,
    "run_control": {
     "frozen": false,
     "read_only": false
    }
   },
   "outputs": [
    {
     "data": {
      "text/plain": [
       "[[Node(id='0:Fluid', FE='Fluid', GF='Ext', core=True),\n",
       "  Node(id='1:Goal', FE='Goal', GF='Obj', core=True),\n",
       "  Node(id='2:Agent', FE='Agent', GF='CNI', core=True)],\n",
       " [Node(id='0:Agent', FE='Agent', GF='Ext', core=True),\n",
       "  Node(id='1:Fluid', FE='Fluid', GF='Obj', core=True),\n",
       "  Node(id='2:Path', FE='Path', GF='Dep', core=True),\n",
       "  Node(id='3:Goal', FE='Goal', GF='DNI', core=True)]]"
      ]
     },
     "execution_count": 17,
     "metadata": {},
     "output_type": "execute_result"
    }
   ],
   "source": [
    "m12 = matching1 + matching2\n",
    "ns = [to_node(g) for g in gs if g not in m12]\n",
    "ns[:2]"
   ]
  },
  {
   "cell_type": "code",
   "execution_count": 26,
   "metadata": {
    "collapsed": false,
    "run_control": {
     "frozen": false,
     "read_only": false
    }
   },
   "outputs": [],
   "source": [
    "from IPython.display import HTML\n",
    "from collections import Counter, defaultdict\n",
    "\n",
    "\n",
    "def rec(ns):\n",
    "    return tuple('%s: %s' % (n.GF, n.FE) for n in ns)\n",
    "\n",
    "gf_fe_tgt = iget('GF', 'FE', 'Target', default='')\n",
    "\n",
    "def tag(elem):\n",
    "    def e(t, **kwargs): \n",
    "        if kwargs:\n",
    "            avs = ' '.join('%s=\"%s\"' % (k, v) for k, v in kwargs.items())\n",
    "            return '<{0} {2}>{1}</{0}>'.format(elem, str(t), avs)\n",
    "        else:\n",
    "            return '<{0}>{1}</{0}>'.format(elem, str(t))\n",
    "    return e\n",
    "\n",
    "table, tr, td, th, b, p, div, ul, li = (\n",
    "    map(tag, 'table tr td th b p div ul li'.split())\n",
    ")\n",
    "\n",
    "def gf_or_(group):\n",
    "    \"Turn a group into a pattern.\"\n",
    "    gf, fe, target = gf_fe_tgt(group) \n",
    "    return '%s: %s' % (b(gf), fe) if not target else 'v'\n",
    "\n",
    "cs = Counter([rec(n) for n in ns]).most_common()\n",
    "\n",
    "arrow = ' \\u2192 '\n",
    "\n",
    "def t(cs):\n",
    "    right = 'text-align: right;'\n",
    "    left  = 'text-align: left;'\n",
    "    block = 'white-space: nowrap;'\n",
    "    rows = [''.join((td(i + 1, style=right), \n",
    "                     td(len(sentences), style=right), \n",
    "                     td(arrow.join(pattern), style=block),\n",
    "                     td(ul(''.join(li(s) for s in sentences)), style=left)))\n",
    "            for i, (pattern, sentences) in enumerate(cs)\n",
    "#             if c > 4\n",
    "           ]\n",
    "#     pprint (rows)\n",
    "    header = tr(''.join(map(th, ('', 'fr.', 'Pattern', 'Text'))))\n",
    "#     pprint(header)\n",
    "    return table(header + '\\n'.join(map(tr, rows)))"
   ]
  },
  {
   "cell_type": "code",
   "execution_count": 27,
   "metadata": {
    "collapsed": false,
    "run_control": {
     "frozen": false,
     "read_only": false
    }
   },
   "outputs": [],
   "source": [
    "gts = [(tuple(gf_or_(l) for l in to_layers(g)), g[0][0]['text.contents']) \n",
    "        for g in gs if g not in m12]\n",
    "\n",
    "def group_patterns(gts):\n",
    "    ps = defaultdict(list)\n",
    "    for gt, s in gts: ps[gt].append(s)\n",
    "    return ps    "
   ]
  },
  {
   "cell_type": "code",
   "execution_count": 28,
   "metadata": {
    "collapsed": false,
    "run_control": {
     "frozen": false,
     "read_only": false
    },
    "scrolled": false
   },
   "outputs": [
    {
     "data": {
      "text/html": [
       "<table><tr><th></th><th>fr.</th><th>Pattern</th><th>Text</th></tr><tr><td style=\"text-align: right;\">1</td><td style=\"text-align: right;\">4</td><td style=\"white-space: nowrap;\">v → <b>Obj</b>: Fluid → <b>Dep</b>: Goal → <b>CNI</b>: Agent</td><td style=\"text-align: left;\"><ul><li>Fat Trask choked with laughter , spattering half-chewed pasta over another man who slapped him upside the head .</li><li>Splashing the liquid into a goblet , he carried the drink back to the bed and shoved it brusquely into Isabel 's hand .</li><li>` When you 've got it full up to the top , splash a bit of Paraffin on the top and put the match to it .</li><li>Simply spray Hot Shapes onto clean , dry hair before setting to get instant hold with a glossy finish .</li></ul></td></tr>\n",
       "<tr><td style=\"text-align: right;\">2</td><td style=\"text-align: right;\">2</td><td style=\"white-space: nowrap;\"><b>Ext</b>: Agent → v → <b>Obj</b>: Fluid → <b>INI</b>: Area</td><td style=\"text-align: left;\"><ul><li>My hand jerked so that I almost spilled my wine .</li><li>Jenna jumped up , almost spilling her coffee , making a hasty grab for the delicate cup and amusing him even more .</li></ul></td></tr>\n",
       "<tr><td style=\"text-align: right;\">3</td><td style=\"text-align: right;\">2</td><td style=\"white-space: nowrap;\"><b>Dep</b>: Time → <b>Ext</b>: Fluid → v → <b>Obj</b>: Goal → <b>INI</b>: Cause</td><td style=\"text-align: left;\"><ul><li>This time a few , reluctant drops spattered the millpond surface but did not disturb it .</li><li>Then the monstrous green body exploded like a balloon of filth , spattering the walls of the cavern and the cages of the cowering young prisoners -- the last time he/she would set a mark upon them .</li></ul></td></tr>\n",
       "<tr><td style=\"text-align: right;\">4</td><td style=\"text-align: right;\">2</td><td style=\"white-space: nowrap;\">v → <b>Obj</b>: Fluid → <b>Dep</b>: Goal → <b>DNI</b>: Agent</td><td style=\"text-align: left;\"><ul><li>It was Barney who returned to it first , dribbling cream into his coffee and watching it swirl into a spiral on the surface .</li><li>Beyond that , you can usually buy extensions covering accidental damage to the buildings , eg ; by putting your foot through the bedroom ceiling , or to the contents , eg , by spilling paint on a carpet .</li></ul></td></tr>\n",
       "<tr><td style=\"text-align: right;\">5</td><td style=\"text-align: right;\">2</td><td style=\"white-space: nowrap;\"><b>Obj</b>: Fluid → <b>Obj</b>: Fluid → <b>Ext</b>: Agent → v → <b>Dep</b>: Goal → <b>Dep</b>: Time</td><td style=\"text-align: left;\"><ul><li>Do n't forget to add the Aquasafe at this stage , to remove the chlorines and chloramines that our water boards are pumping into the tapwater at the moment .</li><li>It was part of the defoliant Agent Orange , that the US forces sprayed on Vietnamese forests during the 1960s and 1970s .</li></ul></td></tr>\n",
       "<tr><td style=\"text-align: right;\">6</td><td style=\"text-align: right;\">2</td><td style=\"white-space: nowrap;\"><b>Ext</b>: Fluid → v → <b>Obj</b>: Goal → <b>Dep</b>: Result → <b>INI</b>: Agent</td><td style=\"text-align: left;\"><ul><li>More bullets spattered the front of the cottage , drilling lines back and forth in the stonework .</li><li>A roar greeted his effort at authority and dirt spattered him , making him blink and cower .</li></ul></td></tr>\n",
       "<tr><td style=\"text-align: right;\">7</td><td style=\"text-align: right;\">1</td><td style=\"white-space: nowrap;\"><b>Ext</b>: Agent → <b>Head</b>: Means → v → <b>Obj</b>: Goal → <b>DNI</b>: Fluid</td><td style=\"text-align: left;\"><ul><li>Then she raised one foot and brought it down with a smack on the water , splashing him , and laughed .</li></ul></td></tr>\n",
       "<tr><td style=\"text-align: right;\">8</td><td style=\"text-align: right;\">1</td><td style=\"white-space: nowrap;\"><b>Ext</b>: Fluid → v → <b>CNI</b>: Cause → <b>INI</b>: Goal</td><td style=\"text-align: left;\"><ul><li>Rinse additive systems work by having a sensor linked to the rinse cycle actuator so that while rinse water is being pumped a metered dose of rinse additive is delivered .</li></ul></td></tr>\n",
       "<tr><td style=\"text-align: right;\">9</td><td style=\"text-align: right;\">1</td><td style=\"white-space: nowrap;\"><b>Ext</b>: Fluid → <b>Dep</b>: Source → v → <b>Obj</b>: Goal → <b>CNI</b>: Agent</td><td style=\"text-align: left;\"><ul><li>` Put it out , \" she screamed at Julie as another burst of fire from the UZI spattered the cottage .</li></ul></td></tr>\n",
       "<tr><td style=\"text-align: right;\">10</td><td style=\"text-align: right;\">1</td><td style=\"white-space: nowrap;\"><b>Dep</b>: Cause → <b>Ext</b>: Fluid → v → <b>Obj</b>: Goal</td><td style=\"text-align: left;\"><ul><li>It was night , and as the wind gusted down the iron chimney pipe , a shower of metal flakes spattered on to the wooden floor .</li></ul></td></tr>\n",
       "<tr><td style=\"text-align: right;\">11</td><td style=\"text-align: right;\">1</td><td style=\"white-space: nowrap;\"><b>Ext</b>: Fluid → v → <b>Obj</b>: Area → <b>CNI</b>: Agent</td><td style=\"text-align: left;\"><ul><li>His spunk had spattered over her lovely face , and large globules hung from her succulent red lips .</li></ul></td></tr>\n",
       "<tr><td style=\"text-align: right;\">12</td><td style=\"text-align: right;\">1</td><td style=\"white-space: nowrap;\"><b>Ext</b>: Fluid → v → <b>Dep</b>: Manner → <b>Obj</b>: Area → <b>INI</b>: Cause</td><td style=\"text-align: left;\"><ul><li>The rain , which had been coming and going , began to pour down again , spattering in big gobs all over the glass around them .</li></ul></td></tr>\n",
       "<tr><td style=\"text-align: right;\">13</td><td style=\"text-align: right;\">1</td><td style=\"white-space: nowrap;\"><b>Ext</b>: Agent → v → <b>Obj</b>: Goal → <b>DNI</b>: Fluid</td><td style=\"text-align: left;\"><ul><li>When she and Frank were children , they used to skip the puddles , or sometimes land in the middle , spattering themselves , with shouts of glee .</li></ul></td></tr>\n",
       "<tr><td style=\"text-align: right;\">14</td><td style=\"text-align: right;\">1</td><td style=\"white-space: nowrap;\"><b>Ext</b>: Fluid → v → <b>Obj</b>: Goal → <b>CNI</b>: Agent</td><td style=\"text-align: left;\"><ul><li>RED ink is splattered all over Britain 's companies .</li></ul></td></tr>\n",
       "<tr><td style=\"text-align: right;\">15</td><td style=\"text-align: right;\">1</td><td style=\"white-space: nowrap;\"><b>Ext</b>: Agent → <b>Dep</b>: Time → v → <b>Dep</b>: Source → <b>Obj</b>: Fluid</td><td style=\"text-align: left;\"><ul><li>Some fruit-eating birds can swallow fruit and only five minutes later squirt out the remains .</li></ul></td></tr>\n",
       "<tr><td style=\"text-align: right;\">16</td><td style=\"text-align: right;\">1</td><td style=\"white-space: nowrap;\"><b>Ext</b>: Agent → v → <b>Dep</b>: Goal → <b>Obj</b>: Fluid → <b>Dep</b>: Time</td><td style=\"text-align: left;\"><ul><li>Surprisingly , it 's normal for some women to squirt out a fluid at the moment of orgasm .</li></ul></td></tr>\n",
       "<tr><td style=\"text-align: right;\">17</td><td style=\"text-align: right;\">1</td><td style=\"white-space: nowrap;\"><b>Dep</b>: Time → <b>Ext</b>: Cause → v → <b>Dep</b>: Path → <b>Obj</b>: Fluid</td><td style=\"text-align: left;\"><ul><li>In the winter the big black stove pumps out heat fragrant with driftwood or peat , and everything steams and the rain hammers against the glass .</li></ul></td></tr>\n",
       "<tr><td style=\"text-align: right;\">18</td><td style=\"text-align: right;\">1</td><td style=\"white-space: nowrap;\"><b>Dep</b>: Time → <b>Ext</b>: Goal → v → <b>Dep</b>: Fluid → <b>Dep</b>: Explanation → <b>CNI</b>: Agent</td><td style=\"text-align: left;\"><ul><li>In days of yore , such places were spattered with the blood of sacrificial victims to ensure good fortune in battle , and dunters are thought to be the spirits of these unhappy people .</li></ul></td></tr>\n",
       "<tr><td style=\"text-align: right;\">19</td><td style=\"text-align: right;\">1</td><td style=\"white-space: nowrap;\"><b>Ext</b>: Fluid → <b>Dep</b>: Manner → v → <b>Dep</b>: Goal → <b>CNI</b>: Agent</td><td style=\"text-align: left;\"><ul><li>The investigation has cast doubt on the safety of 28 pesticides widely sprayed on crops in Britain .</li></ul></td></tr>\n",
       "<tr><td style=\"text-align: right;\">20</td><td style=\"text-align: right;\">1</td><td style=\"white-space: nowrap;\"><b>Ext</b>: Agent → v → <b>Obj</b>: Fluid → <b>Dep</b>: Time → <b>INI</b>: Area</td><td style=\"text-align: left;\"><ul><li>Looks as though Miss Easterbrook spilt her tea yesterday .</li></ul></td></tr>\n",
       "<tr><td style=\"text-align: right;\">21</td><td style=\"text-align: right;\">1</td><td style=\"white-space: nowrap;\">v → <b>Obj</b>: Fluid → <b>INI</b>: Agent → <b>INI</b>: Area</td><td style=\"text-align: left;\"><ul><li>It was noisy , hot , smoky and the smell was of sweat and spilt beer overlaid with perfume and aftershave .</li></ul></td></tr>\n",
       "<tr><td style=\"text-align: right;\">22</td><td style=\"text-align: right;\">1</td><td style=\"white-space: nowrap;\"><b>Ext</b>: Agent → <b>Obj</b>: Fluid → <b>Dep</b>: Manner → v → <b>INI</b>: Area</td><td style=\"text-align: left;\"><ul><li>She located them without difficulty and poured the cold liquid without spilling .</li></ul></td></tr>\n",
       "<tr><td style=\"text-align: right;\">23</td><td style=\"text-align: right;\">1</td><td style=\"white-space: nowrap;\"><b>Ext</b>: Agent → <b>Ext</b>: Agent → v → <b>Obj</b>: Fluid → <b>Dep</b>: Goal</td><td style=\"text-align: left;\"><ul><li>A milkman has been temporarily blinded by two men who sprayed superglue into his eyes .</li></ul></td></tr>\n",
       "<tr><td style=\"text-align: right;\">24</td><td style=\"text-align: right;\">1</td><td style=\"white-space: nowrap;\"><b>Ext</b>: Agent → v → <b>Obj</b>: Fluid → <b>Dep</b>: Path → <b>DNI</b>: Goal</td><td style=\"text-align: left;\"><ul><li>At that moment a youth sprinted past , tipped over her glass and splattered the tomato juice across the concrete .</li></ul></td></tr>\n",
       "<tr><td style=\"text-align: right;\">25</td><td style=\"text-align: right;\">1</td><td style=\"white-space: nowrap;\"><b>Ext</b>: Cause → v → <b>Dep</b>: Path → <b>Obj</b>: Fluid</td><td style=\"text-align: left;\"><ul><li>This in turn helps your body to pump out toxins and excess fluid .</li></ul></td></tr>\n",
       "<tr><td style=\"text-align: right;\">26</td><td style=\"text-align: right;\">1</td><td style=\"white-space: nowrap;\">v → <b>Obj</b>: Fluid → <b>DNI</b>: Agent → <b>INI</b>: Area</td><td style=\"text-align: left;\"><ul><li>Gabriel shook his head furiously ; then hurried back to the Mason as fast as he could go without spilling the liquor .</li></ul></td></tr>\n",
       "<tr><td style=\"text-align: right;\">27</td><td style=\"text-align: right;\">1</td><td style=\"white-space: nowrap;\"><b>Ext</b>: Agent → <b>Ext</b>: Agent → v → <b>Obj</b>: Fluid → <b>Dep</b>: Goal → <b>Dep</b>: Explanation</td><td style=\"text-align: left;\"><ul><li>This spotted sea hare ( above ) is a mollusc that can squirt a cloud of purple ink into the water in response to the approach of a predator .</li></ul></td></tr>\n",
       "<tr><td style=\"text-align: right;\">28</td><td style=\"text-align: right;\">1</td><td style=\"white-space: nowrap;\"><b>Ext</b>: Fluid → v → <b>Obj</b>: Area → <b>INI</b>: Agent</td><td style=\"text-align: left;\"><ul><li>And that was restrained compared with the green pantiles , Spanish ironwork , provenl shutters and stained-glass leaded windows spattered along the rest of the road .</li></ul></td></tr>\n",
       "<tr><td style=\"text-align: right;\">29</td><td style=\"text-align: right;\">1</td><td style=\"white-space: nowrap;\"><b>Ext</b>: Goal → <b>Dep</b>: Manner → v → <b>Dep</b>: Fluid → <b>CNI</b>: Cause</td><td style=\"text-align: left;\"><ul><li>Even at this distance I could see he was liberally spattered with yellow paint .</li></ul></td></tr>\n",
       "<tr><td style=\"text-align: right;\">30</td><td style=\"text-align: right;\">1</td><td style=\"white-space: nowrap;\"><b>Ext</b>: Cause → <b>Ext</b>: Cause → v → <b>Obj</b>: Goal → <b>Dep</b>: Fluid</td><td style=\"text-align: left;\"><ul><li>During the engagement A.A. bursts were exploding all round me , my port plane received a near miss which made a large hole and spattered the aircraft with splinters , which injured my left elbow . \"</li></ul></td></tr>\n",
       "<tr><td style=\"text-align: right;\">31</td><td style=\"text-align: right;\">1</td><td style=\"white-space: nowrap;\"><b>Ext</b>: Agent → v → <b>Obj</b>: Fluid → <b>DNI</b>: Area</td><td style=\"text-align: left;\"><ul><li>This scholar dribbling tea</li></ul></td></tr>\n",
       "<tr><td style=\"text-align: right;\">32</td><td style=\"text-align: right;\">1</td><td style=\"white-space: nowrap;\"><b>Ext</b>: Fluid → <b>Dep</b>: Time → v → <b>Dep</b>: Goal → <b>CNI</b>: Agent</td><td style=\"text-align: left;\"><ul><li>This way , millions of tonnes of waste each year could be pumped into the deep sea .</li></ul></td></tr>\n",
       "<tr><td style=\"text-align: right;\">33</td><td style=\"text-align: right;\">1</td><td style=\"white-space: nowrap;\"><b>Ext</b>: Agent → <b>Dep</b>: Manner → v → <b>Obj</b>: Fluid → <b>Dep</b>: Time → <b>INI</b>: Source</td><td style=\"text-align: left;\"><ul><li>They will probably pump more oil in coming months .</li></ul></td></tr>\n",
       "<tr><td style=\"text-align: right;\">34</td><td style=\"text-align: right;\">1</td><td style=\"white-space: nowrap;\"><b>Obj</b>: Fluid → <b>Ext</b>: Agent → v → <b>Dep</b>: Goal</td><td style=\"text-align: left;\"><ul><li>No matter how much Norse manure you splatter on to them , they 've a habit of coming up smelling of roses .</li></ul></td></tr>\n",
       "<tr><td style=\"text-align: right;\">35</td><td style=\"text-align: right;\">1</td><td style=\"white-space: nowrap;\"><b>Ext</b>: Fluid → <b>Ext</b>: Fluid → v → <b>Dep</b>: Goal → <b>CNI</b>: Agent</td><td style=\"text-align: left;\"><ul><li>Well all the sort of chemicals that are sprayed onto crops , are used for food preservation , and there are a wide range of them .</li></ul></td></tr>\n",
       "<tr><td style=\"text-align: right;\">36</td><td style=\"text-align: right;\">1</td><td style=\"white-space: nowrap;\"><b>Dep</b>: Time → <b>Ext</b>: Agent → v → <b>Obj</b>: Fluid → <b>Dep</b>: Means</td><td style=\"text-align: left;\"><ul><li>The wings close slightly and become more angular as the wind-speed increases ( E ) , when stooping for food , the gull spills air by raising its wings ( F ) .</li></ul></td></tr>\n",
       "<tr><td style=\"text-align: right;\">37</td><td style=\"text-align: right;\">1</td><td style=\"white-space: nowrap;\"><b>Ext</b>: Agent → v → <b>Obj</b>: Goal → <b>Dep</b>: Manner → <b>Obj</b>: Fluid</td><td style=\"text-align: left;\"><ul><li>We strap them to the plane 's fuselage and pump them full of compressed air until we achieve neutral buoyancy . \"</li></ul></td></tr>\n",
       "<tr><td style=\"text-align: right;\">38</td><td style=\"text-align: right;\">1</td><td style=\"white-space: nowrap;\"><b>Dep</b>: Time → <b>Ext</b>: Fluid → v → <b>Obj</b>: Goal → <b>CNI</b>: Agent</td><td style=\"text-align: left;\"><ul><li>Meanwhile the canal and stream are drained and every hour 7,000 gallons of brook water is pumped around the arches leaving them dry and workable .</li></ul></td></tr>\n",
       "<tr><td style=\"text-align: right;\">39</td><td style=\"text-align: right;\">1</td><td style=\"white-space: nowrap;\">v → <b>INI</b>: Agent → <b>INI</b>: Area</td><td style=\"text-align: left;\"><ul><li>Human relationships can not usually be kept within neat bounds by both partners , but tend to spill over in deep emotions of pain and anger .</li></ul></td></tr>\n",
       "<tr><td style=\"text-align: right;\">40</td><td style=\"text-align: right;\">1</td><td style=\"white-space: nowrap;\"><b>Ext</b>: Agent → <b>Ext</b>: Agent → v → <b>Obj</b>: Fluid → <b>Dep</b>: Goal → <b>Dep</b>: Time</td><td style=\"text-align: left;\"><ul><li>One thinks of the stories of child muggers bearing sharp knives , driven below by a greater police presence upstairs , of the Underground ` acid fiend \" who squirts hydrochloric acid on people 's legs before making his escape , of steamers , hip-hop-styled persons perpetrating economy-sized thefts .</li></ul></td></tr>\n",
       "<tr><td style=\"text-align: right;\">41</td><td style=\"text-align: right;\">1</td><td style=\"white-space: nowrap;\"><b>Ext</b>: Fluid → v → <b>Obj</b>: Goal → <b>CNI</b>: Cause</td><td style=\"text-align: left;\"><ul><li>The white star-flowers of wild coffee spattered the banks and the feathery ballerina skirts of kapok shimmered with raindrops .</li></ul></td></tr>\n",
       "<tr><td style=\"text-align: right;\">42</td><td style=\"text-align: right;\">1</td><td style=\"white-space: nowrap;\"><b>Ext</b>: Goal → <b>Dep</b>: Manner → v → <b>Dep</b>: Fluid → <b>INI</b>: Cause</td><td style=\"text-align: left;\"><ul><li>Bloxham looked down to see that his silk tie was comprehensively spattered with puke .</li></ul></td></tr>\n",
       "<tr><td style=\"text-align: right;\">43</td><td style=\"text-align: right;\">1</td><td style=\"white-space: nowrap;\">v → <b>Obj</b>: Fluid → <b>CNI</b>: Agent → <b>INI</b>: Area</td><td style=\"text-align: left;\"><ul><li>In this field , Iran 's research is concentrated in creating genes that produce toxins against insect pests ; improving the biological resistance of plants ; formulating new pesticides ; improving techniques of spraying or otherwise disseminating pesticides ; investigating the effects on native plant species after they have been introduced to various pests and diseases ; preventing the production of mycotoxins in crops ; producing plant viruses and their corresponding antiserums for an antiserum bank ; and manufacturing pheromones and hormones to combat arthropods that harm Iran 's agricultural industry .</li></ul></td></tr></table>"
      ],
      "text/plain": [
       "<IPython.core.display.HTML object>"
      ]
     },
     "execution_count": 28,
     "metadata": {},
     "output_type": "execute_result"
    }
   ],
   "source": [
    "HTML(t(sorted(group_patterns(gts).items(), key=lambda kv: len(kv[1]), reverse=True)))"
   ]
  },
  {
   "cell_type": "code",
   "execution_count": null,
   "metadata": {
    "collapsed": true
   },
   "outputs": [],
   "source": []
  }
 ],
 "metadata": {
  "kernelspec": {
   "display_name": "Python 3",
   "language": "python",
   "name": "python3"
  },
  "language_info": {
   "codemirror_mode": {
    "name": "ipython",
    "version": 3
   },
   "file_extension": ".py",
   "mimetype": "text/x-python",
   "name": "python",
   "nbconvert_exporter": "python",
   "pygments_lexer": "ipython3",
   "version": "3.5.2"
  },
  "widgets": {
   "state": {
    "77681f36e0084110905c01a634fb4ee5": {
     "views": [
      {
       "cell_index": 2
      }
     ]
    }
   },
   "version": "1.2.0"
  }
 },
 "nbformat": 4,
 "nbformat_minor": 1
}
